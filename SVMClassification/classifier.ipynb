{
 "cells": [
  {
   "cell_type": "code",
   "execution_count": 3,
   "metadata": {},
   "outputs": [],
   "source": [
    "import os\n",
    "import pandas as pd\n",
    "from sklearn.linear_model import LogisticRegression\n",
    "from sklearn.model_selection import cross_val_score, StratifiedKFold\n",
    "from sklearn.feature_extraction.text import TfidfVectorizer\n",
    "from sklearn.model_selection import train_test_split\n",
    "from sklearn.linear_model import LogisticRegression"
   ]
  },
  {
   "cell_type": "code",
   "execution_count": 4,
   "metadata": {},
   "outputs": [
    {
     "data": {
      "text/plain": [
       "'/Users/sauravanchlia/SWM/BotDetectionUsingTransformers/SVMClassification'"
      ]
     },
     "execution_count": 4,
     "metadata": {},
     "output_type": "execute_result"
    }
   ],
   "source": [
    "os.getcwd()"
   ]
  },
  {
   "cell_type": "code",
   "execution_count": 2,
   "metadata": {},
   "outputs": [
    {
     "ename": "FileNotFoundError",
     "evalue": "[Errno 2] No such file or directory: 'dataset.csv'",
     "output_type": "error",
     "traceback": [
      "\u001b[0;31m---------------------------------------------------------------------------\u001b[0m",
      "\u001b[0;31mFileNotFoundError\u001b[0m                         Traceback (most recent call last)",
      "Cell \u001b[0;32mIn[2], line 1\u001b[0m\n\u001b[0;32m----> 1\u001b[0m df \u001b[39m=\u001b[39m pd\u001b[39m.\u001b[39;49mread_csv(\u001b[39m\"\u001b[39;49m\u001b[39mdataset.csv\u001b[39;49m\u001b[39m\"\u001b[39;49m)\n",
      "File \u001b[0;32m~/SWM/BotDetectionUsingTransformers/bot/lib/python3.11/site-packages/pandas/io/parsers/readers.py:912\u001b[0m, in \u001b[0;36mread_csv\u001b[0;34m(filepath_or_buffer, sep, delimiter, header, names, index_col, usecols, dtype, engine, converters, true_values, false_values, skipinitialspace, skiprows, skipfooter, nrows, na_values, keep_default_na, na_filter, verbose, skip_blank_lines, parse_dates, infer_datetime_format, keep_date_col, date_parser, date_format, dayfirst, cache_dates, iterator, chunksize, compression, thousands, decimal, lineterminator, quotechar, quoting, doublequote, escapechar, comment, encoding, encoding_errors, dialect, on_bad_lines, delim_whitespace, low_memory, memory_map, float_precision, storage_options, dtype_backend)\u001b[0m\n\u001b[1;32m    899\u001b[0m kwds_defaults \u001b[39m=\u001b[39m _refine_defaults_read(\n\u001b[1;32m    900\u001b[0m     dialect,\n\u001b[1;32m    901\u001b[0m     delimiter,\n\u001b[0;32m   (...)\u001b[0m\n\u001b[1;32m    908\u001b[0m     dtype_backend\u001b[39m=\u001b[39mdtype_backend,\n\u001b[1;32m    909\u001b[0m )\n\u001b[1;32m    910\u001b[0m kwds\u001b[39m.\u001b[39mupdate(kwds_defaults)\n\u001b[0;32m--> 912\u001b[0m \u001b[39mreturn\u001b[39;00m _read(filepath_or_buffer, kwds)\n",
      "File \u001b[0;32m~/SWM/BotDetectionUsingTransformers/bot/lib/python3.11/site-packages/pandas/io/parsers/readers.py:577\u001b[0m, in \u001b[0;36m_read\u001b[0;34m(filepath_or_buffer, kwds)\u001b[0m\n\u001b[1;32m    574\u001b[0m _validate_names(kwds\u001b[39m.\u001b[39mget(\u001b[39m\"\u001b[39m\u001b[39mnames\u001b[39m\u001b[39m\"\u001b[39m, \u001b[39mNone\u001b[39;00m))\n\u001b[1;32m    576\u001b[0m \u001b[39m# Create the parser.\u001b[39;00m\n\u001b[0;32m--> 577\u001b[0m parser \u001b[39m=\u001b[39m TextFileReader(filepath_or_buffer, \u001b[39m*\u001b[39;49m\u001b[39m*\u001b[39;49mkwds)\n\u001b[1;32m    579\u001b[0m \u001b[39mif\u001b[39;00m chunksize \u001b[39mor\u001b[39;00m iterator:\n\u001b[1;32m    580\u001b[0m     \u001b[39mreturn\u001b[39;00m parser\n",
      "File \u001b[0;32m~/SWM/BotDetectionUsingTransformers/bot/lib/python3.11/site-packages/pandas/io/parsers/readers.py:1407\u001b[0m, in \u001b[0;36mTextFileReader.__init__\u001b[0;34m(self, f, engine, **kwds)\u001b[0m\n\u001b[1;32m   1404\u001b[0m     \u001b[39mself\u001b[39m\u001b[39m.\u001b[39moptions[\u001b[39m\"\u001b[39m\u001b[39mhas_index_names\u001b[39m\u001b[39m\"\u001b[39m] \u001b[39m=\u001b[39m kwds[\u001b[39m\"\u001b[39m\u001b[39mhas_index_names\u001b[39m\u001b[39m\"\u001b[39m]\n\u001b[1;32m   1406\u001b[0m \u001b[39mself\u001b[39m\u001b[39m.\u001b[39mhandles: IOHandles \u001b[39m|\u001b[39m \u001b[39mNone\u001b[39;00m \u001b[39m=\u001b[39m \u001b[39mNone\u001b[39;00m\n\u001b[0;32m-> 1407\u001b[0m \u001b[39mself\u001b[39m\u001b[39m.\u001b[39m_engine \u001b[39m=\u001b[39m \u001b[39mself\u001b[39;49m\u001b[39m.\u001b[39;49m_make_engine(f, \u001b[39mself\u001b[39;49m\u001b[39m.\u001b[39;49mengine)\n",
      "File \u001b[0;32m~/SWM/BotDetectionUsingTransformers/bot/lib/python3.11/site-packages/pandas/io/parsers/readers.py:1661\u001b[0m, in \u001b[0;36mTextFileReader._make_engine\u001b[0;34m(self, f, engine)\u001b[0m\n\u001b[1;32m   1659\u001b[0m     \u001b[39mif\u001b[39;00m \u001b[39m\"\u001b[39m\u001b[39mb\u001b[39m\u001b[39m\"\u001b[39m \u001b[39mnot\u001b[39;00m \u001b[39min\u001b[39;00m mode:\n\u001b[1;32m   1660\u001b[0m         mode \u001b[39m+\u001b[39m\u001b[39m=\u001b[39m \u001b[39m\"\u001b[39m\u001b[39mb\u001b[39m\u001b[39m\"\u001b[39m\n\u001b[0;32m-> 1661\u001b[0m \u001b[39mself\u001b[39m\u001b[39m.\u001b[39mhandles \u001b[39m=\u001b[39m get_handle(\n\u001b[1;32m   1662\u001b[0m     f,\n\u001b[1;32m   1663\u001b[0m     mode,\n\u001b[1;32m   1664\u001b[0m     encoding\u001b[39m=\u001b[39;49m\u001b[39mself\u001b[39;49m\u001b[39m.\u001b[39;49moptions\u001b[39m.\u001b[39;49mget(\u001b[39m\"\u001b[39;49m\u001b[39mencoding\u001b[39;49m\u001b[39m\"\u001b[39;49m, \u001b[39mNone\u001b[39;49;00m),\n\u001b[1;32m   1665\u001b[0m     compression\u001b[39m=\u001b[39;49m\u001b[39mself\u001b[39;49m\u001b[39m.\u001b[39;49moptions\u001b[39m.\u001b[39;49mget(\u001b[39m\"\u001b[39;49m\u001b[39mcompression\u001b[39;49m\u001b[39m\"\u001b[39;49m, \u001b[39mNone\u001b[39;49;00m),\n\u001b[1;32m   1666\u001b[0m     memory_map\u001b[39m=\u001b[39;49m\u001b[39mself\u001b[39;49m\u001b[39m.\u001b[39;49moptions\u001b[39m.\u001b[39;49mget(\u001b[39m\"\u001b[39;49m\u001b[39mmemory_map\u001b[39;49m\u001b[39m\"\u001b[39;49m, \u001b[39mFalse\u001b[39;49;00m),\n\u001b[1;32m   1667\u001b[0m     is_text\u001b[39m=\u001b[39;49mis_text,\n\u001b[1;32m   1668\u001b[0m     errors\u001b[39m=\u001b[39;49m\u001b[39mself\u001b[39;49m\u001b[39m.\u001b[39;49moptions\u001b[39m.\u001b[39;49mget(\u001b[39m\"\u001b[39;49m\u001b[39mencoding_errors\u001b[39;49m\u001b[39m\"\u001b[39;49m, \u001b[39m\"\u001b[39;49m\u001b[39mstrict\u001b[39;49m\u001b[39m\"\u001b[39;49m),\n\u001b[1;32m   1669\u001b[0m     storage_options\u001b[39m=\u001b[39;49m\u001b[39mself\u001b[39;49m\u001b[39m.\u001b[39;49moptions\u001b[39m.\u001b[39;49mget(\u001b[39m\"\u001b[39;49m\u001b[39mstorage_options\u001b[39;49m\u001b[39m\"\u001b[39;49m, \u001b[39mNone\u001b[39;49;00m),\n\u001b[1;32m   1670\u001b[0m )\n\u001b[1;32m   1671\u001b[0m \u001b[39massert\u001b[39;00m \u001b[39mself\u001b[39m\u001b[39m.\u001b[39mhandles \u001b[39mis\u001b[39;00m \u001b[39mnot\u001b[39;00m \u001b[39mNone\u001b[39;00m\n\u001b[1;32m   1672\u001b[0m f \u001b[39m=\u001b[39m \u001b[39mself\u001b[39m\u001b[39m.\u001b[39mhandles\u001b[39m.\u001b[39mhandle\n",
      "File \u001b[0;32m~/SWM/BotDetectionUsingTransformers/bot/lib/python3.11/site-packages/pandas/io/common.py:859\u001b[0m, in \u001b[0;36mget_handle\u001b[0;34m(path_or_buf, mode, encoding, compression, memory_map, is_text, errors, storage_options)\u001b[0m\n\u001b[1;32m    854\u001b[0m \u001b[39melif\u001b[39;00m \u001b[39misinstance\u001b[39m(handle, \u001b[39mstr\u001b[39m):\n\u001b[1;32m    855\u001b[0m     \u001b[39m# Check whether the filename is to be opened in binary mode.\u001b[39;00m\n\u001b[1;32m    856\u001b[0m     \u001b[39m# Binary mode does not support 'encoding' and 'newline'.\u001b[39;00m\n\u001b[1;32m    857\u001b[0m     \u001b[39mif\u001b[39;00m ioargs\u001b[39m.\u001b[39mencoding \u001b[39mand\u001b[39;00m \u001b[39m\"\u001b[39m\u001b[39mb\u001b[39m\u001b[39m\"\u001b[39m \u001b[39mnot\u001b[39;00m \u001b[39min\u001b[39;00m ioargs\u001b[39m.\u001b[39mmode:\n\u001b[1;32m    858\u001b[0m         \u001b[39m# Encoding\u001b[39;00m\n\u001b[0;32m--> 859\u001b[0m         handle \u001b[39m=\u001b[39m \u001b[39mopen\u001b[39;49m(\n\u001b[1;32m    860\u001b[0m             handle,\n\u001b[1;32m    861\u001b[0m             ioargs\u001b[39m.\u001b[39;49mmode,\n\u001b[1;32m    862\u001b[0m             encoding\u001b[39m=\u001b[39;49mioargs\u001b[39m.\u001b[39;49mencoding,\n\u001b[1;32m    863\u001b[0m             errors\u001b[39m=\u001b[39;49merrors,\n\u001b[1;32m    864\u001b[0m             newline\u001b[39m=\u001b[39;49m\u001b[39m\"\u001b[39;49m\u001b[39m\"\u001b[39;49m,\n\u001b[1;32m    865\u001b[0m         )\n\u001b[1;32m    866\u001b[0m     \u001b[39melse\u001b[39;00m:\n\u001b[1;32m    867\u001b[0m         \u001b[39m# Binary mode\u001b[39;00m\n\u001b[1;32m    868\u001b[0m         handle \u001b[39m=\u001b[39m \u001b[39mopen\u001b[39m(handle, ioargs\u001b[39m.\u001b[39mmode)\n",
      "\u001b[0;31mFileNotFoundError\u001b[0m: [Errno 2] No such file or directory: 'dataset.csv'"
     ]
    }
   ],
   "source": [
    "df = pd.read_csv(\"../dataset.csv\")"
   ]
  },
  {
   "cell_type": "code",
   "execution_count": 6,
   "metadata": {},
   "outputs": [
    {
     "data": {
      "text/html": [
       "<div>\n",
       "<style scoped>\n",
       "    .dataframe tbody tr th:only-of-type {\n",
       "        vertical-align: middle;\n",
       "    }\n",
       "\n",
       "    .dataframe tbody tr th {\n",
       "        vertical-align: top;\n",
       "    }\n",
       "\n",
       "    .dataframe thead th {\n",
       "        text-align: right;\n",
       "    }\n",
       "</style>\n",
       "<table border=\"1\" class=\"dataframe\">\n",
       "  <thead>\n",
       "    <tr style=\"text-align: right;\">\n",
       "      <th></th>\n",
       "      <th>id</th>\n",
       "      <th>id_str</th>\n",
       "      <th>screen_name</th>\n",
       "      <th>location</th>\n",
       "      <th>description</th>\n",
       "      <th>url</th>\n",
       "      <th>followers_count</th>\n",
       "      <th>friends_count</th>\n",
       "      <th>listedcount</th>\n",
       "      <th>created_at</th>\n",
       "      <th>favourites_count</th>\n",
       "      <th>verified</th>\n",
       "      <th>statuses_count</th>\n",
       "      <th>lang</th>\n",
       "      <th>status</th>\n",
       "      <th>default_profile</th>\n",
       "      <th>default_profile_image</th>\n",
       "      <th>has_extended_profile</th>\n",
       "      <th>name</th>\n",
       "      <th>bot</th>\n",
       "    </tr>\n",
       "  </thead>\n",
       "  <tbody>\n",
       "    <tr>\n",
       "      <th>0</th>\n",
       "      <td>3.982732e+09</td>\n",
       "      <td>3982731976</td>\n",
       "      <td>mcgucket_bot</td>\n",
       "      <td>NaN</td>\n",
       "      <td>A bot that tweets every line said by Fiddlefor...</td>\n",
       "      <td>NaN</td>\n",
       "      <td>1129</td>\n",
       "      <td>7</td>\n",
       "      <td>2</td>\n",
       "      <td>Sat Oct 17 22:35:31 +0000 2015</td>\n",
       "      <td>0</td>\n",
       "      <td>False</td>\n",
       "      <td>23557</td>\n",
       "      <td>en</td>\n",
       "      <td>{'retweeted': False, 'is_quote_status': False,...</td>\n",
       "      <td>False</td>\n",
       "      <td>False</td>\n",
       "      <td>False</td>\n",
       "      <td>McGucket bot</td>\n",
       "      <td>1</td>\n",
       "    </tr>\n",
       "    <tr>\n",
       "      <th>1</th>\n",
       "      <td>8.410000e+17</td>\n",
       "      <td>8.41E+17</td>\n",
       "      <td>BowieK66</td>\n",
       "      <td>NaN</td>\n",
       "      <td>NaN</td>\n",
       "      <td>NaN</td>\n",
       "      <td>0</td>\n",
       "      <td>22</td>\n",
       "      <td>0</td>\n",
       "      <td>13/03/2017 22:21</td>\n",
       "      <td>0</td>\n",
       "      <td>False</td>\n",
       "      <td>1</td>\n",
       "      <td>en</td>\n",
       "      <td>Status(_api=&lt;tweepy.api.API object at 0x101927...</td>\n",
       "      <td>True</td>\n",
       "      <td>True</td>\n",
       "      <td>False</td>\n",
       "      <td>MJ Kuhn</td>\n",
       "      <td>1</td>\n",
       "    </tr>\n",
       "    <tr>\n",
       "      <th>2</th>\n",
       "      <td>2.768375e+09</td>\n",
       "      <td>2768374981</td>\n",
       "      <td>ducknoteprice</td>\n",
       "      <td>NaN</td>\n",
       "      <td>NaN</td>\n",
       "      <td>NaN</td>\n",
       "      <td>3</td>\n",
       "      <td>0</td>\n",
       "      <td>3</td>\n",
       "      <td>Mon Aug 25 23:17:59 +0000 2014</td>\n",
       "      <td>0</td>\n",
       "      <td>False</td>\n",
       "      <td>1050</td>\n",
       "      <td>en</td>\n",
       "      <td>{'created_at': 'Fri Feb 26 17:01:15 +0000 2016...</td>\n",
       "      <td>True</td>\n",
       "      <td>False</td>\n",
       "      <td>False</td>\n",
       "      <td>duckNote</td>\n",
       "      <td>1</td>\n",
       "    </tr>\n",
       "    <tr>\n",
       "      <th>3</th>\n",
       "      <td>3.304189e+09</td>\n",
       "      <td>3304189373</td>\n",
       "      <td>robotrecipes</td>\n",
       "      <td>robot kitchen</td>\n",
       "      <td>tasty recipes for robot // not for human // a ...</td>\n",
       "      <td>http://t.co/PdagJGqVMR</td>\n",
       "      <td>505</td>\n",
       "      <td>13</td>\n",
       "      <td>49</td>\n",
       "      <td>Sat May 30 23:42:16 +0000 2015</td>\n",
       "      <td>0</td>\n",
       "      <td>False</td>\n",
       "      <td>5109</td>\n",
       "      <td>en</td>\n",
       "      <td>{u'contributors': None, u'truncated': False, u...</td>\n",
       "      <td>False</td>\n",
       "      <td>False</td>\n",
       "      <td>False</td>\n",
       "      <td>robot recipes</td>\n",
       "      <td>1</td>\n",
       "    </tr>\n",
       "    <tr>\n",
       "      <th>4</th>\n",
       "      <td>3.224289e+09</td>\n",
       "      <td>3224289024</td>\n",
       "      <td>everyumlaut</td>\n",
       "      <td>NaN</td>\n",
       "      <td>bot by @dbaker_h</td>\n",
       "      <td>NaN</td>\n",
       "      <td>15</td>\n",
       "      <td>0</td>\n",
       "      <td>11</td>\n",
       "      <td>Sat May 23 14:39:21 +0000 2015</td>\n",
       "      <td>0</td>\n",
       "      <td>False</td>\n",
       "      <td>31365</td>\n",
       "      <td>en-gb</td>\n",
       "      <td>{u'contributors': None, u'truncated': False, u...</td>\n",
       "      <td>True</td>\n",
       "      <td>False</td>\n",
       "      <td>False</td>\n",
       "      <td>ÌÇvÌÇrÌÀ Ì_mlÌ_Ì_¼Ñ</td>\n",
       "      <td>1</td>\n",
       "    </tr>\n",
       "    <tr>\n",
       "      <th>5</th>\n",
       "      <td>7.300000e+17</td>\n",
       "      <td>7.30E+17</td>\n",
       "      <td>glossatory</td>\n",
       "      <td>Australah</td>\n",
       "      <td>SOCIAL ON GLOSSATORY: the branch of the consid...</td>\n",
       "      <td>https://t.co/hcUNcUdlcq</td>\n",
       "      <td>16</td>\n",
       "      <td>1</td>\n",
       "      <td>4</td>\n",
       "      <td>5/11/2016 5:45</td>\n",
       "      <td>0</td>\n",
       "      <td>False</td>\n",
       "      <td>1832</td>\n",
       "      <td>en</td>\n",
       "      <td>Status(in_reply_to_user_id=None, favorited=Fal...</td>\n",
       "      <td>False</td>\n",
       "      <td>False</td>\n",
       "      <td>False</td>\n",
       "      <td>GLOSSATORY</td>\n",
       "      <td>1</td>\n",
       "    </tr>\n",
       "    <tr>\n",
       "      <th>6</th>\n",
       "      <td>8.200000e+17</td>\n",
       "      <td>8.20E+17</td>\n",
       "      <td>Fancypants6047</td>\n",
       "      <td>vancouver</td>\n",
       "      <td>NaN</td>\n",
       "      <td>NaN</td>\n",
       "      <td>41</td>\n",
       "      <td>394</td>\n",
       "      <td>0</td>\n",
       "      <td>13/01/2017 19:37</td>\n",
       "      <td>3</td>\n",
       "      <td>False</td>\n",
       "      <td>4</td>\n",
       "      <td>en</td>\n",
       "      <td>Status(_api=&lt;tweepy.api.API object at 0x101927...</td>\n",
       "      <td>True</td>\n",
       "      <td>False</td>\n",
       "      <td>True</td>\n",
       "      <td>Fancypants</td>\n",
       "      <td>1</td>\n",
       "    </tr>\n",
       "    <tr>\n",
       "      <th>7</th>\n",
       "      <td>2.602217e+09</td>\n",
       "      <td>2602217174</td>\n",
       "      <td>Hedgehogize</td>\n",
       "      <td>Moebius</td>\n",
       "      <td>@Hedgehogize me or @Hedgehogize NAME to unlock...</td>\n",
       "      <td>http://t.co/a1UvEiAl3u</td>\n",
       "      <td>549</td>\n",
       "      <td>370</td>\n",
       "      <td>12</td>\n",
       "      <td>Thu Jul 03 20:37:48 +0000 2014</td>\n",
       "      <td>12</td>\n",
       "      <td>False</td>\n",
       "      <td>4658</td>\n",
       "      <td>en</td>\n",
       "      <td>{u'contributors': None, u'truncated': False, u...</td>\n",
       "      <td>False</td>\n",
       "      <td>False</td>\n",
       "      <td>False</td>\n",
       "      <td>YOU the Hedgehog</td>\n",
       "      <td>1</td>\n",
       "    </tr>\n",
       "    <tr>\n",
       "      <th>8</th>\n",
       "      <td>8.330000e+17</td>\n",
       "      <td>8.33E+17</td>\n",
       "      <td>jamieph93986621</td>\n",
       "      <td>NaN</td>\n",
       "      <td>I wasn't bor ysterday,  was born tomorrow</td>\n",
       "      <td>NaN</td>\n",
       "      <td>0</td>\n",
       "      <td>60</td>\n",
       "      <td>0</td>\n",
       "      <td>Sun Feb 19 03:47:42 +0000 2017</td>\n",
       "      <td>0</td>\n",
       "      <td>False</td>\n",
       "      <td>10</td>\n",
       "      <td>en</td>\n",
       "      <td>{\"created_at\": \"Mon Mar 13 02:55:10 +0000 2017...</td>\n",
       "      <td>True</td>\n",
       "      <td>False</td>\n",
       "      <td>False</td>\n",
       "      <td>Jamie Phillips</td>\n",
       "      <td>1</td>\n",
       "    </tr>\n",
       "    <tr>\n",
       "      <th>9</th>\n",
       "      <td>8.250000e+17</td>\n",
       "      <td>8.25E+17</td>\n",
       "      <td>NothemDonella</td>\n",
       "      <td>NaN</td>\n",
       "      <td>Your diac No</td>\n",
       "      <td>NaN</td>\n",
       "      <td>0</td>\n",
       "      <td>43</td>\n",
       "      <td>4</td>\n",
       "      <td>Fri Jan 27 15:51:34 +0000 2017</td>\n",
       "      <td>48</td>\n",
       "      <td>False</td>\n",
       "      <td>86</td>\n",
       "      <td>en</td>\n",
       "      <td>{\"created_at\": \"Mon Mar 13 02:52:13 +0000 2017...</td>\n",
       "      <td>True</td>\n",
       "      <td>False</td>\n",
       "      <td>False</td>\n",
       "      <td>Donella Nothem</td>\n",
       "      <td>1</td>\n",
       "    </tr>\n",
       "  </tbody>\n",
       "</table>\n",
       "</div>"
      ],
      "text/plain": [
       "             id      id_str      screen_name       location   \n",
       "0  3.982732e+09  3982731976     mcgucket_bot            NaN  \\\n",
       "1  8.410000e+17    8.41E+17         BowieK66            NaN   \n",
       "2  2.768375e+09  2768374981    ducknoteprice            NaN   \n",
       "3  3.304189e+09  3304189373     robotrecipes  robot kitchen   \n",
       "4  3.224289e+09  3224289024      everyumlaut            NaN   \n",
       "5  7.300000e+17    7.30E+17       glossatory      Australah   \n",
       "6  8.200000e+17    8.20E+17   Fancypants6047      vancouver   \n",
       "7  2.602217e+09  2602217174      Hedgehogize        Moebius   \n",
       "8  8.330000e+17    8.33E+17  jamieph93986621            NaN   \n",
       "9  8.250000e+17    8.25E+17    NothemDonella            NaN   \n",
       "\n",
       "                                         description                      url   \n",
       "0  A bot that tweets every line said by Fiddlefor...                      NaN  \\\n",
       "1                                                NaN                      NaN   \n",
       "2                                                NaN                      NaN   \n",
       "3  tasty recipes for robot // not for human // a ...   http://t.co/PdagJGqVMR   \n",
       "4                                   bot by @dbaker_h                      NaN   \n",
       "5  SOCIAL ON GLOSSATORY: the branch of the consid...  https://t.co/hcUNcUdlcq   \n",
       "6                                                NaN                      NaN   \n",
       "7  @Hedgehogize me or @Hedgehogize NAME to unlock...   http://t.co/a1UvEiAl3u   \n",
       "8          I wasn't bor ysterday,  was born tomorrow                      NaN   \n",
       "9                                       Your diac No                      NaN   \n",
       "\n",
       "   followers_count  friends_count  listedcount   \n",
       "0             1129              7            2  \\\n",
       "1                0             22            0   \n",
       "2                3              0            3   \n",
       "3              505             13           49   \n",
       "4               15              0           11   \n",
       "5               16              1            4   \n",
       "6               41            394            0   \n",
       "7              549            370           12   \n",
       "8                0             60            0   \n",
       "9                0             43            4   \n",
       "\n",
       "                       created_at  favourites_count  verified  statuses_count   \n",
       "0  Sat Oct 17 22:35:31 +0000 2015                 0     False           23557  \\\n",
       "1                13/03/2017 22:21                 0     False               1   \n",
       "2  Mon Aug 25 23:17:59 +0000 2014                 0     False            1050   \n",
       "3  Sat May 30 23:42:16 +0000 2015                 0     False            5109   \n",
       "4  Sat May 23 14:39:21 +0000 2015                 0     False           31365   \n",
       "5                  5/11/2016 5:45                 0     False            1832   \n",
       "6                13/01/2017 19:37                 3     False               4   \n",
       "7  Thu Jul 03 20:37:48 +0000 2014                12     False            4658   \n",
       "8  Sun Feb 19 03:47:42 +0000 2017                 0     False              10   \n",
       "9  Fri Jan 27 15:51:34 +0000 2017                48     False              86   \n",
       "\n",
       "    lang                                             status  default_profile   \n",
       "0     en  {'retweeted': False, 'is_quote_status': False,...            False  \\\n",
       "1     en  Status(_api=<tweepy.api.API object at 0x101927...             True   \n",
       "2     en  {'created_at': 'Fri Feb 26 17:01:15 +0000 2016...             True   \n",
       "3     en  {u'contributors': None, u'truncated': False, u...            False   \n",
       "4  en-gb  {u'contributors': None, u'truncated': False, u...             True   \n",
       "5     en  Status(in_reply_to_user_id=None, favorited=Fal...            False   \n",
       "6     en  Status(_api=<tweepy.api.API object at 0x101927...             True   \n",
       "7     en  {u'contributors': None, u'truncated': False, u...            False   \n",
       "8     en  {\"created_at\": \"Mon Mar 13 02:55:10 +0000 2017...             True   \n",
       "9     en  {\"created_at\": \"Mon Mar 13 02:52:13 +0000 2017...             True   \n",
       "\n",
       "   default_profile_image has_extended_profile                  name  bot  \n",
       "0                  False                False          McGucket bot    1  \n",
       "1                   True                False               MJ Kuhn    1  \n",
       "2                  False                False              duckNote    1  \n",
       "3                  False                False         robot recipes    1  \n",
       "4                  False                False  ÌÇvÌÇrÌÀ Ì_mlÌ_Ì_¼Ñ    1  \n",
       "5                  False                False            GLOSSATORY    1  \n",
       "6                  False                 True            Fancypants    1  \n",
       "7                  False                False      YOU the Hedgehog    1  \n",
       "8                  False                False        Jamie Phillips    1  \n",
       "9                  False                False        Donella Nothem    1  "
      ]
     },
     "execution_count": 6,
     "metadata": {},
     "output_type": "execute_result"
    }
   ],
   "source": [
    "df.head(10)"
   ]
  },
  {
   "cell_type": "code",
   "execution_count": 7,
   "metadata": {},
   "outputs": [
    {
     "name": "stdout",
     "output_type": "stream",
     "text": [
      "dict_keys(['retweeted', 'is_quote_status', 'favorite_count', 'retweet_count', 'place', 'in_reply_to_status_id', 'entities', 'geo', 'id_str', 'in_reply_to_screen_name', 'text', 'in_reply_to_user_id_str', 'source', 'truncated', 'in_reply_to_user_id', 'created_at', 'contributors', 'in_reply_to_status_id_str', 'lang', 'id', 'favorited', 'coordinates'])\n"
     ]
    }
   ],
   "source": [
    "print(ast.literal_eval(df.iloc[0][\"status\"]).keys())"
   ]
  },
  {
   "cell_type": "code",
   "execution_count": 8,
   "metadata": {},
   "outputs": [
    {
     "name": "stdout",
     "output_type": "stream",
     "text": [
      "dict_values([False, False, 0, 0, None, None, {'urls': [], 'user_mentions': [], 'hashtags': [], 'symbols': []}, None, '841319282986237952', None, \"It's happening! The End Times! When that machine activates... I gotta get outta town!\", None, '<a href=\"http://twittbot.net/\" rel=\"nofollow\">twittbot.net</a>', False, None, 'Mon Mar 13 16:05:22 +0000 2017', None, None, 'en', 841319282986237952, False, None])\n"
     ]
    }
   ],
   "source": [
    "print(ast.literal_eval(df.iloc[0][\"status\"]).values())"
   ]
  },
  {
   "cell_type": "code",
   "execution_count": 9,
   "metadata": {},
   "outputs": [
    {
     "data": {
      "text/plain": [
       "bot\n",
       "0    1176\n",
       "1    1056\n",
       "Name: count, dtype: int64"
      ]
     },
     "execution_count": 9,
     "metadata": {},
     "output_type": "execute_result"
    }
   ],
   "source": [
    "df.bot.value_counts()"
   ]
  },
  {
   "cell_type": "code",
   "execution_count": 10,
   "metadata": {},
   "outputs": [
    {
     "data": {
      "text/plain": [
       "(2232, 20)"
      ]
     },
     "execution_count": 10,
     "metadata": {},
     "output_type": "execute_result"
    }
   ],
   "source": [
    "df.shape"
   ]
  },
  {
   "cell_type": "code",
   "execution_count": 11,
   "metadata": {},
   "outputs": [],
   "source": [
    "tweet, followers_count, friends_count, verified, statuses_count, default_profile, default_profile_image, has_extended_profile,  bot = [], [], [], [], [], [], [], [], []\n",
    "\n",
    "for i, row in df.iterrows():\n",
    "    try:\n",
    "        _text = ast.literal_eval(row[\"status\"])[\"text\"]\n",
    "        tweet.append(_text)\n",
    "        followers_count.append(row[\"followers_count\"])\n",
    "        friends_count.append(row[\"friends_count\"])\n",
    "        verified.append(row[\"verified\"])\n",
    "        statuses_count.append(row[\"statuses_count\"])\n",
    "        default_profile.append(row[\"default_profile\"])\n",
    "        default_profile_image.append(row[\"default_profile_image\"])\n",
    "        has_extended_profile.append(row[\"has_extended_profile\"])\n",
    "        bot.append(row[\"bot\"])\n",
    "    except Exception as e:\n",
    "        pass\n",
    "    "
   ]
  },
  {
   "cell_type": "code",
   "execution_count": 12,
   "metadata": {},
   "outputs": [],
   "source": [
    "df_clean = pd.DataFrame(zip(tweet, followers_count, friends_count, verified, statuses_count, default_profile, default_profile_image, has_extended_profile,  bot),\n",
    "                            columns=[\"tweet\", \"followers_count\", \"friends_count\", \"verified\", \"statuses_count\", \"default_profile\", \"default_profile_image\", \"has_extended_profile\",  \"bot\" ])"
   ]
  },
  {
   "cell_type": "code",
   "execution_count": 13,
   "metadata": {},
   "outputs": [
    {
     "data": {
      "text/plain": [
       "bot\n",
       "0    646\n",
       "1    549\n",
       "Name: count, dtype: int64"
      ]
     },
     "execution_count": 13,
     "metadata": {},
     "output_type": "execute_result"
    }
   ],
   "source": [
    "df_clean.bot.value_counts()"
   ]
  },
  {
   "cell_type": "code",
   "execution_count": 14,
   "metadata": {},
   "outputs": [
    {
     "data": {
      "text/html": [
       "<div>\n",
       "<style scoped>\n",
       "    .dataframe tbody tr th:only-of-type {\n",
       "        vertical-align: middle;\n",
       "    }\n",
       "\n",
       "    .dataframe tbody tr th {\n",
       "        vertical-align: top;\n",
       "    }\n",
       "\n",
       "    .dataframe thead th {\n",
       "        text-align: right;\n",
       "    }\n",
       "</style>\n",
       "<table border=\"1\" class=\"dataframe\">\n",
       "  <thead>\n",
       "    <tr style=\"text-align: right;\">\n",
       "      <th></th>\n",
       "      <th>tweet</th>\n",
       "      <th>followers_count</th>\n",
       "      <th>friends_count</th>\n",
       "      <th>verified</th>\n",
       "      <th>statuses_count</th>\n",
       "      <th>default_profile</th>\n",
       "      <th>default_profile_image</th>\n",
       "      <th>has_extended_profile</th>\n",
       "      <th>bot</th>\n",
       "    </tr>\n",
       "  </thead>\n",
       "  <tbody>\n",
       "    <tr>\n",
       "      <th>0</th>\n",
       "      <td>It's happening! The End Times! When that machi...</td>\n",
       "      <td>1129</td>\n",
       "      <td>7</td>\n",
       "      <td>False</td>\n",
       "      <td>23557</td>\n",
       "      <td>False</td>\n",
       "      <td>False</td>\n",
       "      <td>False</td>\n",
       "      <td>1</td>\n",
       "    </tr>\n",
       "    <tr>\n",
       "      <th>1</th>\n",
       "      <td>The average price of duckNote across all excha...</td>\n",
       "      <td>3</td>\n",
       "      <td>0</td>\n",
       "      <td>False</td>\n",
       "      <td>1050</td>\n",
       "      <td>True</td>\n",
       "      <td>False</td>\n",
       "      <td>False</td>\n",
       "      <td>1</td>\n",
       "    </tr>\n",
       "    <tr>\n",
       "      <th>2</th>\n",
       "      <td>Gooseberry Plush: Stir fermium and modified at...</td>\n",
       "      <td>505</td>\n",
       "      <td>13</td>\n",
       "      <td>False</td>\n",
       "      <td>5109</td>\n",
       "      <td>False</td>\n",
       "      <td>False</td>\n",
       "      <td>False</td>\n",
       "      <td>1</td>\n",
       "    </tr>\n",
       "    <tr>\n",
       "      <th>3</th>\n",
       "      <td>ën̈d̈g̈äm̈ës̈</td>\n",
       "      <td>15</td>\n",
       "      <td>0</td>\n",
       "      <td>False</td>\n",
       "      <td>31365</td>\n",
       "      <td>True</td>\n",
       "      <td>False</td>\n",
       "      <td>False</td>\n",
       "      <td>1</td>\n",
       "    </tr>\n",
       "    <tr>\n",
       "      <th>4</th>\n",
       "      <td>@frickIIILLLYYY Oh, wow! Daddy the Hedgehog is...</td>\n",
       "      <td>549</td>\n",
       "      <td>370</td>\n",
       "      <td>False</td>\n",
       "      <td>4658</td>\n",
       "      <td>False</td>\n",
       "      <td>False</td>\n",
       "      <td>False</td>\n",
       "      <td>1</td>\n",
       "    </tr>\n",
       "    <tr>\n",
       "      <th>5</th>\n",
       "      <td>Bored.. I need something to do someone hmu</td>\n",
       "      <td>0</td>\n",
       "      <td>60</td>\n",
       "      <td>False</td>\n",
       "      <td>10</td>\n",
       "      <td>True</td>\n",
       "      <td>False</td>\n",
       "      <td>False</td>\n",
       "      <td>1</td>\n",
       "    </tr>\n",
       "    <tr>\n",
       "      <th>6</th>\n",
       "      <td>RT @theviralmeme: me: have a good break\\n\\nstu...</td>\n",
       "      <td>0</td>\n",
       "      <td>43</td>\n",
       "      <td>False</td>\n",
       "      <td>86</td>\n",
       "      <td>True</td>\n",
       "      <td>False</td>\n",
       "      <td>False</td>\n",
       "      <td>1</td>\n",
       "    </tr>\n",
       "    <tr>\n",
       "      <th>7</th>\n",
       "      <td>Time.--6 hours.</td>\n",
       "      <td>102</td>\n",
       "      <td>3</td>\n",
       "      <td>False</td>\n",
       "      <td>10873</td>\n",
       "      <td>True</td>\n",
       "      <td>False</td>\n",
       "      <td>False</td>\n",
       "      <td>1</td>\n",
       "    </tr>\n",
       "    <tr>\n",
       "      <th>8</th>\n",
       "      <td>@wottow a beautiful scene, starring @MM_62_123...</td>\n",
       "      <td>578</td>\n",
       "      <td>17</td>\n",
       "      <td>False</td>\n",
       "      <td>5234</td>\n",
       "      <td>False</td>\n",
       "      <td>False</td>\n",
       "      <td>False</td>\n",
       "      <td>1</td>\n",
       "    </tr>\n",
       "    <tr>\n",
       "      <th>9</th>\n",
       "      <td>RT @DrJimmyStar: For great book promotion foll...</td>\n",
       "      <td>1</td>\n",
       "      <td>34</td>\n",
       "      <td>False</td>\n",
       "      <td>98</td>\n",
       "      <td>True</td>\n",
       "      <td>False</td>\n",
       "      <td>False</td>\n",
       "      <td>1</td>\n",
       "    </tr>\n",
       "  </tbody>\n",
       "</table>\n",
       "</div>"
      ],
      "text/plain": [
       "                                               tweet  followers_count   \n",
       "0  It's happening! The End Times! When that machi...             1129  \\\n",
       "1  The average price of duckNote across all excha...                3   \n",
       "2  Gooseberry Plush: Stir fermium and modified at...              505   \n",
       "3                                      ën̈d̈g̈äm̈ës̈               15   \n",
       "4  @frickIIILLLYYY Oh, wow! Daddy the Hedgehog is...              549   \n",
       "5         Bored.. I need something to do someone hmu                0   \n",
       "6  RT @theviralmeme: me: have a good break\\n\\nstu...                0   \n",
       "7                                    Time.--6 hours.              102   \n",
       "8  @wottow a beautiful scene, starring @MM_62_123...              578   \n",
       "9  RT @DrJimmyStar: For great book promotion foll...                1   \n",
       "\n",
       "   friends_count  verified  statuses_count  default_profile   \n",
       "0              7     False           23557            False  \\\n",
       "1              0     False            1050             True   \n",
       "2             13     False            5109            False   \n",
       "3              0     False           31365             True   \n",
       "4            370     False            4658            False   \n",
       "5             60     False              10             True   \n",
       "6             43     False              86             True   \n",
       "7              3     False           10873             True   \n",
       "8             17     False            5234            False   \n",
       "9             34     False              98             True   \n",
       "\n",
       "   default_profile_image has_extended_profile  bot  \n",
       "0                  False                False    1  \n",
       "1                  False                False    1  \n",
       "2                  False                False    1  \n",
       "3                  False                False    1  \n",
       "4                  False                False    1  \n",
       "5                  False                False    1  \n",
       "6                  False                False    1  \n",
       "7                  False                False    1  \n",
       "8                  False                False    1  \n",
       "9                  False                False    1  "
      ]
     },
     "execution_count": 14,
     "metadata": {},
     "output_type": "execute_result"
    }
   ],
   "source": [
    "df_clean.head(10)"
   ]
  },
  {
   "cell_type": "code",
   "execution_count": 15,
   "metadata": {},
   "outputs": [],
   "source": [
    "text_transformer = TfidfVectorizer(stop_words='english', ngram_range=(1, 2), lowercase=True, max_features=150000)"
   ]
  },
  {
   "cell_type": "code",
   "execution_count": 33,
   "metadata": {},
   "outputs": [
    {
     "data": {
      "text/html": [
       "<div>\n",
       "<style scoped>\n",
       "    .dataframe tbody tr th:only-of-type {\n",
       "        vertical-align: middle;\n",
       "    }\n",
       "\n",
       "    .dataframe tbody tr th {\n",
       "        vertical-align: top;\n",
       "    }\n",
       "\n",
       "    .dataframe thead th {\n",
       "        text-align: right;\n",
       "    }\n",
       "</style>\n",
       "<table border=\"1\" class=\"dataframe\">\n",
       "  <thead>\n",
       "    <tr style=\"text-align: right;\">\n",
       "      <th></th>\n",
       "      <th>tweet</th>\n",
       "      <th>followers_count</th>\n",
       "      <th>friends_count</th>\n",
       "      <th>verified</th>\n",
       "      <th>statuses_count</th>\n",
       "      <th>default_profile</th>\n",
       "      <th>default_profile_image</th>\n",
       "      <th>has_extended_profile</th>\n",
       "      <th>bot</th>\n",
       "    </tr>\n",
       "  </thead>\n",
       "  <tbody>\n",
       "    <tr>\n",
       "      <th>0</th>\n",
       "      <td>It's happening! The End Times! When that machi...</td>\n",
       "      <td>1129</td>\n",
       "      <td>7</td>\n",
       "      <td>False</td>\n",
       "      <td>23557</td>\n",
       "      <td>False</td>\n",
       "      <td>False</td>\n",
       "      <td>False</td>\n",
       "      <td>1</td>\n",
       "    </tr>\n",
       "    <tr>\n",
       "      <th>1</th>\n",
       "      <td>The average price of duckNote across all excha...</td>\n",
       "      <td>3</td>\n",
       "      <td>0</td>\n",
       "      <td>False</td>\n",
       "      <td>1050</td>\n",
       "      <td>True</td>\n",
       "      <td>False</td>\n",
       "      <td>False</td>\n",
       "      <td>1</td>\n",
       "    </tr>\n",
       "    <tr>\n",
       "      <th>2</th>\n",
       "      <td>Gooseberry Plush: Stir fermium and modified at...</td>\n",
       "      <td>505</td>\n",
       "      <td>13</td>\n",
       "      <td>False</td>\n",
       "      <td>5109</td>\n",
       "      <td>False</td>\n",
       "      <td>False</td>\n",
       "      <td>False</td>\n",
       "      <td>1</td>\n",
       "    </tr>\n",
       "    <tr>\n",
       "      <th>3</th>\n",
       "      <td>ën̈d̈g̈äm̈ës̈</td>\n",
       "      <td>15</td>\n",
       "      <td>0</td>\n",
       "      <td>False</td>\n",
       "      <td>31365</td>\n",
       "      <td>True</td>\n",
       "      <td>False</td>\n",
       "      <td>False</td>\n",
       "      <td>1</td>\n",
       "    </tr>\n",
       "    <tr>\n",
       "      <th>4</th>\n",
       "      <td>@frickIIILLLYYY Oh, wow! Daddy the Hedgehog is...</td>\n",
       "      <td>549</td>\n",
       "      <td>370</td>\n",
       "      <td>False</td>\n",
       "      <td>4658</td>\n",
       "      <td>False</td>\n",
       "      <td>False</td>\n",
       "      <td>False</td>\n",
       "      <td>1</td>\n",
       "    </tr>\n",
       "  </tbody>\n",
       "</table>\n",
       "</div>"
      ],
      "text/plain": [
       "                                               tweet  followers_count   \n",
       "0  It's happening! The End Times! When that machi...             1129  \\\n",
       "1  The average price of duckNote across all excha...                3   \n",
       "2  Gooseberry Plush: Stir fermium and modified at...              505   \n",
       "3                                      ën̈d̈g̈äm̈ës̈               15   \n",
       "4  @frickIIILLLYYY Oh, wow! Daddy the Hedgehog is...              549   \n",
       "\n",
       "   friends_count  verified  statuses_count  default_profile   \n",
       "0              7     False           23557            False  \\\n",
       "1              0     False            1050             True   \n",
       "2             13     False            5109            False   \n",
       "3              0     False           31365             True   \n",
       "4            370     False            4658            False   \n",
       "\n",
       "   default_profile_image has_extended_profile  bot  \n",
       "0                  False                False    1  \n",
       "1                  False                False    1  \n",
       "2                  False                False    1  \n",
       "3                  False                False    1  \n",
       "4                  False                False    1  "
      ]
     },
     "execution_count": 33,
     "metadata": {},
     "output_type": "execute_result"
    }
   ],
   "source": [
    "df_clean.head(5)"
   ]
  },
  {
   "cell_type": "code",
   "execution_count": 36,
   "metadata": {},
   "outputs": [],
   "source": [
    "label = df_clean[\"bot\"]\n",
    "df_clean.drop([\"bot\"], inplace = True, axis = 1)"
   ]
  },
  {
   "cell_type": "code",
   "execution_count": null,
   "metadata": {},
   "outputs": [],
   "source": []
  },
  {
   "cell_type": "code",
   "execution_count": 16,
   "metadata": {},
   "outputs": [],
   "source": [
    "df_train, df_test = train_test_split(df_clean,\n",
    "                                    stratify=df_clean[\"bot\"], \n",
    "                                    test_size=0.25)"
   ]
  },
  {
   "cell_type": "code",
   "execution_count": 17,
   "metadata": {},
   "outputs": [
    {
     "data": {
      "text/plain": [
       "((896, 9), (299, 9))"
      ]
     },
     "execution_count": 17,
     "metadata": {},
     "output_type": "execute_result"
    }
   ],
   "source": [
    "df_train.shape, df_test.shape"
   ]
  },
  {
   "cell_type": "code",
   "execution_count": 18,
   "metadata": {},
   "outputs": [
    {
     "data": {
      "text/plain": [
       "bot\n",
       "0    484\n",
       "1    412\n",
       "Name: count, dtype: int64"
      ]
     },
     "execution_count": 18,
     "metadata": {},
     "output_type": "execute_result"
    }
   ],
   "source": [
    "df_train.bot.value_counts()"
   ]
  },
  {
   "cell_type": "code",
   "execution_count": 19,
   "metadata": {},
   "outputs": [
    {
     "data": {
      "text/plain": [
       "bot\n",
       "0    162\n",
       "1    137\n",
       "Name: count, dtype: int64"
      ]
     },
     "execution_count": 19,
     "metadata": {},
     "output_type": "execute_result"
    }
   ],
   "source": [
    "df_test.bot.value_counts()"
   ]
  },
  {
   "cell_type": "code",
   "execution_count": 20,
   "metadata": {},
   "outputs": [],
   "source": [
    "tweet_tfidf_train = text_transformer.fit_transform(df_train['tweet'])\n",
    "tweet_tfidf_test = text_transformer.transform(df_test['tweet'])"
   ]
  },
  {
   "cell_type": "code",
   "execution_count": 21,
   "metadata": {},
   "outputs": [
    {
     "data": {
      "text/plain": [
       "<896x10272 sparse matrix of type '<class 'numpy.float64'>'\n",
       "\twith 13025 stored elements in Compressed Sparse Row format>"
      ]
     },
     "execution_count": 21,
     "metadata": {},
     "output_type": "execute_result"
    }
   ],
   "source": [
    "tweet_tfidf_train"
   ]
  },
  {
   "cell_type": "code",
   "execution_count": 22,
   "metadata": {},
   "outputs": [],
   "source": [
    "clf = LogisticRegression(random_state=0).fit(tweet_tfidf_train, df_train[\"bot\"])"
   ]
  },
  {
   "cell_type": "code",
   "execution_count": null,
   "metadata": {},
   "outputs": [],
   "source": []
  },
  {
   "cell_type": "code",
   "execution_count": 23,
   "metadata": {},
   "outputs": [],
   "source": [
    "test_preds = clf.predict(tweet_tfidf_test)"
   ]
  },
  {
   "cell_type": "code",
   "execution_count": 24,
   "metadata": {},
   "outputs": [
    {
     "data": {
      "text/plain": [
       "label\n",
       "0    263\n",
       "1     36\n",
       "Name: count, dtype: int64"
      ]
     },
     "execution_count": 24,
     "metadata": {},
     "output_type": "execute_result"
    }
   ],
   "source": [
    "_dummy = pd.DataFrame(test_preds, columns=['label'])\n",
    "_dummy[\"label\"].value_counts()"
   ]
  },
  {
   "cell_type": "code",
   "execution_count": 42,
   "metadata": {},
   "outputs": [],
   "source": [
    "from sklearn.metrics import accuracy_score, roc_auc_score"
   ]
  },
  {
   "cell_type": "code",
   "execution_count": 26,
   "metadata": {},
   "outputs": [
    {
     "data": {
      "text/html": [
       "<div>\n",
       "<style scoped>\n",
       "    .dataframe tbody tr th:only-of-type {\n",
       "        vertical-align: middle;\n",
       "    }\n",
       "\n",
       "    .dataframe tbody tr th {\n",
       "        vertical-align: top;\n",
       "    }\n",
       "\n",
       "    .dataframe thead th {\n",
       "        text-align: right;\n",
       "    }\n",
       "</style>\n",
       "<table border=\"1\" class=\"dataframe\">\n",
       "  <thead>\n",
       "    <tr style=\"text-align: right;\">\n",
       "      <th></th>\n",
       "      <th>tweet</th>\n",
       "      <th>followers_count</th>\n",
       "      <th>friends_count</th>\n",
       "      <th>verified</th>\n",
       "      <th>statuses_count</th>\n",
       "      <th>default_profile</th>\n",
       "      <th>default_profile_image</th>\n",
       "      <th>has_extended_profile</th>\n",
       "      <th>bot</th>\n",
       "    </tr>\n",
       "  </thead>\n",
       "  <tbody>\n",
       "    <tr>\n",
       "      <th>12</th>\n",
       "      <td>Hume's A Treatise of Human Nature but with Tal...</td>\n",
       "      <td>307</td>\n",
       "      <td>0</td>\n",
       "      <td>False</td>\n",
       "      <td>423</td>\n",
       "      <td>False</td>\n",
       "      <td>False</td>\n",
       "      <td>False</td>\n",
       "      <td>1</td>\n",
       "    </tr>\n",
       "    <tr>\n",
       "      <th>568</th>\n",
       "      <td>Master is one who has supreme understanding of...</td>\n",
       "      <td>22</td>\n",
       "      <td>95</td>\n",
       "      <td>False</td>\n",
       "      <td>52</td>\n",
       "      <td>True</td>\n",
       "      <td>False</td>\n",
       "      <td>False</td>\n",
       "      <td>0</td>\n",
       "    </tr>\n",
       "    <tr>\n",
       "      <th>267</th>\n",
       "      <td>So frequent\\nas it must\\nneeds be, it\\nis yet ...</td>\n",
       "      <td>3745</td>\n",
       "      <td>0</td>\n",
       "      <td>False</td>\n",
       "      <td>3063</td>\n",
       "      <td>True</td>\n",
       "      <td>False</td>\n",
       "      <td>False</td>\n",
       "      <td>1</td>\n",
       "    </tr>\n",
       "    <tr>\n",
       "      <th>220</th>\n",
       "      <td>Lightyears Rot #AddaWordRuinaMovie</td>\n",
       "      <td>197</td>\n",
       "      <td>0</td>\n",
       "      <td>False</td>\n",
       "      <td>684818</td>\n",
       "      <td>True</td>\n",
       "      <td>False</td>\n",
       "      <td>False</td>\n",
       "      <td>1</td>\n",
       "    </tr>\n",
       "    <tr>\n",
       "      <th>494</th>\n",
       "      <td>PSA: @bankedits is a new @congressedits style ...</td>\n",
       "      <td>38194</td>\n",
       "      <td>68</td>\n",
       "      <td>False</td>\n",
       "      <td>1393</td>\n",
       "      <td>False</td>\n",
       "      <td>False</td>\n",
       "      <td>False</td>\n",
       "      <td>1</td>\n",
       "    </tr>\n",
       "    <tr>\n",
       "      <th>...</th>\n",
       "      <td>...</td>\n",
       "      <td>...</td>\n",
       "      <td>...</td>\n",
       "      <td>...</td>\n",
       "      <td>...</td>\n",
       "      <td>...</td>\n",
       "      <td>...</td>\n",
       "      <td>...</td>\n",
       "      <td>...</td>\n",
       "    </tr>\n",
       "    <tr>\n",
       "      <th>624</th>\n",
       "      <td>So excited! https://t.co/CH4a6wtgPD</td>\n",
       "      <td>7518766</td>\n",
       "      <td>13587</td>\n",
       "      <td>True</td>\n",
       "      <td>6952</td>\n",
       "      <td>False</td>\n",
       "      <td>False</td>\n",
       "      <td>False</td>\n",
       "      <td>0</td>\n",
       "    </tr>\n",
       "    <tr>\n",
       "      <th>580</th>\n",
       "      <td>MakerBot Print's CAD functionality streamlines...</td>\n",
       "      <td>146565</td>\n",
       "      <td>522</td>\n",
       "      <td>False</td>\n",
       "      <td>10026</td>\n",
       "      <td>False</td>\n",
       "      <td>False</td>\n",
       "      <td>False</td>\n",
       "      <td>0</td>\n",
       "    </tr>\n",
       "    <tr>\n",
       "      <th>840</th>\n",
       "      <td>#mariobros birthday for this 4 year old! @Nint...</td>\n",
       "      <td>65</td>\n",
       "      <td>248</td>\n",
       "      <td>False</td>\n",
       "      <td>106</td>\n",
       "      <td>True</td>\n",
       "      <td>False</td>\n",
       "      <td>NaN</td>\n",
       "      <td>0</td>\n",
       "    </tr>\n",
       "    <tr>\n",
       "      <th>277</th>\n",
       "      <td>HULK PIZZA PREFERENCES WILL REVEAL THING HULK ...</td>\n",
       "      <td>43</td>\n",
       "      <td>0</td>\n",
       "      <td>False</td>\n",
       "      <td>2507</td>\n",
       "      <td>False</td>\n",
       "      <td>False</td>\n",
       "      <td>False</td>\n",
       "      <td>1</td>\n",
       "    </tr>\n",
       "    <tr>\n",
       "      <th>650</th>\n",
       "      <td>RT @ArianaGrande: ✉️ ♡ ✉️ ♡ ✉️ ♡ ✉️ ♡ #Everyda...</td>\n",
       "      <td>39</td>\n",
       "      <td>270</td>\n",
       "      <td>False</td>\n",
       "      <td>307</td>\n",
       "      <td>True</td>\n",
       "      <td>False</td>\n",
       "      <td>False</td>\n",
       "      <td>0</td>\n",
       "    </tr>\n",
       "  </tbody>\n",
       "</table>\n",
       "<p>299 rows × 9 columns</p>\n",
       "</div>"
      ],
      "text/plain": [
       "                                                 tweet  followers_count   \n",
       "12   Hume's A Treatise of Human Nature but with Tal...              307  \\\n",
       "568  Master is one who has supreme understanding of...               22   \n",
       "267  So frequent\\nas it must\\nneeds be, it\\nis yet ...             3745   \n",
       "220                 Lightyears Rot #AddaWordRuinaMovie              197   \n",
       "494  PSA: @bankedits is a new @congressedits style ...            38194   \n",
       "..                                                 ...              ...   \n",
       "624                So excited! https://t.co/CH4a6wtgPD          7518766   \n",
       "580  MakerBot Print's CAD functionality streamlines...           146565   \n",
       "840  #mariobros birthday for this 4 year old! @Nint...               65   \n",
       "277  HULK PIZZA PREFERENCES WILL REVEAL THING HULK ...               43   \n",
       "650  RT @ArianaGrande: ✉️ ♡ ✉️ ♡ ✉️ ♡ ✉️ ♡ #Everyda...               39   \n",
       "\n",
       "     friends_count  verified  statuses_count  default_profile   \n",
       "12               0     False             423            False  \\\n",
       "568             95     False              52             True   \n",
       "267              0     False            3063             True   \n",
       "220              0     False          684818             True   \n",
       "494             68     False            1393            False   \n",
       "..             ...       ...             ...              ...   \n",
       "624          13587      True            6952            False   \n",
       "580            522     False           10026            False   \n",
       "840            248     False             106             True   \n",
       "277              0     False            2507            False   \n",
       "650            270     False             307             True   \n",
       "\n",
       "     default_profile_image has_extended_profile  bot  \n",
       "12                   False                False    1  \n",
       "568                  False                False    0  \n",
       "267                  False                False    1  \n",
       "220                  False                False    1  \n",
       "494                  False                False    1  \n",
       "..                     ...                  ...  ...  \n",
       "624                  False                False    0  \n",
       "580                  False                False    0  \n",
       "840                  False                  NaN    0  \n",
       "277                  False                False    1  \n",
       "650                  False                False    0  \n",
       "\n",
       "[299 rows x 9 columns]"
      ]
     },
     "execution_count": 26,
     "metadata": {},
     "output_type": "execute_result"
    }
   ],
   "source": [
    "df_test"
   ]
  },
  {
   "cell_type": "code",
   "execution_count": 27,
   "metadata": {},
   "outputs": [
    {
     "data": {
      "text/plain": [
       "0.5819397993311036"
      ]
     },
     "execution_count": 27,
     "metadata": {},
     "output_type": "execute_result"
    }
   ],
   "source": [
    "accuracy_score(df_test[\"bot\"],test_preds)"
   ]
  },
  {
   "cell_type": "code",
   "execution_count": 45,
   "metadata": {},
   "outputs": [
    {
     "data": {
      "image/png": "[encoded data removed]",
      "text/plain": [
       "<Figure size 640x480 with 1 Axes>"
      ]
     },
     "metadata": {},
     "output_type": "display_data"
    }
   ],
   "source": [
    "from sklearn import metrics\n",
    "import matplotlib.pyplot as plt\n",
    "\n",
    "fpr, tpr, _ = metrics.roc_curve(df_test[\"bot\"],test_preds)\n",
    "\n",
    "#create ROC curve\n",
    "plt.plot(fpr,tpr)\n",
    "plt.ylabel('True Positive Rate')\n",
    "plt.xlabel('False Positive Rate')\n",
    "plt.show()\n"
   ]
  },
  {
   "cell_type": "code",
   "execution_count": 28,
   "metadata": {},
   "outputs": [],
   "source": [
    "from sklearn import svm\n",
    "\n",
    "#Create a svm Classifier\n",
    "clf = svm.SVC(kernel='linear') # Linear Kernel\n",
    "\n",
    "#Train the model using the training sets\n",
    "clf.fit(tweet_tfidf_train, df_train[\"bot\"])\n",
    "\n",
    "#Predict the response for test dataset\n",
    "y_pred = clf.predict(tweet_tfidf_test)"
   ]
  },
  {
   "cell_type": "code",
   "execution_count": 30,
   "metadata": {},
   "outputs": [
    {
     "data": {
      "text/plain": [
       "0.6923076923076923"
      ]
     },
     "execution_count": 30,
     "metadata": {},
     "output_type": "execute_result"
    }
   ],
   "source": [
    "accuracy_score(df_test[\"bot\"],y_pred)"
   ]
  },
  {
   "cell_type": "code",
   "execution_count": 31,
   "metadata": {},
   "outputs": [
    {
     "name": "stderr",
     "output_type": "stream",
     "text": [
      "h2o:1: DeprecationWarning: Your Python version is 3.11.2. The support for this version will be removed in H2O 3.42.0.1.\n"
     ]
    },
    {
     "name": "stdout",
     "output_type": "stream",
     "text": [
      "Checking whether there is an H2O instance running at http://localhost:54321..... not found.\n",
      "Attempting to start a local H2O server...\n",
      "  Java Version: java version \"19.0.1\" 2022-10-18; Java(TM) SE Runtime Environment (build 19.0.1+10-21); Java HotSpot(TM) 64-Bit Server VM (build 19.0.1+10-21, mixed mode, sharing)\n",
      "  Starting server from /Users/sauravanchlia/SWM/BotDetectionUsingTransformers/bot/lib/python3.11/site-packages/h2o/backend/bin/h2o.jar\n",
      "  Ice root: /var/folders/vx/c0vs5l7n3mb0v0mzrrq7hsb00000gn/T/tmpec6fek3r\n",
      "  JVM stdout: /var/folders/vx/c0vs5l7n3mb0v0mzrrq7hsb00000gn/T/tmpec6fek3r/h2o_sauravanchlia_started_from_python.out\n",
      "  JVM stderr: /var/folders/vx/c0vs5l7n3mb0v0mzrrq7hsb00000gn/T/tmpec6fek3r/h2o_sauravanchlia_started_from_python.err\n",
      "  Server is running at http://127.0.0.1:54321\n",
      "Connecting to H2O server at http://127.0.0.1:54321 ... successful.\n"
     ]
    },
    {
     "data": {
      "text/html": [
       "\n",
       "<style>\n",
       "\n",
       "#h2o-table-1.h2o-container {\n",
       "  overflow-x: auto;\n",
       "}\n",
       "#h2o-table-1 .h2o-table {\n",
       "  /* width: 100%; */\n",
       "  margin-top: 1em;\n",
       "  margin-bottom: 1em;\n",
       "}\n",
       "#h2o-table-1 .h2o-table caption {\n",
       "  white-space: nowrap;\n",
       "  caption-side: top;\n",
       "  text-align: left;\n",
       "  /* margin-left: 1em; */\n",
       "  margin: 0;\n",
       "  font-size: larger;\n",
       "}\n",
       "#h2o-table-1 .h2o-table thead {\n",
       "  white-space: nowrap; \n",
       "  position: sticky;\n",
       "  top: 0;\n",
       "  box-shadow: 0 -1px inset;\n",
       "}\n",
       "#h2o-table-1 .h2o-table tbody {\n",
       "  overflow: auto;\n",
       "}\n",
       "#h2o-table-1 .h2o-table th,\n",
       "#h2o-table-1 .h2o-table td {\n",
       "  text-align: right;\n",
       "  /* border: 1px solid; */\n",
       "}\n",
       "#h2o-table-1 .h2o-table tr:nth-child(even) {\n",
       "  /* background: #F5F5F5 */\n",
       "}\n",
       "\n",
       "</style>      \n",
       "<div id=\"h2o-table-1\" class=\"h2o-container\">\n",
       "  <table class=\"h2o-table\">\n",
       "    <caption></caption>\n",
       "    <thead></thead>\n",
       "    <tbody><tr><td>H2O_cluster_uptime:</td>\n",
       "<td>02 secs</td></tr>\n",
       "<tr><td>H2O_cluster_timezone:</td>\n",
       "<td>America/Phoenix</td></tr>\n",
       "<tr><td>H2O_data_parsing_timezone:</td>\n",
       "<td>UTC</td></tr>\n",
       "<tr><td>H2O_cluster_version:</td>\n",
       "<td>3.40.0.3</td></tr>\n",
       "<tr><td>H2O_cluster_version_age:</td>\n",
       "<td>17 days</td></tr>\n",
       "<tr><td>H2O_cluster_name:</td>\n",
       "<td>H2O_from_python_sauravanchlia_8an4o4</td></tr>\n",
       "<tr><td>H2O_cluster_total_nodes:</td>\n",
       "<td>1</td></tr>\n",
       "<tr><td>H2O_cluster_free_memory:</td>\n",
       "<td>4 Gb</td></tr>\n",
       "<tr><td>H2O_cluster_total_cores:</td>\n",
       "<td>8</td></tr>\n",
       "<tr><td>H2O_cluster_allowed_cores:</td>\n",
       "<td>8</td></tr>\n",
       "<tr><td>H2O_cluster_status:</td>\n",
       "<td>locked, healthy</td></tr>\n",
       "<tr><td>H2O_connection_url:</td>\n",
       "<td>http://127.0.0.1:54321</td></tr>\n",
       "<tr><td>H2O_connection_proxy:</td>\n",
       "<td>{\"http\": null, \"https\": null}</td></tr>\n",
       "<tr><td>H2O_internal_security:</td>\n",
       "<td>False</td></tr>\n",
       "<tr><td>Python_version:</td>\n",
       "<td>3.11.2 final</td></tr></tbody>\n",
       "  </table>\n",
       "</div>\n"
      ],
      "text/plain": [
       "--------------------------  ------------------------------------\n",
       "H2O_cluster_uptime:         02 secs\n",
       "H2O_cluster_timezone:       America/Phoenix\n",
       "H2O_data_parsing_timezone:  UTC\n",
       "H2O_cluster_version:        3.40.0.3\n",
       "H2O_cluster_version_age:    17 days\n",
       "H2O_cluster_name:           H2O_from_python_sauravanchlia_8an4o4\n",
       "H2O_cluster_total_nodes:    1\n",
       "H2O_cluster_free_memory:    4 Gb\n",
       "H2O_cluster_total_cores:    8\n",
       "H2O_cluster_allowed_cores:  8\n",
       "H2O_cluster_status:         locked, healthy\n",
       "H2O_connection_url:         http://127.0.0.1:54321\n",
       "H2O_connection_proxy:       {\"http\": null, \"https\": null}\n",
       "H2O_internal_security:      False\n",
       "Python_version:             3.11.2 final\n",
       "--------------------------  ------------------------------------"
      ]
     },
     "metadata": {},
     "output_type": "display_data"
    }
   ],
   "source": [
    "import h2o\n",
    "h2o.init()\n",
    "from h2o.estimators.gbm import H2OGradientBoostingEstimator\n"
   ]
  },
  {
   "cell_type": "code",
   "execution_count": 39,
   "metadata": {},
   "outputs": [],
   "source": [
    "from sklearn.cluster import KMeans\n",
    "\n",
    "km = KMeans(\n",
    "    n_clusters=2, init='random',\n",
    "    n_init=10, max_iter=300, \n",
    "    tol=1e-04, random_state=0\n",
    ")\n",
    "y_km = km.fit_predict(tweet_tfidf_train)"
   ]
  },
  {
   "cell_type": "code",
   "execution_count": 41,
   "metadata": {},
   "outputs": [
    {
     "data": {
      "text/plain": [
       "0.546875"
      ]
     },
     "execution_count": 41,
     "metadata": {},
     "output_type": "execute_result"
    }
   ],
   "source": [
    "accuracy_score(df_train[\"bot\"], y_km)"
   ]
  },
  {
   "cell_type": "code",
   "execution_count": null,
   "metadata": {},
   "outputs": [],
   "source": [
    "prostate_gbm = H2OGradientBoostingEstimator(nfolds = 5, seed = 1)\n",
    "prostate_gbm.train(x=df_clean, y=label, training_frame=prostate)"
   ]
  }
 ],
 "metadata": {
  "kernelspec": {
   "display_name": "bot",
   "language": "python",
   "name": "python3"
  },
  "language_info": {
   "codemirror_mode": {
    "name": "ipython",
    "version": 3
   },
   "file_extension": ".py",
   "mimetype": "text/x-python",
   "name": "python",
   "nbconvert_exporter": "python",
   "pygments_lexer": "ipython3",
   "version": "3.11.2"
  },
  "orig_nbformat": 4,
  "vscode": {
   "interpreter": {
    "hash": "2d4c05f7b456e5eec7b61190f18e37cb24fb39db5d81502df148c928f7654c48"
   }
  }
 },
 "nbformat": 4,
 "nbformat_minor": 2
}
