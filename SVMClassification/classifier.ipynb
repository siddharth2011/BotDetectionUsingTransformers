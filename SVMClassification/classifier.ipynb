{
 "cells": [
  {
   "cell_type": "code",
   "execution_count": 39,
   "metadata": {},
   "outputs": [],
   "source": [
    "import ast\n",
    "import os\n",
    "import pandas as pd\n",
    "from sklearn.linear_model import LogisticRegression\n",
    "from sklearn.model_selection import cross_val_score, StratifiedKFold\n",
    "from sklearn.feature_extraction.text import TfidfVectorizer\n",
    "from sklearn.model_selection import train_test_split\n",
    "from sklearn.linear_model import LogisticRegression\n",
    "import matplotlib.pyplot as plt\n"
   ]
  },
  {
   "cell_type": "code",
   "execution_count": 2,
   "metadata": {},
   "outputs": [
    {
     "data": {
      "text/plain": [
       "'/Users/sauravanchlia/SWM/BotDetectionUsingTransformers/SVMClassification'"
      ]
     },
     "execution_count": 2,
     "metadata": {},
     "output_type": "execute_result"
    }
   ],
   "source": [
    "os.getcwd()"
   ]
  },
  {
   "cell_type": "code",
   "execution_count": 3,
   "metadata": {},
   "outputs": [],
   "source": [
    "df = pd.read_csv(\"../dataset.csv\")"
   ]
  },
  {
   "cell_type": "code",
   "execution_count": 4,
   "metadata": {},
   "outputs": [
    {
     "data": {
      "text/html": [
       "<div>\n",
       "<style scoped>\n",
       "    .dataframe tbody tr th:only-of-type {\n",
       "        vertical-align: middle;\n",
       "    }\n",
       "\n",
       "    .dataframe tbody tr th {\n",
       "        vertical-align: top;\n",
       "    }\n",
       "\n",
       "    .dataframe thead th {\n",
       "        text-align: right;\n",
       "    }\n",
       "</style>\n",
       "<table border=\"1\" class=\"dataframe\">\n",
       "  <thead>\n",
       "    <tr style=\"text-align: right;\">\n",
       "      <th></th>\n",
       "      <th>id</th>\n",
       "      <th>id_str</th>\n",
       "      <th>screen_name</th>\n",
       "      <th>location</th>\n",
       "      <th>description</th>\n",
       "      <th>url</th>\n",
       "      <th>followers_count</th>\n",
       "      <th>friends_count</th>\n",
       "      <th>listedcount</th>\n",
       "      <th>created_at</th>\n",
       "      <th>favourites_count</th>\n",
       "      <th>verified</th>\n",
       "      <th>statuses_count</th>\n",
       "      <th>lang</th>\n",
       "      <th>status</th>\n",
       "      <th>default_profile</th>\n",
       "      <th>default_profile_image</th>\n",
       "      <th>has_extended_profile</th>\n",
       "      <th>name</th>\n",
       "      <th>bot</th>\n",
       "    </tr>\n",
       "  </thead>\n",
       "  <tbody>\n",
       "    <tr>\n",
       "      <th>0</th>\n",
       "      <td>3.982732e+09</td>\n",
       "      <td>3982731976</td>\n",
       "      <td>mcgucket_bot</td>\n",
       "      <td>NaN</td>\n",
       "      <td>A bot that tweets every line said by Fiddlefor...</td>\n",
       "      <td>NaN</td>\n",
       "      <td>1129</td>\n",
       "      <td>7</td>\n",
       "      <td>2</td>\n",
       "      <td>Sat Oct 17 22:35:31 +0000 2015</td>\n",
       "      <td>0</td>\n",
       "      <td>False</td>\n",
       "      <td>23557</td>\n",
       "      <td>en</td>\n",
       "      <td>{'retweeted': False, 'is_quote_status': False,...</td>\n",
       "      <td>False</td>\n",
       "      <td>False</td>\n",
       "      <td>False</td>\n",
       "      <td>McGucket bot</td>\n",
       "      <td>1</td>\n",
       "    </tr>\n",
       "    <tr>\n",
       "      <th>1</th>\n",
       "      <td>8.410000e+17</td>\n",
       "      <td>8.41E+17</td>\n",
       "      <td>BowieK66</td>\n",
       "      <td>NaN</td>\n",
       "      <td>NaN</td>\n",
       "      <td>NaN</td>\n",
       "      <td>0</td>\n",
       "      <td>22</td>\n",
       "      <td>0</td>\n",
       "      <td>13/03/2017 22:21</td>\n",
       "      <td>0</td>\n",
       "      <td>False</td>\n",
       "      <td>1</td>\n",
       "      <td>en</td>\n",
       "      <td>Status(_api=&lt;tweepy.api.API object at 0x101927...</td>\n",
       "      <td>True</td>\n",
       "      <td>True</td>\n",
       "      <td>False</td>\n",
       "      <td>MJ Kuhn</td>\n",
       "      <td>1</td>\n",
       "    </tr>\n",
       "    <tr>\n",
       "      <th>2</th>\n",
       "      <td>2.768375e+09</td>\n",
       "      <td>2768374981</td>\n",
       "      <td>ducknoteprice</td>\n",
       "      <td>NaN</td>\n",
       "      <td>NaN</td>\n",
       "      <td>NaN</td>\n",
       "      <td>3</td>\n",
       "      <td>0</td>\n",
       "      <td>3</td>\n",
       "      <td>Mon Aug 25 23:17:59 +0000 2014</td>\n",
       "      <td>0</td>\n",
       "      <td>False</td>\n",
       "      <td>1050</td>\n",
       "      <td>en</td>\n",
       "      <td>{'created_at': 'Fri Feb 26 17:01:15 +0000 2016...</td>\n",
       "      <td>True</td>\n",
       "      <td>False</td>\n",
       "      <td>False</td>\n",
       "      <td>duckNote</td>\n",
       "      <td>1</td>\n",
       "    </tr>\n",
       "    <tr>\n",
       "      <th>3</th>\n",
       "      <td>3.304189e+09</td>\n",
       "      <td>3304189373</td>\n",
       "      <td>robotrecipes</td>\n",
       "      <td>robot kitchen</td>\n",
       "      <td>tasty recipes for robot // not for human // a ...</td>\n",
       "      <td>http://t.co/PdagJGqVMR</td>\n",
       "      <td>505</td>\n",
       "      <td>13</td>\n",
       "      <td>49</td>\n",
       "      <td>Sat May 30 23:42:16 +0000 2015</td>\n",
       "      <td>0</td>\n",
       "      <td>False</td>\n",
       "      <td>5109</td>\n",
       "      <td>en</td>\n",
       "      <td>{u'contributors': None, u'truncated': False, u...</td>\n",
       "      <td>False</td>\n",
       "      <td>False</td>\n",
       "      <td>False</td>\n",
       "      <td>robot recipes</td>\n",
       "      <td>1</td>\n",
       "    </tr>\n",
       "    <tr>\n",
       "      <th>4</th>\n",
       "      <td>3.224289e+09</td>\n",
       "      <td>3224289024</td>\n",
       "      <td>everyumlaut</td>\n",
       "      <td>NaN</td>\n",
       "      <td>bot by @dbaker_h</td>\n",
       "      <td>NaN</td>\n",
       "      <td>15</td>\n",
       "      <td>0</td>\n",
       "      <td>11</td>\n",
       "      <td>Sat May 23 14:39:21 +0000 2015</td>\n",
       "      <td>0</td>\n",
       "      <td>False</td>\n",
       "      <td>31365</td>\n",
       "      <td>en-gb</td>\n",
       "      <td>{u'contributors': None, u'truncated': False, u...</td>\n",
       "      <td>True</td>\n",
       "      <td>False</td>\n",
       "      <td>False</td>\n",
       "      <td>ÌÇvÌÇrÌÀ Ì_mlÌ_Ì_¼Ñ</td>\n",
       "      <td>1</td>\n",
       "    </tr>\n",
       "    <tr>\n",
       "      <th>5</th>\n",
       "      <td>7.300000e+17</td>\n",
       "      <td>7.30E+17</td>\n",
       "      <td>glossatory</td>\n",
       "      <td>Australah</td>\n",
       "      <td>SOCIAL ON GLOSSATORY: the branch of the consid...</td>\n",
       "      <td>https://t.co/hcUNcUdlcq</td>\n",
       "      <td>16</td>\n",
       "      <td>1</td>\n",
       "      <td>4</td>\n",
       "      <td>5/11/2016 5:45</td>\n",
       "      <td>0</td>\n",
       "      <td>False</td>\n",
       "      <td>1832</td>\n",
       "      <td>en</td>\n",
       "      <td>Status(in_reply_to_user_id=None, favorited=Fal...</td>\n",
       "      <td>False</td>\n",
       "      <td>False</td>\n",
       "      <td>False</td>\n",
       "      <td>GLOSSATORY</td>\n",
       "      <td>1</td>\n",
       "    </tr>\n",
       "    <tr>\n",
       "      <th>6</th>\n",
       "      <td>8.200000e+17</td>\n",
       "      <td>8.20E+17</td>\n",
       "      <td>Fancypants6047</td>\n",
       "      <td>vancouver</td>\n",
       "      <td>NaN</td>\n",
       "      <td>NaN</td>\n",
       "      <td>41</td>\n",
       "      <td>394</td>\n",
       "      <td>0</td>\n",
       "      <td>13/01/2017 19:37</td>\n",
       "      <td>3</td>\n",
       "      <td>False</td>\n",
       "      <td>4</td>\n",
       "      <td>en</td>\n",
       "      <td>Status(_api=&lt;tweepy.api.API object at 0x101927...</td>\n",
       "      <td>True</td>\n",
       "      <td>False</td>\n",
       "      <td>True</td>\n",
       "      <td>Fancypants</td>\n",
       "      <td>1</td>\n",
       "    </tr>\n",
       "    <tr>\n",
       "      <th>7</th>\n",
       "      <td>2.602217e+09</td>\n",
       "      <td>2602217174</td>\n",
       "      <td>Hedgehogize</td>\n",
       "      <td>Moebius</td>\n",
       "      <td>@Hedgehogize me or @Hedgehogize NAME to unlock...</td>\n",
       "      <td>http://t.co/a1UvEiAl3u</td>\n",
       "      <td>549</td>\n",
       "      <td>370</td>\n",
       "      <td>12</td>\n",
       "      <td>Thu Jul 03 20:37:48 +0000 2014</td>\n",
       "      <td>12</td>\n",
       "      <td>False</td>\n",
       "      <td>4658</td>\n",
       "      <td>en</td>\n",
       "      <td>{u'contributors': None, u'truncated': False, u...</td>\n",
       "      <td>False</td>\n",
       "      <td>False</td>\n",
       "      <td>False</td>\n",
       "      <td>YOU the Hedgehog</td>\n",
       "      <td>1</td>\n",
       "    </tr>\n",
       "    <tr>\n",
       "      <th>8</th>\n",
       "      <td>8.330000e+17</td>\n",
       "      <td>8.33E+17</td>\n",
       "      <td>jamieph93986621</td>\n",
       "      <td>NaN</td>\n",
       "      <td>I wasn't bor ysterday,  was born tomorrow</td>\n",
       "      <td>NaN</td>\n",
       "      <td>0</td>\n",
       "      <td>60</td>\n",
       "      <td>0</td>\n",
       "      <td>Sun Feb 19 03:47:42 +0000 2017</td>\n",
       "      <td>0</td>\n",
       "      <td>False</td>\n",
       "      <td>10</td>\n",
       "      <td>en</td>\n",
       "      <td>{\"created_at\": \"Mon Mar 13 02:55:10 +0000 2017...</td>\n",
       "      <td>True</td>\n",
       "      <td>False</td>\n",
       "      <td>False</td>\n",
       "      <td>Jamie Phillips</td>\n",
       "      <td>1</td>\n",
       "    </tr>\n",
       "    <tr>\n",
       "      <th>9</th>\n",
       "      <td>8.250000e+17</td>\n",
       "      <td>8.25E+17</td>\n",
       "      <td>NothemDonella</td>\n",
       "      <td>NaN</td>\n",
       "      <td>Your diac No</td>\n",
       "      <td>NaN</td>\n",
       "      <td>0</td>\n",
       "      <td>43</td>\n",
       "      <td>4</td>\n",
       "      <td>Fri Jan 27 15:51:34 +0000 2017</td>\n",
       "      <td>48</td>\n",
       "      <td>False</td>\n",
       "      <td>86</td>\n",
       "      <td>en</td>\n",
       "      <td>{\"created_at\": \"Mon Mar 13 02:52:13 +0000 2017...</td>\n",
       "      <td>True</td>\n",
       "      <td>False</td>\n",
       "      <td>False</td>\n",
       "      <td>Donella Nothem</td>\n",
       "      <td>1</td>\n",
       "    </tr>\n",
       "  </tbody>\n",
       "</table>\n",
       "</div>"
      ],
      "text/plain": [
       "             id      id_str      screen_name       location   \n",
       "0  3.982732e+09  3982731976     mcgucket_bot            NaN  \\\n",
       "1  8.410000e+17    8.41E+17         BowieK66            NaN   \n",
       "2  2.768375e+09  2768374981    ducknoteprice            NaN   \n",
       "3  3.304189e+09  3304189373     robotrecipes  robot kitchen   \n",
       "4  3.224289e+09  3224289024      everyumlaut            NaN   \n",
       "5  7.300000e+17    7.30E+17       glossatory      Australah   \n",
       "6  8.200000e+17    8.20E+17   Fancypants6047      vancouver   \n",
       "7  2.602217e+09  2602217174      Hedgehogize        Moebius   \n",
       "8  8.330000e+17    8.33E+17  jamieph93986621            NaN   \n",
       "9  8.250000e+17    8.25E+17    NothemDonella            NaN   \n",
       "\n",
       "                                         description                      url   \n",
       "0  A bot that tweets every line said by Fiddlefor...                      NaN  \\\n",
       "1                                                NaN                      NaN   \n",
       "2                                                NaN                      NaN   \n",
       "3  tasty recipes for robot // not for human // a ...   http://t.co/PdagJGqVMR   \n",
       "4                                   bot by @dbaker_h                      NaN   \n",
       "5  SOCIAL ON GLOSSATORY: the branch of the consid...  https://t.co/hcUNcUdlcq   \n",
       "6                                                NaN                      NaN   \n",
       "7  @Hedgehogize me or @Hedgehogize NAME to unlock...   http://t.co/a1UvEiAl3u   \n",
       "8          I wasn't bor ysterday,  was born tomorrow                      NaN   \n",
       "9                                       Your diac No                      NaN   \n",
       "\n",
       "   followers_count  friends_count  listedcount   \n",
       "0             1129              7            2  \\\n",
       "1                0             22            0   \n",
       "2                3              0            3   \n",
       "3              505             13           49   \n",
       "4               15              0           11   \n",
       "5               16              1            4   \n",
       "6               41            394            0   \n",
       "7              549            370           12   \n",
       "8                0             60            0   \n",
       "9                0             43            4   \n",
       "\n",
       "                       created_at  favourites_count  verified  statuses_count   \n",
       "0  Sat Oct 17 22:35:31 +0000 2015                 0     False           23557  \\\n",
       "1                13/03/2017 22:21                 0     False               1   \n",
       "2  Mon Aug 25 23:17:59 +0000 2014                 0     False            1050   \n",
       "3  Sat May 30 23:42:16 +0000 2015                 0     False            5109   \n",
       "4  Sat May 23 14:39:21 +0000 2015                 0     False           31365   \n",
       "5                  5/11/2016 5:45                 0     False            1832   \n",
       "6                13/01/2017 19:37                 3     False               4   \n",
       "7  Thu Jul 03 20:37:48 +0000 2014                12     False            4658   \n",
       "8  Sun Feb 19 03:47:42 +0000 2017                 0     False              10   \n",
       "9  Fri Jan 27 15:51:34 +0000 2017                48     False              86   \n",
       "\n",
       "    lang                                             status  default_profile   \n",
       "0     en  {'retweeted': False, 'is_quote_status': False,...            False  \\\n",
       "1     en  Status(_api=<tweepy.api.API object at 0x101927...             True   \n",
       "2     en  {'created_at': 'Fri Feb 26 17:01:15 +0000 2016...             True   \n",
       "3     en  {u'contributors': None, u'truncated': False, u...            False   \n",
       "4  en-gb  {u'contributors': None, u'truncated': False, u...             True   \n",
       "5     en  Status(in_reply_to_user_id=None, favorited=Fal...            False   \n",
       "6     en  Status(_api=<tweepy.api.API object at 0x101927...             True   \n",
       "7     en  {u'contributors': None, u'truncated': False, u...            False   \n",
       "8     en  {\"created_at\": \"Mon Mar 13 02:55:10 +0000 2017...             True   \n",
       "9     en  {\"created_at\": \"Mon Mar 13 02:52:13 +0000 2017...             True   \n",
       "\n",
       "   default_profile_image has_extended_profile                  name  bot  \n",
       "0                  False                False          McGucket bot    1  \n",
       "1                   True                False               MJ Kuhn    1  \n",
       "2                  False                False              duckNote    1  \n",
       "3                  False                False         robot recipes    1  \n",
       "4                  False                False  ÌÇvÌÇrÌÀ Ì_mlÌ_Ì_¼Ñ    1  \n",
       "5                  False                False            GLOSSATORY    1  \n",
       "6                  False                 True            Fancypants    1  \n",
       "7                  False                False      YOU the Hedgehog    1  \n",
       "8                  False                False        Jamie Phillips    1  \n",
       "9                  False                False        Donella Nothem    1  "
      ]
     },
     "execution_count": 4,
     "metadata": {},
     "output_type": "execute_result"
    }
   ],
   "source": [
    "df.head(10)"
   ]
  },
  {
   "cell_type": "code",
   "execution_count": 9,
   "metadata": {},
   "outputs": [
    {
     "name": "stdout",
     "output_type": "stream",
     "text": [
      "dict_keys(['retweeted', 'is_quote_status', 'favorite_count', 'retweet_count', 'place', 'in_reply_to_status_id', 'entities', 'geo', 'id_str', 'in_reply_to_screen_name', 'text', 'in_reply_to_user_id_str', 'source', 'truncated', 'in_reply_to_user_id', 'created_at', 'contributors', 'in_reply_to_status_id_str', 'lang', 'id', 'favorited', 'coordinates'])\n"
     ]
    }
   ],
   "source": [
    "print(ast.literal_eval(df.iloc[0][\"status\"]).keys())"
   ]
  },
  {
   "cell_type": "code",
   "execution_count": 5,
   "metadata": {},
   "outputs": [
    {
     "name": "stdout",
     "output_type": "stream",
     "text": [
      "dict_values([False, False, 0, 0, None, None, {'urls': [], 'user_mentions': [], 'hashtags': [], 'symbols': []}, None, '841319282986237952', None, \"It's happening! The End Times! When that machine activates... I gotta get outta town!\", None, '<a href=\"http://twittbot.net/\" rel=\"nofollow\">twittbot.net</a>', False, None, 'Mon Mar 13 16:05:22 +0000 2017', None, None, 'en', 841319282986237952, False, None])\n"
     ]
    }
   ],
   "source": [
    "print(ast.literal_eval(df.iloc[0][\"status\"]).values())"
   ]
  },
  {
   "cell_type": "code",
   "execution_count": 11,
   "metadata": {},
   "outputs": [
    {
     "data": {
      "text/plain": [
       "bot\n",
       "0    1176\n",
       "1    1056\n",
       "Name: count, dtype: int64"
      ]
     },
     "execution_count": 11,
     "metadata": {},
     "output_type": "execute_result"
    }
   ],
   "source": [
    "df.bot.value_counts()"
   ]
  },
  {
   "cell_type": "code",
   "execution_count": 12,
   "metadata": {},
   "outputs": [
    {
     "data": {
      "text/plain": [
       "(2232, 20)"
      ]
     },
     "execution_count": 12,
     "metadata": {},
     "output_type": "execute_result"
    }
   ],
   "source": [
    "df.shape"
   ]
  },
  {
   "cell_type": "code",
   "execution_count": 6,
   "metadata": {},
   "outputs": [],
   "source": [
    "tweet, followers_count, friends_count, verified, statuses_count, default_profile, default_profile_image, has_extended_profile,  bot = [], [], [], [], [], [], [], [], []\n",
    "\n",
    "for i, row in df.iterrows():\n",
    "    try:\n",
    "        _text = ast.literal_eval(row[\"status\"])[\"text\"]\n",
    "        tweet.append(_text)\n",
    "        followers_count.append(row[\"followers_count\"])\n",
    "        friends_count.append(row[\"friends_count\"])\n",
    "        verified.append(row[\"verified\"])\n",
    "        statuses_count.append(row[\"statuses_count\"])\n",
    "        default_profile.append(row[\"default_profile\"])\n",
    "        default_profile_image.append(row[\"default_profile_image\"])\n",
    "        has_extended_profile.append(row[\"has_extended_profile\"])\n",
    "        bot.append(row[\"bot\"])\n",
    "    except Exception as e:\n",
    "        pass\n",
    "    "
   ]
  },
  {
   "cell_type": "code",
   "execution_count": 7,
   "metadata": {},
   "outputs": [],
   "source": [
    "df_clean = pd.DataFrame(zip(tweet, followers_count, friends_count, verified, statuses_count, default_profile, default_profile_image, has_extended_profile,  bot),\n",
    "                            columns=[\"tweet\", \"followers_count\", \"friends_count\", \"verified\", \"statuses_count\", \"default_profile\", \"default_profile_image\", \"has_extended_profile\",  \"bot\" ])"
   ]
  },
  {
   "cell_type": "code",
   "execution_count": 8,
   "metadata": {},
   "outputs": [
    {
     "data": {
      "text/plain": [
       "bot\n",
       "0    646\n",
       "1    549\n",
       "Name: count, dtype: int64"
      ]
     },
     "execution_count": 8,
     "metadata": {},
     "output_type": "execute_result"
    }
   ],
   "source": [
    "df_clean.bot.value_counts()"
   ]
  },
  {
   "cell_type": "code",
   "execution_count": 9,
   "metadata": {},
   "outputs": [
    {
     "data": {
      "text/html": [
       "<div>\n",
       "<style scoped>\n",
       "    .dataframe tbody tr th:only-of-type {\n",
       "        vertical-align: middle;\n",
       "    }\n",
       "\n",
       "    .dataframe tbody tr th {\n",
       "        vertical-align: top;\n",
       "    }\n",
       "\n",
       "    .dataframe thead th {\n",
       "        text-align: right;\n",
       "    }\n",
       "</style>\n",
       "<table border=\"1\" class=\"dataframe\">\n",
       "  <thead>\n",
       "    <tr style=\"text-align: right;\">\n",
       "      <th></th>\n",
       "      <th>tweet</th>\n",
       "      <th>followers_count</th>\n",
       "      <th>friends_count</th>\n",
       "      <th>verified</th>\n",
       "      <th>statuses_count</th>\n",
       "      <th>default_profile</th>\n",
       "      <th>default_profile_image</th>\n",
       "      <th>has_extended_profile</th>\n",
       "      <th>bot</th>\n",
       "    </tr>\n",
       "  </thead>\n",
       "  <tbody>\n",
       "    <tr>\n",
       "      <th>0</th>\n",
       "      <td>It's happening! The End Times! When that machi...</td>\n",
       "      <td>1129</td>\n",
       "      <td>7</td>\n",
       "      <td>False</td>\n",
       "      <td>23557</td>\n",
       "      <td>False</td>\n",
       "      <td>False</td>\n",
       "      <td>False</td>\n",
       "      <td>1</td>\n",
       "    </tr>\n",
       "    <tr>\n",
       "      <th>1</th>\n",
       "      <td>The average price of duckNote across all excha...</td>\n",
       "      <td>3</td>\n",
       "      <td>0</td>\n",
       "      <td>False</td>\n",
       "      <td>1050</td>\n",
       "      <td>True</td>\n",
       "      <td>False</td>\n",
       "      <td>False</td>\n",
       "      <td>1</td>\n",
       "    </tr>\n",
       "    <tr>\n",
       "      <th>2</th>\n",
       "      <td>Gooseberry Plush: Stir fermium and modified at...</td>\n",
       "      <td>505</td>\n",
       "      <td>13</td>\n",
       "      <td>False</td>\n",
       "      <td>5109</td>\n",
       "      <td>False</td>\n",
       "      <td>False</td>\n",
       "      <td>False</td>\n",
       "      <td>1</td>\n",
       "    </tr>\n",
       "    <tr>\n",
       "      <th>3</th>\n",
       "      <td>ën̈d̈g̈äm̈ës̈</td>\n",
       "      <td>15</td>\n",
       "      <td>0</td>\n",
       "      <td>False</td>\n",
       "      <td>31365</td>\n",
       "      <td>True</td>\n",
       "      <td>False</td>\n",
       "      <td>False</td>\n",
       "      <td>1</td>\n",
       "    </tr>\n",
       "    <tr>\n",
       "      <th>4</th>\n",
       "      <td>@frickIIILLLYYY Oh, wow! Daddy the Hedgehog is...</td>\n",
       "      <td>549</td>\n",
       "      <td>370</td>\n",
       "      <td>False</td>\n",
       "      <td>4658</td>\n",
       "      <td>False</td>\n",
       "      <td>False</td>\n",
       "      <td>False</td>\n",
       "      <td>1</td>\n",
       "    </tr>\n",
       "    <tr>\n",
       "      <th>5</th>\n",
       "      <td>Bored.. I need something to do someone hmu</td>\n",
       "      <td>0</td>\n",
       "      <td>60</td>\n",
       "      <td>False</td>\n",
       "      <td>10</td>\n",
       "      <td>True</td>\n",
       "      <td>False</td>\n",
       "      <td>False</td>\n",
       "      <td>1</td>\n",
       "    </tr>\n",
       "    <tr>\n",
       "      <th>6</th>\n",
       "      <td>RT @theviralmeme: me: have a good break\\n\\nstu...</td>\n",
       "      <td>0</td>\n",
       "      <td>43</td>\n",
       "      <td>False</td>\n",
       "      <td>86</td>\n",
       "      <td>True</td>\n",
       "      <td>False</td>\n",
       "      <td>False</td>\n",
       "      <td>1</td>\n",
       "    </tr>\n",
       "    <tr>\n",
       "      <th>7</th>\n",
       "      <td>Time.--6 hours.</td>\n",
       "      <td>102</td>\n",
       "      <td>3</td>\n",
       "      <td>False</td>\n",
       "      <td>10873</td>\n",
       "      <td>True</td>\n",
       "      <td>False</td>\n",
       "      <td>False</td>\n",
       "      <td>1</td>\n",
       "    </tr>\n",
       "    <tr>\n",
       "      <th>8</th>\n",
       "      <td>@wottow a beautiful scene, starring @MM_62_123...</td>\n",
       "      <td>578</td>\n",
       "      <td>17</td>\n",
       "      <td>False</td>\n",
       "      <td>5234</td>\n",
       "      <td>False</td>\n",
       "      <td>False</td>\n",
       "      <td>False</td>\n",
       "      <td>1</td>\n",
       "    </tr>\n",
       "    <tr>\n",
       "      <th>9</th>\n",
       "      <td>RT @DrJimmyStar: For great book promotion foll...</td>\n",
       "      <td>1</td>\n",
       "      <td>34</td>\n",
       "      <td>False</td>\n",
       "      <td>98</td>\n",
       "      <td>True</td>\n",
       "      <td>False</td>\n",
       "      <td>False</td>\n",
       "      <td>1</td>\n",
       "    </tr>\n",
       "  </tbody>\n",
       "</table>\n",
       "</div>"
      ],
      "text/plain": [
       "                                               tweet  followers_count   \n",
       "0  It's happening! The End Times! When that machi...             1129  \\\n",
       "1  The average price of duckNote across all excha...                3   \n",
       "2  Gooseberry Plush: Stir fermium and modified at...              505   \n",
       "3                                      ën̈d̈g̈äm̈ës̈               15   \n",
       "4  @frickIIILLLYYY Oh, wow! Daddy the Hedgehog is...              549   \n",
       "5         Bored.. I need something to do someone hmu                0   \n",
       "6  RT @theviralmeme: me: have a good break\\n\\nstu...                0   \n",
       "7                                    Time.--6 hours.              102   \n",
       "8  @wottow a beautiful scene, starring @MM_62_123...              578   \n",
       "9  RT @DrJimmyStar: For great book promotion foll...                1   \n",
       "\n",
       "   friends_count  verified  statuses_count  default_profile   \n",
       "0              7     False           23557            False  \\\n",
       "1              0     False            1050             True   \n",
       "2             13     False            5109            False   \n",
       "3              0     False           31365             True   \n",
       "4            370     False            4658            False   \n",
       "5             60     False              10             True   \n",
       "6             43     False              86             True   \n",
       "7              3     False           10873             True   \n",
       "8             17     False            5234            False   \n",
       "9             34     False              98             True   \n",
       "\n",
       "   default_profile_image has_extended_profile  bot  \n",
       "0                  False                False    1  \n",
       "1                  False                False    1  \n",
       "2                  False                False    1  \n",
       "3                  False                False    1  \n",
       "4                  False                False    1  \n",
       "5                  False                False    1  \n",
       "6                  False                False    1  \n",
       "7                  False                False    1  \n",
       "8                  False                False    1  \n",
       "9                  False                False    1  "
      ]
     },
     "execution_count": 9,
     "metadata": {},
     "output_type": "execute_result"
    }
   ],
   "source": [
    "df_clean.head(10)"
   ]
  },
  {
   "cell_type": "code",
   "execution_count": 10,
   "metadata": {},
   "outputs": [],
   "source": [
    "text_transformer = TfidfVectorizer(stop_words='english', ngram_range=(1, 2), lowercase=True, max_features=150000)"
   ]
  },
  {
   "cell_type": "code",
   "execution_count": 11,
   "metadata": {},
   "outputs": [],
   "source": [
    "df_train, df_test = train_test_split(df_clean,\n",
    "                                    stratify=df_clean[\"bot\"], \n",
    "                                    test_size=0.25)"
   ]
  },
  {
   "cell_type": "code",
   "execution_count": 12,
   "metadata": {},
   "outputs": [
    {
     "data": {
      "text/plain": [
       "((896, 9), (299, 9))"
      ]
     },
     "execution_count": 12,
     "metadata": {},
     "output_type": "execute_result"
    }
   ],
   "source": [
    "df_train.shape, df_test.shape"
   ]
  },
  {
   "cell_type": "code",
   "execution_count": 13,
   "metadata": {},
   "outputs": [
    {
     "data": {
      "text/plain": [
       "bot\n",
       "0    484\n",
       "1    412\n",
       "Name: count, dtype: int64"
      ]
     },
     "execution_count": 13,
     "metadata": {},
     "output_type": "execute_result"
    }
   ],
   "source": [
    "df_train.bot.value_counts()"
   ]
  },
  {
   "cell_type": "code",
   "execution_count": 14,
   "metadata": {},
   "outputs": [
    {
     "data": {
      "text/plain": [
       "bot\n",
       "0    162\n",
       "1    137\n",
       "Name: count, dtype: int64"
      ]
     },
     "execution_count": 14,
     "metadata": {},
     "output_type": "execute_result"
    }
   ],
   "source": [
    "df_test.bot.value_counts()"
   ]
  },
  {
   "cell_type": "code",
   "execution_count": 15,
   "metadata": {},
   "outputs": [],
   "source": [
    "tweet_tfidf_train = text_transformer.fit_transform(df_train['tweet'])\n",
    "tweet_tfidf_test = text_transformer.transform(df_test['tweet'])"
   ]
  },
  {
   "cell_type": "code",
   "execution_count": 16,
   "metadata": {},
   "outputs": [
    {
     "data": {
      "text/plain": [
       "<896x10281 sparse matrix of type '<class 'numpy.float64'>'\n",
       "\twith 13130 stored elements in Compressed Sparse Row format>"
      ]
     },
     "execution_count": 16,
     "metadata": {},
     "output_type": "execute_result"
    }
   ],
   "source": [
    "tweet_tfidf_train"
   ]
  },
  {
   "cell_type": "code",
   "execution_count": 17,
   "metadata": {},
   "outputs": [],
   "source": [
    "clf = LogisticRegression(random_state=0).fit(tweet_tfidf_train, df_train[\"bot\"])"
   ]
  },
  {
   "cell_type": "code",
   "execution_count": 18,
   "metadata": {},
   "outputs": [],
   "source": [
    "test_preds = clf.predict(tweet_tfidf_test)"
   ]
  },
  {
   "cell_type": "code",
   "execution_count": 19,
   "metadata": {},
   "outputs": [
    {
     "data": {
      "text/plain": [
       "label\n",
       "0    256\n",
       "1     43\n",
       "Name: count, dtype: int64"
      ]
     },
     "execution_count": 19,
     "metadata": {},
     "output_type": "execute_result"
    }
   ],
   "source": [
    "_dummy = pd.DataFrame(test_preds, columns=['label'])\n",
    "_dummy[\"label\"].value_counts()"
   ]
  },
  {
   "cell_type": "code",
   "execution_count": 35,
   "metadata": {},
   "outputs": [],
   "source": [
    "from sklearn.metrics import accuracy_score, roc_auc_score, confusion_matrix\n",
    "import seaborn as sn\n"
   ]
  },
  {
   "cell_type": "code",
   "execution_count": 22,
   "metadata": {},
   "outputs": [
    {
     "data": {
      "text/plain": [
       "0.6120401337792643"
      ]
     },
     "execution_count": 22,
     "metadata": {},
     "output_type": "execute_result"
    }
   ],
   "source": [
    "accuracy_score(df_test[\"bot\"],test_preds)"
   ]
  },
  {
   "cell_type": "code",
   "execution_count": 38,
   "metadata": {},
   "outputs": [
    {
     "data": {
      "text/plain": [
       "array([0, 1, 0, 0, 0, 0, 0, 0, 0, 0, 0, 1, 1, 0, 0, 1, 0, 0, 0, 1, 0, 1,\n",
       "       0, 0, 0, 0, 0, 0, 0, 1, 0, 0, 0, 0, 0, 0, 0, 0, 1, 0, 0, 0, 0, 0,\n",
       "       0, 0, 1, 0, 0, 1, 0, 0, 0, 0, 0, 0, 0, 0, 0, 1, 0, 0, 0, 0, 1, 0,\n",
       "       0, 0, 0, 1, 0, 0, 0, 0, 0, 0, 0, 0, 0, 0, 0, 0, 1, 0, 0, 1, 0, 0,\n",
       "       1, 0, 0, 0, 0, 0, 0, 0, 1, 0, 0, 0, 0, 0, 1, 0, 0, 0, 0, 0, 1, 0,\n",
       "       0, 0, 0, 0, 0, 0, 0, 1, 1, 0, 1, 0, 0, 0, 1, 0, 0, 0, 0, 0, 0, 0,\n",
       "       0, 0, 0, 0, 0, 0, 0, 0, 0, 0, 0, 0, 1, 0, 0, 0, 0, 1, 0, 0, 0, 0,\n",
       "       0, 0, 0, 0, 1, 0, 0, 0, 0, 0, 0, 0, 0, 0, 0, 0, 0, 0, 0, 0, 0, 0,\n",
       "       0, 0, 0, 0, 1, 0, 0, 0, 1, 0, 1, 0, 0, 0, 0, 0, 0, 0, 0, 0, 0, 0,\n",
       "       0, 0, 0, 0, 0, 0, 0, 0, 0, 0, 0, 0, 0, 0, 1, 0, 0, 0, 0, 0, 0, 0,\n",
       "       0, 1, 0, 0, 1, 0, 0, 1, 1, 0, 0, 0, 0, 0, 0, 0, 1, 0, 0, 0, 0, 0,\n",
       "       0, 0, 0, 0, 0, 0, 0, 0, 0, 0, 0, 1, 0, 0, 0, 0, 0, 0, 0, 0, 0, 0,\n",
       "       0, 1, 0, 0, 0, 1, 0, 0, 0, 0, 0, 1, 0, 0, 0, 0, 0, 1, 0, 0, 0, 0,\n",
       "       0, 0, 0, 0, 0, 1, 1, 0, 1, 0, 0, 0, 0])"
      ]
     },
     "execution_count": 38,
     "metadata": {},
     "output_type": "execute_result"
    }
   ],
   "source": [
    "test_preds"
   ]
  },
  {
   "cell_type": "code",
   "execution_count": 88,
   "metadata": {},
   "outputs": [
    {
     "name": "stderr",
     "output_type": "stream",
     "text": [
      "/var/folders/vx/c0vs5l7n3mb0v0mzrrq7hsb00000gn/T/ipykernel_53584/2870446043.py:3: UserWarning: FixedFormatter should only be used together with FixedLocator\n",
      "  ax.xaxis.set_ticklabels([\"\",\"human\", \"bot\"])\n",
      "/var/folders/vx/c0vs5l7n3mb0v0mzrrq7hsb00000gn/T/ipykernel_53584/2870446043.py:4: UserWarning: FixedFormatter should only be used together with FixedLocator\n",
      "  ax.yaxis.set_ticklabels([\"\",\"human\", \"bot\"])\n"
     ]
    },
    {
     "data": {
      "image/png": "[encoded data removed]",
      "text/plain": [
       "<Figure size 750x750 with 1 Axes>"
      ]
     },
     "metadata": {},
     "output_type": "display_data"
    },
    {
     "data": {
      "text/plain": [
       "<Figure size 640x480 with 0 Axes>"
      ]
     },
     "metadata": {},
     "output_type": "display_data"
    }
   ],
   "source": [
    "cm = confusion_matrix(df_test[\"bot\"], test_preds)\n",
    "fig, ax = plt.subplots(figsize=(7.5, 7.5))\n",
    "ax.xaxis.set_ticklabels([\"\",\"human\", \"bot\"])\n",
    "ax.yaxis.set_ticklabels([\"\",\"human\", \"bot\"])\n",
    "\n",
    "ax.matshow(cm, cmap=plt.cm.Blues, alpha=0.3)\n",
    "for i in range(cm.shape[0]):\n",
    "    for j in range(cm.shape[1]):\n",
    "        ax.text(x=j, y=i,s=cm[i, j], va='center', ha='center', size='xx-large')\n",
    " \n",
    "plt.xlabel('Predictions', fontsize=18)\n",
    "plt.ylabel('Actuals', fontsize=18)\n",
    "plt.title('Confusion Matrix', fontsize=18)\n",
    "\n",
    "plt.show()\n",
    "plt.savefig(\"../Evaluation Graphs/LR_Confusion_Matrix.png\")"
   ]
  },
  {
   "cell_type": "code",
   "execution_count": 29,
   "metadata": {},
   "outputs": [
    {
     "data": {
      "image/png": "[encoded data removed]",
      "text/plain": [
       "<Figure size 640x480 with 1 Axes>"
      ]
     },
     "metadata": {},
     "output_type": "display_data"
    },
    {
     "data": {
      "text/plain": [
       "<Figure size 640x480 with 0 Axes>"
      ]
     },
     "metadata": {},
     "output_type": "display_data"
    }
   ],
   "source": [
    "from sklearn import metrics\n",
    "import matplotlib.pyplot as plt\n",
    "\n",
    "fpr, tpr, _ = metrics.roc_curve(df_test[\"bot\"],test_preds)\n",
    "\n",
    "#create ROC curve\n",
    "plt.plot(fpr,tpr)\n",
    "plt.ylabel('True Positive Rate')\n",
    "plt.xlabel('False Positive Rate')\n",
    "plt.show()\n",
    "plt.savefig(\"../Evaluation Graphs/LR_ROC_AUC.png\")\n",
    "\n"
   ]
  },
  {
   "cell_type": "code",
   "execution_count": 24,
   "metadata": {},
   "outputs": [],
   "source": [
    "from sklearn import svm\n",
    "\n",
    "#Create a svm Classifier\n",
    "clf = svm.SVC(kernel='linear') # Linear Kernel\n",
    "\n",
    "#Train the model using the training sets\n",
    "clf.fit(tweet_tfidf_train, df_train[\"bot\"])\n",
    "\n",
    "#Predict the response for test dataset\n",
    "y_pred = clf.predict(tweet_tfidf_test)"
   ]
  },
  {
   "cell_type": "code",
   "execution_count": 25,
   "metadata": {},
   "outputs": [
    {
     "data": {
      "text/plain": [
       "0.7090301003344481"
      ]
     },
     "execution_count": 25,
     "metadata": {},
     "output_type": "execute_result"
    }
   ],
   "source": [
    "accuracy_score(df_test[\"bot\"],y_pred)"
   ]
  },
  {
   "cell_type": "code",
   "execution_count": 28,
   "metadata": {},
   "outputs": [
    {
     "data": {
      "image/png": "[encoded data removed]",
      "text/plain": [
       "<Figure size 640x480 with 1 Axes>"
      ]
     },
     "metadata": {},
     "output_type": "display_data"
    },
    {
     "data": {
      "text/plain": [
       "<Figure size 640x480 with 0 Axes>"
      ]
     },
     "metadata": {},
     "output_type": "display_data"
    }
   ],
   "source": [
    "from sklearn import metrics\n",
    "import matplotlib.pyplot as plt\n",
    "\n",
    "fpr, tpr, _ = metrics.roc_curve(df_test[\"bot\"],y_pred)\n",
    "\n",
    "#create ROC curve\n",
    "plt.plot(fpr,tpr)\n",
    "plt.ylabel('True Positive Rate')\n",
    "plt.xlabel('False Positive Rate')\n",
    "plt.show()\n",
    "plt.savefig(\"../Evaluation Graphs/SVM_ROC_AUC.png\")\n"
   ]
  },
  {
   "cell_type": "code",
   "execution_count": 54,
   "metadata": {},
   "outputs": [
    {
     "name": "stderr",
     "output_type": "stream",
     "text": [
      "/var/folders/vx/c0vs5l7n3mb0v0mzrrq7hsb00000gn/T/ipykernel_53584/4214337532.py:3: UserWarning: FixedFormatter should only be used together with FixedLocator\n",
      "  ax.xaxis.set_ticklabels([\"\",\"human\", \"bot\"])\n",
      "/var/folders/vx/c0vs5l7n3mb0v0mzrrq7hsb00000gn/T/ipykernel_53584/4214337532.py:4: UserWarning: FixedFormatter should only be used together with FixedLocator\n",
      "  ax.yaxis.set_ticklabels([\"\",\"human\", \"bot\"])\n"
     ]
    },
    {
     "data": {
      "image/png": "[encoded data removed]",
      "text/plain": [
       "<Figure size 750x750 with 1 Axes>"
      ]
     },
     "metadata": {},
     "output_type": "display_data"
    },
    {
     "data": {
      "text/plain": [
       "<Figure size 640x480 with 0 Axes>"
      ]
     },
     "metadata": {},
     "output_type": "display_data"
    }
   ],
   "source": [
    "cm = confusion_matrix(df_test[\"bot\"], y_pred)\n",
    "fig, ax = plt.subplots(figsize=(7.5, 7.5))\n",
    "ax.xaxis.set_ticklabels([\"\",\"human\", \"bot\"])\n",
    "ax.yaxis.set_ticklabels([\"\",\"human\", \"bot\"])\n",
    "\n",
    "ax.matshow(cm, cmap=plt.cm.Blues, alpha=0.3)\n",
    "for i in range(cm.shape[0]):\n",
    "    for j in range(cm.shape[1]):\n",
    "        ax.text(x=j, y=i,s=cm[i, j], va='center', ha='center', size='xx-large')\n",
    " \n",
    "plt.xlabel('Predictions', fontsize=18)\n",
    "plt.ylabel('Actuals', fontsize=18)\n",
    "plt.title('Confusion Matrix', fontsize=18)\n",
    "\n",
    "plt.show()\n",
    "plt.savefig(\"../Evaluation Graphs/SVM_Confusion_Matrix.png\")"
   ]
  },
  {
   "cell_type": "code",
   "execution_count": 66,
   "metadata": {},
   "outputs": [
    {
     "data": {
      "text/plain": [
       "<1x10281 sparse matrix of type '<class 'numpy.float64'>'\n",
       "\twith 4 stored elements in Compressed Sparse Row format>"
      ]
     },
     "execution_count": 66,
     "metadata": {},
     "output_type": "execute_result"
    }
   ],
   "source": [
    "tweet_tfidf_test[1]"
   ]
  },
  {
   "cell_type": "code",
   "execution_count": 70,
   "metadata": {},
   "outputs": [],
   "source": [
    "demo_test_label = \n"
   ]
  },
  {
   "cell_type": "code",
   "execution_count": 83,
   "metadata": {},
   "outputs": [],
   "source": [
    "def demo_func(index):\n",
    "    text_transformer = TfidfVectorizer(stop_words='english', ngram_range=(1, 2), lowercase=True, max_features=150000)\n",
    "    tweet_tfidf_demo_train = text_transformer.fit_transform(df_train['tweet'])\n",
    "    tweet_tfidf_demo = text_transformer.transform(df_test.iloc[[index]][\"tweet\"])\n",
    "    demo_test_label = df_test.iloc[[index]][\"bot\"]\n",
    "    demo_pred = clf.predict(tweet_tfidf_demo)\n",
    "    print(f\"Test Index : {index}\")\n",
    "    print(f\"Input {df_test.iloc[index]}\")\n",
    "    print(f\"Model prediction: {demo_pred} , Actual Label: {demo_test_label}\")"
   ]
  },
  {
   "cell_type": "code",
   "execution_count": 84,
   "metadata": {},
   "outputs": [
    {
     "name": "stdout",
     "output_type": "stream",
     "text": [
      "Test Index : 1\n",
      "Input tweet                    Since my master is too lazy to update me, I ma...\n",
      "followers_count                                                       1786\n",
      "friends_count                                                         2525\n",
      "verified                                                             False\n",
      "statuses_count                                                      136932\n",
      "default_profile                                                      False\n",
      "default_profile_image                                                False\n",
      "has_extended_profile                                                 False\n",
      "bot                                                                      1\n",
      "Name: 251, dtype: object\n",
      "Model prediction: [1] , Actual Label: 251    1\n",
      "Name: bot, dtype: int64\n"
     ]
    }
   ],
   "source": [
    "demo_func(1)"
   ]
  },
  {
   "cell_type": "code",
   "execution_count": 85,
   "metadata": {},
   "outputs": [
    {
     "name": "stdout",
     "output_type": "stream",
     "text": [
      "Test Index : 10\n",
      "Input tweet                    \"Super Mario Ran\" https://t.co/1wati8DWXU\n",
      "followers_count                                               3749\n",
      "friends_count                                                    1\n",
      "verified                                                     False\n",
      "statuses_count                                                7931\n",
      "default_profile                                              False\n",
      "default_profile_image                                        False\n",
      "has_extended_profile                                         False\n",
      "bot                                                              0\n",
      "Name: 617, dtype: object\n",
      "Model prediction: [0] , Actual Label: 617    0\n",
      "Name: bot, dtype: int64\n"
     ]
    }
   ],
   "source": [
    "demo_func(10)"
   ]
  },
  {
   "cell_type": "code",
   "execution_count": 87,
   "metadata": {},
   "outputs": [
    {
     "name": "stdout",
     "output_type": "stream",
     "text": [
      "Test Index : 176\n",
      "Input tweet                    Medvedeva (RUS) and Canadians Chan, Duhamel/Ra...\n",
      "followers_count                                                       1784\n",
      "friends_count                                                           43\n",
      "verified                                                             False\n",
      "statuses_count                                                         389\n",
      "default_profile                                                      False\n",
      "default_profile_image                                                False\n",
      "has_extended_profile                                                 False\n",
      "bot                                                                      1\n",
      "Name: 52, dtype: object\n",
      "Model prediction: [0] , Actual Label: 52    1\n",
      "Name: bot, dtype: int64\n"
     ]
    }
   ],
   "source": [
    "demo_func(176)"
   ]
  }
 ],
 "metadata": {
  "kernelspec": {
   "display_name": "bot",
   "language": "python",
   "name": "python3"
  },
  "language_info": {
   "codemirror_mode": {
    "name": "ipython",
    "version": 3
   },
   "file_extension": ".py",
   "mimetype": "text/x-python",
   "name": "python",
   "nbconvert_exporter": "python",
   "pygments_lexer": "ipython3",
   "version": "3.11.2"
  },
  "orig_nbformat": 4,
  "vscode": {
   "interpreter": {
    "hash": "2d4c05f7b456e5eec7b61190f18e37cb24fb39db5d81502df148c928f7654c48"
   }
  }
 },
 "nbformat": 4,
 "nbformat_minor": 2
}
