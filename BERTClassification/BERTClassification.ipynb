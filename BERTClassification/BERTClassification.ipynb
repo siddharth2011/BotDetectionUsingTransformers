{
  "nbformat": 4,
  "nbformat_minor": 0,
  "metadata": {
    "colab": {
      "provenance": [],
      "collapsed_sections": [
        "1jDvIEYypjT1"
      ]
    },
    "kernelspec": {
      "name": "python3",
      "display_name": "Python 3"
    },
    "language_info": {
      "name": "python"
    },
    "accelerator": "GPU",
    "gpuClass": "standard"
  },
  "cells": [
    {
      "cell_type": "markdown",
      "metadata": {
        "id": "view-in-github"
      },
      "source": [
        "<a href=\"https://colab.research.google.com/github/siddharth2011/Bot_Detection/blob/main/BERTClassification.ipynb\" target=\"_parent\"><img src=\"https://colab.research.google.com/assets/colab-badge.svg\" alt=\"Open In Colab\"/></a>"
      ]
    },
    {
      "cell_type": "code",
      "source": [
        "!pip install transformers"
      ],
      "metadata": {
        "id": "WzNyIIloQ4H0",
        "colab": {
          "base_uri": "https://localhost:8080/"
        },
        "outputId": "83c2ef72-a827-4a04-9df6-3173a19144e4"
      },
      "execution_count": 1,
      "outputs": [
        {
          "output_type": "stream",
          "name": "stdout",
          "text": [
            "Looking in indexes: https://pypi.org/simple, https://us-python.pkg.dev/colab-wheels/public/simple/\n",
            "Requirement already satisfied: transformers in /usr/local/lib/python3.9/dist-packages (4.28.1)\n",
            "Requirement already satisfied: numpy>=1.17 in /usr/local/lib/python3.9/dist-packages (from transformers) (1.22.4)\n",
            "Requirement already satisfied: huggingface-hub<1.0,>=0.11.0 in /usr/local/lib/python3.9/dist-packages (from transformers) (0.13.4)\n",
            "Requirement already satisfied: pyyaml>=5.1 in /usr/local/lib/python3.9/dist-packages (from transformers) (6.0)\n",
            "Requirement already satisfied: tqdm>=4.27 in /usr/local/lib/python3.9/dist-packages (from transformers) (4.65.0)\n",
            "Requirement already satisfied: filelock in /usr/local/lib/python3.9/dist-packages (from transformers) (3.11.0)\n",
            "Requirement already satisfied: regex!=2019.12.17 in /usr/local/lib/python3.9/dist-packages (from transformers) (2022.10.31)\n",
            "Requirement already satisfied: packaging>=20.0 in /usr/local/lib/python3.9/dist-packages (from transformers) (23.1)\n",
            "Requirement already satisfied: tokenizers!=0.11.3,<0.14,>=0.11.1 in /usr/local/lib/python3.9/dist-packages (from transformers) (0.13.3)\n",
            "Requirement already satisfied: requests in /usr/local/lib/python3.9/dist-packages (from transformers) (2.27.1)\n",
            "Requirement already satisfied: typing-extensions>=3.7.4.3 in /usr/local/lib/python3.9/dist-packages (from huggingface-hub<1.0,>=0.11.0->transformers) (4.5.0)\n",
            "Requirement already satisfied: idna<4,>=2.5 in /usr/local/lib/python3.9/dist-packages (from requests->transformers) (3.4)\n",
            "Requirement already satisfied: certifi>=2017.4.17 in /usr/local/lib/python3.9/dist-packages (from requests->transformers) (2022.12.7)\n",
            "Requirement already satisfied: urllib3<1.27,>=1.21.1 in /usr/local/lib/python3.9/dist-packages (from requests->transformers) (1.26.15)\n",
            "Requirement already satisfied: charset-normalizer~=2.0.0 in /usr/local/lib/python3.9/dist-packages (from requests->transformers) (2.0.12)\n"
          ]
        }
      ]
    },
    {
      "cell_type": "code",
      "source": [
        "import numpy as np\n",
        "import pandas as pd\n",
        "from tqdm import tqdm\n",
        "import matplotlib.pyplot as plt\n",
        "from sklearn.metrics import accuracy_score, precision_score, recall_score, confusion_matrix, f1_score, roc_auc_score, ConfusionMatrixDisplay, RocCurveDisplay\n",
        "\n",
        "import torch\n",
        "from torch import nn\n",
        "from torch.optim import Adam\n",
        "\n",
        "from transformers import BertTokenizer, BertModel"
      ],
      "metadata": {
        "id": "kVkNB5xRrBHx"
      },
      "execution_count": 2,
      "outputs": []
    },
    {
      "cell_type": "markdown",
      "source": [
        "## Data prepration"
      ],
      "metadata": {
        "id": "1jDvIEYypjT1"
      }
    },
    {
      "cell_type": "code",
      "source": [
        "datapath=\"/content/dataset.csv\""
      ],
      "metadata": {
        "id": "JWeg1iX7nnv0"
      },
      "execution_count": 3,
      "outputs": []
    },
    {
      "cell_type": "code",
      "source": [
        "df = pd.read_csv(datapath)\n",
        "df.head()"
      ],
      "metadata": {
        "colab": {
          "base_uri": "https://localhost:8080/",
          "height": 513
        },
        "id": "YH2CtztlnU7v",
        "outputId": "148d8388-4a12-452a-fbf3-96742b16d51f"
      },
      "execution_count": 4,
      "outputs": [
        {
          "output_type": "execute_result",
          "data": {
            "text/plain": [
              "             id      id_str    screen_name       location  \\\n",
              "0  3.982732e+09  3982731976   mcgucket_bot            NaN   \n",
              "1  8.410000e+17    8.41E+17       BowieK66            NaN   \n",
              "2  2.768375e+09  2768374981  ducknoteprice            NaN   \n",
              "3  3.304189e+09  3304189373   robotrecipes  robot kitchen   \n",
              "4  3.224289e+09  3224289024    everyumlaut            NaN   \n",
              "\n",
              "                                         description                     url  \\\n",
              "0  A bot that tweets every line said by Fiddlefor...                     NaN   \n",
              "1                                                NaN                     NaN   \n",
              "2                                                NaN                     NaN   \n",
              "3  tasty recipes for robot // not for human // a ...  http://t.co/PdagJGqVMR   \n",
              "4                                   bot by @dbaker_h                     NaN   \n",
              "\n",
              "   followers_count  friends_count  listedcount  \\\n",
              "0             1129              7            2   \n",
              "1                0             22            0   \n",
              "2                3              0            3   \n",
              "3              505             13           49   \n",
              "4               15              0           11   \n",
              "\n",
              "                       created_at  favourites_count  verified  statuses_count  \\\n",
              "0  Sat Oct 17 22:35:31 +0000 2015                 0     False           23557   \n",
              "1                13/03/2017 22:21                 0     False               1   \n",
              "2  Mon Aug 25 23:17:59 +0000 2014                 0     False            1050   \n",
              "3  Sat May 30 23:42:16 +0000 2015                 0     False            5109   \n",
              "4  Sat May 23 14:39:21 +0000 2015                 0     False           31365   \n",
              "\n",
              "    lang                                             status  default_profile  \\\n",
              "0     en  {'retweeted': False, 'is_quote_status': False,...            False   \n",
              "1     en  Status(_api=<tweepy.api.API object at 0x101927...             True   \n",
              "2     en  {'created_at': 'Fri Feb 26 17:01:15 +0000 2016...             True   \n",
              "3     en  {u'contributors': None, u'truncated': False, u...            False   \n",
              "4  en-gb  {u'contributors': None, u'truncated': False, u...             True   \n",
              "\n",
              "   default_profile_image has_extended_profile                  name  bot  \n",
              "0                  False                False          McGucket bot    1  \n",
              "1                   True                False               MJ Kuhn    1  \n",
              "2                  False                False              duckNote    1  \n",
              "3                  False                False         robot recipes    1  \n",
              "4                  False                False  ÌÇvÌÇrÌÀ Ì_mlÌ_Ì_¼Ñ    1  "
            ],
            "text/html": [
              "\n",
              "  <div id=\"df-b94a959c-cd7f-4e9b-8b4c-05a39221c231\">\n",
              "    <div class=\"colab-df-container\">\n",
              "      <div>\n",
              "<style scoped>\n",
              "    .dataframe tbody tr th:only-of-type {\n",
              "        vertical-align: middle;\n",
              "    }\n",
              "\n",
              "    .dataframe tbody tr th {\n",
              "        vertical-align: top;\n",
              "    }\n",
              "\n",
              "    .dataframe thead th {\n",
              "        text-align: right;\n",
              "    }\n",
              "</style>\n",
              "<table border=\"1\" class=\"dataframe\">\n",
              "  <thead>\n",
              "    <tr style=\"text-align: right;\">\n",
              "      <th></th>\n",
              "      <th>id</th>\n",
              "      <th>id_str</th>\n",
              "      <th>screen_name</th>\n",
              "      <th>location</th>\n",
              "      <th>description</th>\n",
              "      <th>url</th>\n",
              "      <th>followers_count</th>\n",
              "      <th>friends_count</th>\n",
              "      <th>listedcount</th>\n",
              "      <th>created_at</th>\n",
              "      <th>favourites_count</th>\n",
              "      <th>verified</th>\n",
              "      <th>statuses_count</th>\n",
              "      <th>lang</th>\n",
              "      <th>status</th>\n",
              "      <th>default_profile</th>\n",
              "      <th>default_profile_image</th>\n",
              "      <th>has_extended_profile</th>\n",
              "      <th>name</th>\n",
              "      <th>bot</th>\n",
              "    </tr>\n",
              "  </thead>\n",
              "  <tbody>\n",
              "    <tr>\n",
              "      <th>0</th>\n",
              "      <td>3.982732e+09</td>\n",
              "      <td>3982731976</td>\n",
              "      <td>mcgucket_bot</td>\n",
              "      <td>NaN</td>\n",
              "      <td>A bot that tweets every line said by Fiddlefor...</td>\n",
              "      <td>NaN</td>\n",
              "      <td>1129</td>\n",
              "      <td>7</td>\n",
              "      <td>2</td>\n",
              "      <td>Sat Oct 17 22:35:31 +0000 2015</td>\n",
              "      <td>0</td>\n",
              "      <td>False</td>\n",
              "      <td>23557</td>\n",
              "      <td>en</td>\n",
              "      <td>{'retweeted': False, 'is_quote_status': False,...</td>\n",
              "      <td>False</td>\n",
              "      <td>False</td>\n",
              "      <td>False</td>\n",
              "      <td>McGucket bot</td>\n",
              "      <td>1</td>\n",
              "    </tr>\n",
              "    <tr>\n",
              "      <th>1</th>\n",
              "      <td>8.410000e+17</td>\n",
              "      <td>8.41E+17</td>\n",
              "      <td>BowieK66</td>\n",
              "      <td>NaN</td>\n",
              "      <td>NaN</td>\n",
              "      <td>NaN</td>\n",
              "      <td>0</td>\n",
              "      <td>22</td>\n",
              "      <td>0</td>\n",
              "      <td>13/03/2017 22:21</td>\n",
              "      <td>0</td>\n",
              "      <td>False</td>\n",
              "      <td>1</td>\n",
              "      <td>en</td>\n",
              "      <td>Status(_api=&lt;tweepy.api.API object at 0x101927...</td>\n",
              "      <td>True</td>\n",
              "      <td>True</td>\n",
              "      <td>False</td>\n",
              "      <td>MJ Kuhn</td>\n",
              "      <td>1</td>\n",
              "    </tr>\n",
              "    <tr>\n",
              "      <th>2</th>\n",
              "      <td>2.768375e+09</td>\n",
              "      <td>2768374981</td>\n",
              "      <td>ducknoteprice</td>\n",
              "      <td>NaN</td>\n",
              "      <td>NaN</td>\n",
              "      <td>NaN</td>\n",
              "      <td>3</td>\n",
              "      <td>0</td>\n",
              "      <td>3</td>\n",
              "      <td>Mon Aug 25 23:17:59 +0000 2014</td>\n",
              "      <td>0</td>\n",
              "      <td>False</td>\n",
              "      <td>1050</td>\n",
              "      <td>en</td>\n",
              "      <td>{'created_at': 'Fri Feb 26 17:01:15 +0000 2016...</td>\n",
              "      <td>True</td>\n",
              "      <td>False</td>\n",
              "      <td>False</td>\n",
              "      <td>duckNote</td>\n",
              "      <td>1</td>\n",
              "    </tr>\n",
              "    <tr>\n",
              "      <th>3</th>\n",
              "      <td>3.304189e+09</td>\n",
              "      <td>3304189373</td>\n",
              "      <td>robotrecipes</td>\n",
              "      <td>robot kitchen</td>\n",
              "      <td>tasty recipes for robot // not for human // a ...</td>\n",
              "      <td>http://t.co/PdagJGqVMR</td>\n",
              "      <td>505</td>\n",
              "      <td>13</td>\n",
              "      <td>49</td>\n",
              "      <td>Sat May 30 23:42:16 +0000 2015</td>\n",
              "      <td>0</td>\n",
              "      <td>False</td>\n",
              "      <td>5109</td>\n",
              "      <td>en</td>\n",
              "      <td>{u'contributors': None, u'truncated': False, u...</td>\n",
              "      <td>False</td>\n",
              "      <td>False</td>\n",
              "      <td>False</td>\n",
              "      <td>robot recipes</td>\n",
              "      <td>1</td>\n",
              "    </tr>\n",
              "    <tr>\n",
              "      <th>4</th>\n",
              "      <td>3.224289e+09</td>\n",
              "      <td>3224289024</td>\n",
              "      <td>everyumlaut</td>\n",
              "      <td>NaN</td>\n",
              "      <td>bot by @dbaker_h</td>\n",
              "      <td>NaN</td>\n",
              "      <td>15</td>\n",
              "      <td>0</td>\n",
              "      <td>11</td>\n",
              "      <td>Sat May 23 14:39:21 +0000 2015</td>\n",
              "      <td>0</td>\n",
              "      <td>False</td>\n",
              "      <td>31365</td>\n",
              "      <td>en-gb</td>\n",
              "      <td>{u'contributors': None, u'truncated': False, u...</td>\n",
              "      <td>True</td>\n",
              "      <td>False</td>\n",
              "      <td>False</td>\n",
              "      <td>ÌÇvÌÇrÌÀ Ì_mlÌ_Ì_¼Ñ</td>\n",
              "      <td>1</td>\n",
              "    </tr>\n",
              "  </tbody>\n",
              "</table>\n",
              "</div>\n",
              "      <button class=\"colab-df-convert\" onclick=\"convertToInteractive('df-b94a959c-cd7f-4e9b-8b4c-05a39221c231')\"\n",
              "              title=\"Convert this dataframe to an interactive table.\"\n",
              "              style=\"display:none;\">\n",
              "        \n",
              "  <svg xmlns=\"http://www.w3.org/2000/svg\" height=\"24px\"viewBox=\"0 0 24 24\"\n",
              "       width=\"24px\">\n",
              "    <path d=\"M0 0h24v24H0V0z\" fill=\"none\"/>\n",
              "    <path d=\"M18.56 5.44l.94 2.06.94-2.06 2.06-.94-2.06-.94-.94-2.06-.94 2.06-2.06.94zm-11 1L8.5 8.5l.94-2.06 2.06-.94-2.06-.94L8.5 2.5l-.94 2.06-2.06.94zm10 10l.94 2.06.94-2.06 2.06-.94-2.06-.94-.94-2.06-.94 2.06-2.06.94z\"/><path d=\"M17.41 7.96l-1.37-1.37c-.4-.4-.92-.59-1.43-.59-.52 0-1.04.2-1.43.59L10.3 9.45l-7.72 7.72c-.78.78-.78 2.05 0 2.83L4 21.41c.39.39.9.59 1.41.59.51 0 1.02-.2 1.41-.59l7.78-7.78 2.81-2.81c.8-.78.8-2.07 0-2.86zM5.41 20L4 18.59l7.72-7.72 1.47 1.35L5.41 20z\"/>\n",
              "  </svg>\n",
              "      </button>\n",
              "      \n",
              "  <style>\n",
              "    .colab-df-container {\n",
              "      display:flex;\n",
              "      flex-wrap:wrap;\n",
              "      gap: 12px;\n",
              "    }\n",
              "\n",
              "    .colab-df-convert {\n",
              "      background-color: #E8F0FE;\n",
              "      border: none;\n",
              "      border-radius: 50%;\n",
              "      cursor: pointer;\n",
              "      display: none;\n",
              "      fill: #1967D2;\n",
              "      height: 32px;\n",
              "      padding: 0 0 0 0;\n",
              "      width: 32px;\n",
              "    }\n",
              "\n",
              "    .colab-df-convert:hover {\n",
              "      background-color: #E2EBFA;\n",
              "      box-shadow: 0px 1px 2px rgba(60, 64, 67, 0.3), 0px 1px 3px 1px rgba(60, 64, 67, 0.15);\n",
              "      fill: #174EA6;\n",
              "    }\n",
              "\n",
              "    [theme=dark] .colab-df-convert {\n",
              "      background-color: #3B4455;\n",
              "      fill: #D2E3FC;\n",
              "    }\n",
              "\n",
              "    [theme=dark] .colab-df-convert:hover {\n",
              "      background-color: #434B5C;\n",
              "      box-shadow: 0px 1px 3px 1px rgba(0, 0, 0, 0.15);\n",
              "      filter: drop-shadow(0px 1px 2px rgba(0, 0, 0, 0.3));\n",
              "      fill: #FFFFFF;\n",
              "    }\n",
              "  </style>\n",
              "\n",
              "      <script>\n",
              "        const buttonEl =\n",
              "          document.querySelector('#df-b94a959c-cd7f-4e9b-8b4c-05a39221c231 button.colab-df-convert');\n",
              "        buttonEl.style.display =\n",
              "          google.colab.kernel.accessAllowed ? 'block' : 'none';\n",
              "\n",
              "        async function convertToInteractive(key) {\n",
              "          const element = document.querySelector('#df-b94a959c-cd7f-4e9b-8b4c-05a39221c231');\n",
              "          const dataTable =\n",
              "            await google.colab.kernel.invokeFunction('convertToInteractive',\n",
              "                                                     [key], {});\n",
              "          if (!dataTable) return;\n",
              "\n",
              "          const docLinkHtml = 'Like what you see? Visit the ' +\n",
              "            '<a target=\"_blank\" href=https://colab.research.google.com/notebooks/data_table.ipynb>data table notebook</a>'\n",
              "            + ' to learn more about interactive tables.';\n",
              "          element.innerHTML = '';\n",
              "          dataTable['output_type'] = 'display_data';\n",
              "          await google.colab.output.renderOutput(dataTable, element);\n",
              "          const docLink = document.createElement('div');\n",
              "          docLink.innerHTML = docLinkHtml;\n",
              "          element.appendChild(docLink);\n",
              "        }\n",
              "      </script>\n",
              "    </div>\n",
              "  </div>\n",
              "  "
            ]
          },
          "metadata": {},
          "execution_count": 4
        }
      ]
    },
    {
      "cell_type": "code",
      "source": [
        "df.shape"
      ],
      "metadata": {
        "colab": {
          "base_uri": "https://localhost:8080/"
        },
        "id": "nW90Nf6BuDYb",
        "outputId": "aebaf9fc-7474-4988-b8db-4da1bb52a82c"
      },
      "execution_count": 5,
      "outputs": [
        {
          "output_type": "execute_result",
          "data": {
            "text/plain": [
              "(2232, 20)"
            ]
          },
          "metadata": {},
          "execution_count": 5
        }
      ]
    },
    {
      "cell_type": "code",
      "source": [
        "np.random.seed(112)\n",
        "df_train, df_val, df_test = np.split(df.sample(frac=1, random_state=42), \n",
        "                                     [int(.8*len(df)), int(.9*len(df))])\n",
        "\n",
        "print('Train Size: ', len(df_train), '| Val Size: ', len(df_val), '|Test Size: ', len(df_test))"
      ],
      "metadata": {
        "colab": {
          "base_uri": "https://localhost:8080/"
        },
        "id": "00YM9hagGFND",
        "outputId": "3dd726ce-dfe3-4760-e1a2-a529f97e496e"
      },
      "execution_count": 6,
      "outputs": [
        {
          "output_type": "stream",
          "name": "stdout",
          "text": [
            "Train Size:  1785 | Val Size:  223 |Test Size:  224\n"
          ]
        }
      ]
    },
    {
      "cell_type": "code",
      "source": [
        "class Dataset(torch.utils.data.Dataset):\n",
        "\n",
        "    def __init__(self, df, label_encoding):\n",
        "\n",
        "        self.tokenizer = BertTokenizer.from_pretrained('bert-base-cased')\n",
        "        # self.labels = [labels[label] for label in df['bot']]\n",
        "        self.labels = df['bot'].values\n",
        "        column_names = df.columns.tolist()\n",
        "        column_names.remove('bot')\n",
        "        global_txt_list=[]\n",
        "        for sublist in df.values.tolist():\n",
        "            count = 0\n",
        "            lst=\"\"\n",
        "            for x in sublist[:len(sublist) - 1]:\n",
        "                lst = lst + ((column_names[count] + \" = \" + str(x))) + \", \"\n",
        "                count+=1\n",
        "            lst= lst[0:len(lst) - 2]\n",
        "            global_txt_list.append(lst)\n",
        "        self.texts = [self.tokenizer(txt, \n",
        "                               padding='max_length', max_length = 512, truncation=True,\n",
        "                                return_tensors=\"pt\") for txt in global_txt_list]\n",
        "            \n",
        "    def classes(self):\n",
        "        return self.labels\n",
        "\n",
        "    def __len__(self):\n",
        "        return len(self.labels)\n",
        "\n",
        "    def get_batch_labels(self, idx):\n",
        "        # Fetch a batch of labels\n",
        "        return np.array(self.labels[idx])\n",
        "\n",
        "    def get_batch_texts(self, idx):\n",
        "        # Fetch a batch of inputs\n",
        "        return self.texts[idx]\n",
        "\n",
        "    def __getitem__(self, idx):\n",
        "\n",
        "        batch_texts = self.get_batch_texts(idx)\n",
        "        batch_y = self.get_batch_labels(idx)\n",
        "\n",
        "        return batch_texts, batch_y"
      ],
      "metadata": {
        "id": "frkISsiLooLu"
      },
      "execution_count": 7,
      "outputs": []
    },
    {
      "cell_type": "markdown",
      "source": [
        "##Model Building"
      ],
      "metadata": {
        "id": "kyQZIbWJpm_I"
      }
    },
    {
      "cell_type": "code",
      "source": [
        "class BertClassifier(nn.Module):\n",
        "\n",
        "    def __init__(self, dropout=0.5):\n",
        "\n",
        "        super(BertClassifier, self).__init__()\n",
        "        #Defining the model to be used\n",
        "        self.bert = BertModel.from_pretrained('bert-base-cased') \n",
        "        #Adding dropout layer\n",
        "        self.dropout = nn.Dropout(dropout)\n",
        "        self.linear = nn.Linear(768, 5)\n",
        "        self.relu = nn.ReLU()\n",
        "\n",
        "    def forward(self, input_id, mask):\n",
        "\n",
        "        _, pooled_output = self.bert(input_ids= input_id, attention_mask=mask,return_dict=False)\n",
        "        dropout_output = self.dropout(pooled_output)\n",
        "        linear_output = self.linear(dropout_output)\n",
        "        final_layer = self.relu(linear_output)\n",
        "\n",
        "        return final_layer"
      ],
      "metadata": {
        "id": "25GGP9SNpZHI"
      },
      "execution_count": 8,
      "outputs": []
    },
    {
      "cell_type": "code",
      "source": [
        "class Trainer:\n",
        "    def __init__(self, model, label_encoder, train_data, val_data, learning_rate, epochs):\n",
        "\n",
        "        self.model = model\n",
        "        self.label_encoder = label_encoder\n",
        "        self.train_data = train_data\n",
        "        self.val_data = val_data\n",
        "        self.learning_rate = learning_rate\n",
        "        self.epochs = epochs\n",
        "\n",
        "    def train(self, ):\n",
        "\n",
        "        train, val = Dataset(self.train_data, self.label_encoder), Dataset(self.val_data, self.label_encoder)\n",
        "        self.train_dataloader = torch.utils.data.DataLoader(train, batch_size=2, shuffle=True)\n",
        "        self.val_dataloader = torch.utils.data.DataLoader(val, batch_size=2, shuffle=False)\n",
        "\n",
        "        use_cuda = torch.cuda.is_available()\n",
        "        device = torch.device(\"cuda\" if use_cuda else \"cpu\")\n",
        "\n",
        "        criterion = nn.CrossEntropyLoss()\n",
        "        optimizer = Adam(self.model.parameters(), lr= self.learning_rate)\n",
        "\n",
        "        if use_cuda:\n",
        "\n",
        "                self.model = self.model.cuda()\n",
        "                criterion = criterion.cuda()\n",
        "\n",
        "        for epoch_num in range(self.epochs):\n",
        "\n",
        "                total_acc_train = 0\n",
        "                total_loss_train = 0\n",
        "\n",
        "                for train_input, train_label in tqdm(self.train_dataloader):\n",
        "\n",
        "                    train_label = train_label.to(device)\n",
        "                    mask = train_input['attention_mask'].to(device)\n",
        "                    input_id = train_input['input_ids'].squeeze(1).to(device)\n",
        "\n",
        "                    output = self.model(input_id, mask)\n",
        "                    \n",
        "                    batch_loss = criterion(output, train_label.long())\n",
        "                    total_loss_train += batch_loss.item()\n",
        "                    \n",
        "                    acc = (output.argmax(dim=1) == train_label).sum().item()\n",
        "                    total_acc_train += acc\n",
        "\n",
        "                    self.model.zero_grad()\n",
        "                    batch_loss.backward()\n",
        "                    optimizer.step()\n",
        "                \n",
        "                total_acc_val = 0\n",
        "                total_loss_val = 0\n",
        "\n",
        "                with torch.no_grad():\n",
        "                    for val_input, val_label in self.val_dataloader:\n",
        "                        val_label = val_label.to(device)\n",
        "                        mask = val_input['attention_mask'].to(device)\n",
        "                        input_id = val_input['input_ids'].squeeze(1).to(device)\n",
        "\n",
        "                        output = self.model(input_id, mask)\n",
        "\n",
        "                        batch_loss = criterion(output, val_label.long())\n",
        "                        total_loss_val += batch_loss.item()\n",
        "                        \n",
        "                        acc = (output.argmax(dim=1) == val_label).sum().item()\n",
        "                        total_acc_val += acc\n",
        "                \n",
        "                print(\n",
        "                    f'Epochs: {epoch_num + 1} | Train Loss: {total_loss_train / len(self.train_data): .3f} \\\n",
        "                    | Train Accuracy: {total_acc_train / len(self.train_data): .3f} \\\n",
        "                    | Val Loss: {total_loss_val / len(self.val_data): .3f} \\\n",
        "                    | Val Accuracy: {total_acc_val / len(self.val_data): .3f}')\n",
        "                \n",
        "    def evaluate(self, test_data):\n",
        "        test = Dataset(test_data, self.label_encoder)\n",
        "        test_dataloader = torch.utils.data.DataLoader(test, batch_size=2, shuffle=False)\n",
        "        use_cuda = torch.cuda.is_available()\n",
        "        device = torch.device(\"cuda\" if use_cuda else \"cpu\")\n",
        "\n",
        "        if use_cuda:\n",
        "            self.model = self.model.cuda()\n",
        "        \n",
        "        y_true, y_pred = [], []\n",
        "        total_acc_test = 0\n",
        "        with torch.no_grad():\n",
        "            for test_input, test_label in test_dataloader:\n",
        "                test_label = test_label.to(device)\n",
        "                mask = test_input['attention_mask'].to(device)\n",
        "                input_id = test_input['input_ids'].squeeze(1).to(device)\n",
        "                output = self.model(input_id, mask)\n",
        "                output = output.argmax(dim=1)\n",
        "                y_true.extend(list(test_label.cpu().detach().numpy()))\n",
        "                y_pred.extend(list(output.cpu().detach().numpy()))\n",
        "        return y_true, y_pred"
      ],
      "metadata": {
        "id": "sAuyN2G8qHCF"
      },
      "execution_count": 9,
      "outputs": []
    },
    {
      "cell_type": "code",
      "source": [
        "# Train\n",
        "labels = {'bot':0, 'human':1}\n",
        "EPOCHS = 10\n",
        "model = BertClassifier()\n",
        "LR = 1e-6\n",
        "\n",
        "tr = Trainer(model, labels, df_train, df_val, LR, EPOCHS)              \n",
        "tr.train()"
      ],
      "metadata": {
        "colab": {
          "base_uri": "https://localhost:8080/"
        },
        "id": "iVoLlN1COHAm",
        "outputId": "63ca33a0-459c-497a-fdf7-0bbadab770ac"
      },
      "execution_count": 10,
      "outputs": [
        {
          "output_type": "stream",
          "name": "stderr",
          "text": [
            "Some weights of the model checkpoint at bert-base-cased were not used when initializing BertModel: ['cls.predictions.transform.LayerNorm.weight', 'cls.predictions.transform.dense.weight', 'cls.predictions.bias', 'cls.predictions.transform.dense.bias', 'cls.seq_relationship.bias', 'cls.predictions.transform.LayerNorm.bias', 'cls.seq_relationship.weight', 'cls.predictions.decoder.weight']\n",
            "- This IS expected if you are initializing BertModel from the checkpoint of a model trained on another task or with another architecture (e.g. initializing a BertForSequenceClassification model from a BertForPreTraining model).\n",
            "- This IS NOT expected if you are initializing BertModel from the checkpoint of a model that you expect to be exactly identical (initializing a BertForSequenceClassification model from a BertForSequenceClassification model).\n",
            "100%|██████████| 893/893 [03:24<00:00,  4.36it/s]\n"
          ]
        },
        {
          "output_type": "stream",
          "name": "stdout",
          "text": [
            "Epochs: 1 | Train Loss:  0.490                     | Train Accuracy:  0.548                     | Val Loss:  0.355                     | Val Accuracy:  0.704\n"
          ]
        },
        {
          "output_type": "stream",
          "name": "stderr",
          "text": [
            "100%|██████████| 893/893 [03:23<00:00,  4.39it/s]\n"
          ]
        },
        {
          "output_type": "stream",
          "name": "stdout",
          "text": [
            "Epochs: 2 | Train Loss:  0.284                     | Train Accuracy:  0.792                     | Val Loss:  0.221                     | Val Accuracy:  0.852\n"
          ]
        },
        {
          "output_type": "stream",
          "name": "stderr",
          "text": [
            "100%|██████████| 893/893 [03:22<00:00,  4.40it/s]\n"
          ]
        },
        {
          "output_type": "stream",
          "name": "stdout",
          "text": [
            "Epochs: 3 | Train Loss:  0.177                     | Train Accuracy:  0.896                     | Val Loss:  0.160                     | Val Accuracy:  0.874\n"
          ]
        },
        {
          "output_type": "stream",
          "name": "stderr",
          "text": [
            "100%|██████████| 893/893 [03:23<00:00,  4.40it/s]\n"
          ]
        },
        {
          "output_type": "stream",
          "name": "stdout",
          "text": [
            "Epochs: 4 | Train Loss:  0.127                     | Train Accuracy:  0.920                     | Val Loss:  0.183                     | Val Accuracy:  0.870\n"
          ]
        },
        {
          "output_type": "stream",
          "name": "stderr",
          "text": [
            "100%|██████████| 893/893 [03:23<00:00,  4.40it/s]\n"
          ]
        },
        {
          "output_type": "stream",
          "name": "stdout",
          "text": [
            "Epochs: 5 | Train Loss:  0.099                     | Train Accuracy:  0.941                     | Val Loss:  0.129                     | Val Accuracy:  0.897\n"
          ]
        },
        {
          "output_type": "stream",
          "name": "stderr",
          "text": [
            "100%|██████████| 893/893 [03:22<00:00,  4.40it/s]\n"
          ]
        },
        {
          "output_type": "stream",
          "name": "stdout",
          "text": [
            "Epochs: 6 | Train Loss:  0.080                     | Train Accuracy:  0.946                     | Val Loss:  0.137                     | Val Accuracy:  0.888\n"
          ]
        },
        {
          "output_type": "stream",
          "name": "stderr",
          "text": [
            "100%|██████████| 893/893 [03:22<00:00,  4.40it/s]\n"
          ]
        },
        {
          "output_type": "stream",
          "name": "stdout",
          "text": [
            "Epochs: 7 | Train Loss:  0.060                     | Train Accuracy:  0.964                     | Val Loss:  0.133                     | Val Accuracy:  0.892\n"
          ]
        },
        {
          "output_type": "stream",
          "name": "stderr",
          "text": [
            "100%|██████████| 893/893 [03:22<00:00,  4.41it/s]\n"
          ]
        },
        {
          "output_type": "stream",
          "name": "stdout",
          "text": [
            "Epochs: 8 | Train Loss:  0.042                     | Train Accuracy:  0.978                     | Val Loss:  0.128                     | Val Accuracy:  0.901\n"
          ]
        },
        {
          "output_type": "stream",
          "name": "stderr",
          "text": [
            "100%|██████████| 893/893 [03:22<00:00,  4.40it/s]\n"
          ]
        },
        {
          "output_type": "stream",
          "name": "stdout",
          "text": [
            "Epochs: 9 | Train Loss:  0.034                     | Train Accuracy:  0.983                     | Val Loss:  0.132                     | Val Accuracy:  0.906\n"
          ]
        },
        {
          "output_type": "stream",
          "name": "stderr",
          "text": [
            "100%|██████████| 893/893 [03:22<00:00,  4.40it/s]\n"
          ]
        },
        {
          "output_type": "stream",
          "name": "stdout",
          "text": [
            "Epochs: 10 | Train Loss:  0.020                     | Train Accuracy:  0.993                     | Val Loss:  0.176                     | Val Accuracy:  0.892\n"
          ]
        }
      ]
    },
    {
      "cell_type": "code",
      "source": [
        "# Save Model\n",
        "torch.save(model, '/content/SWM/BERT_model.pth')"
      ],
      "metadata": {
        "id": "Ft51YfalvOcc"
      },
      "execution_count": 11,
      "outputs": []
    },
    {
      "cell_type": "markdown",
      "source": [
        "## Inference Evaluation"
      ],
      "metadata": {
        "id": "ig77IWxV3kQt"
      }
    },
    {
      "cell_type": "code",
      "source": [
        "# Evaluation\n",
        "y_true_train, y_pred_train = tr.evaluate(df_train)\n",
        "y_true_test, y_pred_test = tr.evaluate(df_test)"
      ],
      "metadata": {
        "id": "mxXO_W60RvPx"
      },
      "execution_count": 12,
      "outputs": []
    },
    {
      "cell_type": "code",
      "source": [
        "print('Train Accuracy: ', accuracy_score(y_true_train, y_pred_train))\n",
        "print('Test Accuracy: ', accuracy_score(y_true_test, y_pred_test))\n",
        "\n",
        "print('\\nTrain F1: ', f1_score(y_true_train, y_pred_train))\n",
        "print('Test F1: ', f1_score(y_true_test, y_pred_test))\n",
        "\n",
        "print('\\nTrain Precision: ', precision_score(y_true_train, y_pred_train))\n",
        "print('Test Precision: ', precision_score(y_true_test, y_pred_test))\n",
        "\n",
        "print('\\nTrain Recall: ', recall_score(y_true_train, y_pred_train))\n",
        "print('Test Recall: ', recall_score(y_true_test, y_pred_test))\n",
        "\n",
        "print('\\nTrain AUC Score: ', roc_auc_score(y_true_train, y_pred_train))\n",
        "print('Test AUC Score: ', roc_auc_score(y_true_test, y_pred_test))"
      ],
      "metadata": {
        "colab": {
          "base_uri": "https://localhost:8080/"
        },
        "id": "fao43ZMjyuO8",
        "outputId": "39033af2-3f15-4c55-a6ab-817bfb41ceee"
      },
      "execution_count": 24,
      "outputs": [
        {
          "output_type": "stream",
          "name": "stdout",
          "text": [
            "Train Accuracy:  0.9983193277310924\n",
            "Test Accuracy:  0.8973214285714286\n",
            "\n",
            "Train F1:  0.9982445874780573\n",
            "Test F1:  0.8743169398907104\n",
            "\n",
            "Train Precision:  0.9976608187134502\n",
            "Test Precision:  0.898876404494382\n",
            "\n",
            "Train Recall:  0.9988290398126464\n",
            "Test Recall:  0.851063829787234\n",
            "\n",
            "Train AUC Score:  0.9983404060502544\n",
            "Test AUC Score:  0.8909165302782324\n"
          ]
        }
      ]
    },
    {
      "cell_type": "code",
      "source": [
        "print('Confusion Matrix:\\n')\n",
        "ConfusionMatrixDisplay.from_predictions(y_true_test, y_pred_test, cmap='Blues', colorbar='True',display_labels=labels)\n",
        "plt.title('Confusion Matrix for BERT Classifier')\n",
        "plt.show()"
      ],
      "metadata": {
        "colab": {
          "base_uri": "https://localhost:8080/",
          "height": 507
        },
        "id": "A3kZ7ST22Ata",
        "outputId": "e8c49a64-1586-4e5d-e529-04e088a145fe"
      },
      "execution_count": 14,
      "outputs": [
        {
          "output_type": "stream",
          "name": "stdout",
          "text": [
            "Confusion Matrix:\n",
            "\n"
          ]
        },
        {
          "output_type": "display_data",
          "data": {
            "text/plain": [
              "<Figure size 640x480 with 2 Axes>"
            ],
            "image/png": "[encoded data removed]"
          },
          "metadata": {}
        }
      ]
    },
    {
      "cell_type": "code",
      "source": [
        "print('ROC Curve:\\n')\n",
        "RocCurveDisplay.from_predictions(y_true_test, y_pred_test, name='BERT', color='orange')\n",
        "plt.plot([0, 1], [0, 1], linestyle='--', lw=2, color='darkblue', label='Random guess')\n",
        "plt.title('ROC Curve for BERT Classifier')\n",
        "plt.xlabel('False Positive Rate')\n",
        "plt.ylabel('True Positive Rate')\n",
        "plt.show()"
      ],
      "metadata": {
        "colab": {
          "base_uri": "https://localhost:8080/",
          "height": 507
        },
        "id": "n7tDBhOV2d57",
        "outputId": "2545dcc0-3af5-4c1a-c28c-392e9aa78829"
      },
      "execution_count": 22,
      "outputs": [
        {
          "output_type": "stream",
          "name": "stdout",
          "text": [
            "ROC Curve:\n",
            "\n"
          ]
        },
        {
          "output_type": "display_data",
          "data": {
            "text/plain": [
              "<Figure size 640x480 with 1 Axes>"
            ],
            "image/png": "[encoded data removed]"
          },
          "metadata": {}
        }
      ]
    },
    {
      "cell_type": "markdown",
      "source": [
        "## Demo"
      ],
      "metadata": {
        "id": "VSmtmSbnKxdE"
      }
    },
    {
      "cell_type": "code",
      "source": [
        "# Define Model\n",
        "class BertClassifier(nn.Module):\n",
        "    def __init__(self, dropout=0.5):\n",
        "        super(BertClassifier, self).__init__()\n",
        "        #Defining the model to be used\n",
        "        self.bert = BertModel.from_pretrained('bert-base-cased') \n",
        "        #Adding dropout layer\n",
        "        self.dropout = nn.Dropout(dropout)\n",
        "        self.linear = nn.Linear(768, 5)\n",
        "        self.relu = nn.ReLU()\n",
        "\n",
        "    def forward(self, input_id, mask):\n",
        "\n",
        "        _, pooled_output = self.bert(input_ids= input_id, attention_mask=mask,return_dict=False)\n",
        "        dropout_output = self.dropout(pooled_output)\n",
        "        linear_output = self.linear(dropout_output)\n",
        "        final_layer = self.relu(linear_output)\n",
        "        return final_layer\n",
        "\n",
        "# Load Model\n",
        "PATH = '/content/SWM/BERT_model.pth'\n",
        "model = torch.load(PATH)\n",
        "model.eval()\n",
        "model.to('cuda')\n",
        "\n",
        "# Load tokenizer\n",
        "tokenizer = BertTokenizer.from_pretrained('bert-base-cased')\n",
        "\n",
        "# Define preprocess function\n",
        "def pre_process(input):\n",
        "    column_names = ['id', 'id_str', 'screen_name', 'location', 'description', 'url',\n",
        "       'followers_count', 'friends_count', 'listedcount', 'created_at',\n",
        "       'favourites_count', 'verified', 'statuses_count', 'lang', 'status',\n",
        "       'default_profile', 'default_profile_image', 'has_extended_profile',\n",
        "       'name', 'bot']\n",
        "    column_names.remove('bot')\n",
        "    text = ''\n",
        "    txt_list=[]\n",
        "    for i, x in enumerate(input[:len(input) - 1]):\n",
        "        txt_list.append(column_names[i] + \" = \" + str(x))\n",
        "\n",
        "    text = ', '.join(txt_list)\n",
        "    text = tokenizer(text, padding='max_length', max_length = 512, truncation=True, return_tensors=\"pt\")\n",
        "    return text"
      ],
      "metadata": {
        "id": "x9RnVgvwyUoT"
      },
      "execution_count": 16,
      "outputs": []
    },
    {
      "cell_type": "code",
      "source": [
        "test_idx = 35\n",
        "print('Test Index:',test_idx)\n",
        "input = df_test.iloc[test_idx].values[:-1]\n",
        "input_gt = df_test.iloc[test_idx].values[-1]\n",
        "print('Input: ')\n",
        "print(df_test.iloc[test_idx, :-1].to_dict())\n",
        "inp = pre_process(input)\n",
        "label_dict = {0:'not bot', 1: 'Bot'}\n",
        "outputs = model(inp['input_ids'].to('cuda'), inp['attention_mask'].to('cuda'))\n",
        "label_idx = np.argmax(outputs.detach().cpu().numpy())\n",
        "print()\n",
        "print(f'Model prediction: {label_dict[label_idx]} ---> Ground truth: {label_dict[input_gt]}')"
      ],
      "metadata": {
        "colab": {
          "base_uri": "https://localhost:8080/"
        },
        "id": "LxLtlnbHLz2h",
        "outputId": "08996681-b274-4b79-8c0a-e44bcfbb25fc"
      },
      "execution_count": 27,
      "outputs": [
        {
          "output_type": "stream",
          "name": "stdout",
          "text": [
            "Test Index: 35\n",
            "Input: \n",
            "{'id': 8.25e+17, 'id_str': '8.25E+17', 'screen_name': 'beefl96', 'location': 'Darlington town, IN, USA', 'description': 'Proud West Belconnian, Local Labor member  4 Ginninderra, Minister in the ACT Govt, mum of 2 with Cassie Cupcake K9 Campaigner, Chook lady, Love everything CBR.', 'url': nan, 'followers_count': 0, 'friends_count': 266, 'listedcount': 0, 'created_at': '1/27/2017 0:59', 'favourites_count': 22, 'verified': False, 'statuses_count': 35, 'lang': 'en', 'status': nan, 'default_profile': True, 'default_profile_image': False, 'has_extended_profile': False, 'name': 'beefl96'}\n",
            "\n",
            "Model prediction: Bot ---> Ground truth: Bot\n"
          ]
        }
      ]
    },
    {
      "cell_type": "code",
      "source": [
        "test_idx = 1\n",
        "print('Test Index:',test_idx)\n",
        "input = df_test.iloc[test_idx].values[:-1]\n",
        "input_gt = df_test.iloc[test_idx].values[-1]\n",
        "print('Input: ')\n",
        "print(df_test.iloc[test_idx, :-1].to_dict())\n",
        "inp = pre_process(input)\n",
        "label_dict = {0:'not bot', 1: 'Bot'}\n",
        "outputs = model(inp['input_ids'].to('cuda'), inp['attention_mask'].to('cuda'))\n",
        "label_idx = np.argmax(outputs.detach().cpu().numpy())\n",
        "print()\n",
        "print(f'Model prediction: {label_dict[label_idx]} ---> Ground truth: {label_dict[input_gt]}')"
      ],
      "metadata": {
        "colab": {
          "base_uri": "https://localhost:8080/"
        },
        "id": "jVKkG21_NPhm",
        "outputId": "dec24869-8f12-499e-d7fe-3b68cda7fff6"
      },
      "execution_count": 28,
      "outputs": [
        {
          "output_type": "stream",
          "name": "stdout",
          "text": [
            "Test Index: 1\n",
            "Input: \n",
            "{'id': 931864753.0, 'id_str': '931864753', 'screen_name': 'dushyanthram', 'location': 'Window seat', 'description': 'Keep talking', 'url': 'https://t.co/vau4LDYgAr', 'followers_count': 86, 'friends_count': 397, 'listedcount': 0, 'created_at': '11/7/2012 11:40', 'favourites_count': 1347, 'verified': False, 'statuses_count': 160, 'lang': 'en', 'status': 'Status(truncated=False, coordinates=None, _api=<tweepy.api.API object at 0x7fbd6ffbd0f0>, in_reply_to_screen_name=None, source=\\'Twitter for iPhone\\', contributors=None, retweeted=False, entities={\\'urls\\': [], \\'symbols\\': [], \\'user_mentions\\': [{\\'name\\': \\'Not Will Ferrell\\', \\'id_str\\': \\'306025835\\', \\'screen_name\\': \\'itsWillyFerrell\\', \\'indices\\': [3, 19], \\'id\\': 306025835}], \\'hashtags\\': [], \\'media\\': [{\\'url\\': \\'https://t.co/cEeRyq9IQB\\', \\'source_user_id_str\\': \\'306025835\\', \\'sizes\\': {\\'large\\': {\\'resize\\': \\'fit\\', \\'h\\': 670, \\'w\\': 460}, \\'thumb\\': {\\'resize\\': \\'crop\\', \\'h\\': 150, \\'w\\': 150}, \\'medium\\': {\\'resize\\': \\'fit\\', \\'h\\': 670, \\'w\\': 460}, \\'small\\': {\\'resize\\': \\'fit\\', \\'h\\': 670, \\'w\\': 460}}, \\'source_user_id\\': 306025835, \\'type\\': \\'photo\\', \\'display_url\\': \\'pic.twitter.com/cEeRyq9IQB\\', \\'media_url_https\\': \\'https://pbs.twimg.com/media/C6bdAFNUYAA66aQ.jpg\\', \\'source_status_id_str\\': \\'839601376330137604\\', \\'indices\\': [40, 63], \\'media_url\\': \\'http://pbs.twimg.com/media/C6bdAFNUYAA66aQ.jpg\\', \\'source_status_id\\': 839601376330137604, \\'id_str\\': \\'839601374018953216\\', \\'expanded_url\\': \\'https://twitter.com/itsWillyFerrell/status/839601376330137604/photo/1\\', \\'id\\': 839601374018953216}]}, retweet_count=427, possibly_sensitive=False, text=\\'RT @itsWillyFerrell: Follow your dreams https://t.co/cEeRyq9IQB\\', retweeted_status=Status(truncated=False, coordinates=None, _api=<tweepy.api.API object at 0x7fbd6ffbd0f0>, extended_entities={\\'media\\': [{\\'display_url\\': \\'pic.twitter.com/cEeRyq9IQB\\', \\'media_url_https\\': \\'https://pbs.twimg.com/media/C6bdAFNUYAA66aQ.jpg\\', \\'type\\': \\'photo\\', \\'sizes\\': {\\'large\\': {\\'resize\\': \\'fit\\', \\'h\\': 670, \\'w\\': 460}, \\'thumb\\': {\\'resize\\': \\'crop\\', \\'h\\': 150, \\'w\\': 150}, \\'medium\\': {\\'resize\\': \\'fit\\', \\'h\\': 670, \\'w\\': 460}, \\'small\\': {\\'resize\\': \\'fit\\', \\'h\\': 670, \\'w\\': 460}}, \\'indices\\': [19, 42], \\'media_url\\': \\'http://pbs.twimg.com/media/C6bdAFNUYAA66aQ.jpg\\', \\'id_str\\': \\'839601374018953216\\', \\'expanded_url\\': \\'https://twitter.com/itsWillyFerrell/status/839601376330137604/photo/1\\', \\'url\\': \\'https://t.co/cEeRyq9IQB\\', \\'id\\': 839601374018953216}]}, source=\\'Buffer\\', contributors=None, retweeted=False, entities={\\'urls\\': [], \\'symbols\\': [], \\'user_mentions\\': [], \\'hashtags\\': [], \\'media\\': [{\\'display_url\\': \\'pic.twitter.com/cEeRyq9IQB\\', \\'media_url_https\\': \\'https://pbs.twimg.com/media/C6bdAFNUYAA66aQ.jpg\\', \\'type\\': \\'photo\\', \\'sizes\\': {\\'large\\': {\\'resize\\': \\'fit\\', \\'h\\': 670, \\'w\\': 460}, \\'thumb\\': {\\'resize\\': \\'crop\\', \\'h\\': 150, \\'w\\': 150}, \\'medium\\': {\\'resize\\': \\'fit\\', \\'h\\': 670, \\'w\\': 460}, \\'small\\': {\\'resize\\': \\'fit\\', \\'h\\': 670, \\'w\\': 460}}, \\'indices\\': [19, 42], \\'media_url\\': \\'http://pbs.twimg.com/media/C6bdAFNUYAA66aQ.jpg\\', \\'id_str\\': \\'839601374018953216\\', \\'expanded_url\\': \\'https://twitter.com/itsWillyFerrell/status/839601376330137604/photo/1\\', \\'url\\': \\'https://t.co/cEeRyq9IQB\\', \\'id\\': 839601374018953216}]}, retweet_count=427, possibly_sensitive=False, text=\\'Follow your dreams https://t.co/cEeRyq9IQB\\', in_reply_to_status_id_str=None, in_reply_to_status_id=None, place=None, created_at=datetime.datetime(2017, 3, 8, 22, 19, 1), id_str=\\'839601376330137604\\', is_quote_status=False, lang=\\'en\\', in_reply_to_screen_name=None, geo=None, _json={\\'truncated\\': False, \\'coordinates\\': None, \\'extended_entities\\': {\\'media\\': [{\\'display_url\\': \\'pic.twitter.com/cEeRyq9IQB\\', \\'media_url_https\\': \\'https://pbs.twimg.com/media/C6bdAFNUYAA66aQ.jpg\\', \\'type\\': \\'photo\\', \\'sizes\\': {\\'large\\': {\\'resize\\': \\'fit\\', \\'h\\': 670, \\'w\\': 460}, \\'thumb\\': {\\'resize\\': \\'crop\\', \\'h\\': 150, \\'w\\': 150}, \\'medium\\': {\\'resize\\': \\'fit\\', \\'h\\': 670, \\'w\\': 460}, \\'small\\': {\\'resize\\': \\'fit\\', \\'h\\': 670, \\'w\\': 460}}, \\'indices\\': [19, 42], \\'media_url\\': \\'http://pbs.twimg.com/media/C6bdAFNUYAA66aQ.jpg\\', \\'id_str\\': \\'839601374018953216\\', \\'expanded_url\\': \\'https://twitter.com/itsWillyFerrell/status/839601376330137604/photo/1\\', \\'url\\': \\'https://t.co/cEeRyq9IQB\\', \\'id\\': 839601374018953216}]}, \\'source\\': \\'<a href=\"http://bufferapp.com\" rel=\"nofollow\">Buffer</a>\\', \\'retweeted\\': False, \\'entities\\': {\\'urls\\': [], \\'symbols\\': [], \\'user_mentions\\': [], \\'hashtags\\': [], \\'media\\': [{\\'display_url\\': \\'pic.twitter.com/cEeRyq9IQB\\', \\'media_url_https\\': \\'https://pbs.twimg.com/media/C6bdAFNUYAA66aQ.jpg\\', \\'type\\': \\'photo\\', \\'sizes\\': {\\'large\\': {\\'resize\\': \\'fit\\', \\'h\\': 670, \\'w\\': 460}, \\'thumb\\': {\\'resize\\': \\'crop\\', \\'h\\': 150, \\'w\\': 150}, \\'medium\\': {\\'resize\\': \\'fit\\', \\'h\\': 670, \\'w\\': 460}, \\'small\\': {\\'resize\\': \\'fit\\', \\'h\\': 670, \\'w\\': 460}}, \\'indices\\': [19, 42], \\'media_url\\': \\'http://pbs.twimg.com/media/C6bdAFNUYAA66aQ.jpg\\', \\'id_str\\': \\'839601374018953216\\', \\'expanded_url\\': \\'https://twitter.com/itsWillyFerrell/status/839601376330137604/photo/1\\', \\'url\\': \\'https://t.co/cEeRyq9IQB\\', \\'id\\': 839601374018953216}]}, \\'retweet_count\\': 427, \\'possibly_sensitive\\': False, \\'text\\': \\'Follow your dreams https://t.co/cEeRyq9IQB\\', \\'favorited\\': False, \\'in_reply_to_status_id_str\\': None, \\'in_reply_to_status_id\\': None, \\'place\\': None, \\'created_at\\': \\'Wed Mar 08 22:19:01 +0000 2017\\', \\'favorite_count\\': 1348, \\'lang\\': \\'en\\', \\'in_reply_to_screen_name\\': None, \\'geo\\': None, \\'contributors\\': None, \\'in_reply_to_user_id_str\\': None, \\'is_quote_status\\': False, \\'in_reply_to_user_id\\': None, \\'id_str\\': \\'839601376330137604\\', \\'id\\': 839601376330137604}, source_url=\\'http://bufferapp.com\\', in_reply_to_user_id_str=None, favorited=False, in_reply_to_user_id=None, favorite_count=1348, id=839601376330137604), in_reply_to_status_id_str=None, in_reply_to_status_id=None, place=None, created_at=datetime.datetime(2017, 3, 9, 0, 56, 10), id_str=\\'839640923319463936\\', is_quote_status=False, lang=\\'en\\', extended_entities={\\'media\\': [{\\'url\\': \\'https://t.co/cEeRyq9IQB\\', \\'source_user_id_str\\': \\'306025835\\', \\'sizes\\': {\\'large\\': {\\'resize\\': \\'fit\\', \\'h\\': 670, \\'w\\': 460}, \\'thumb\\': {\\'resize\\': \\'crop\\', \\'h\\': 150, \\'w\\': 150}, \\'medium\\': {\\'resize\\': \\'fit\\', \\'h\\': 670, \\'w\\': 460}, \\'small\\': {\\'resize\\': \\'fit\\', \\'h\\': 670, \\'w\\': 460}}, \\'source_user_id\\': 306025835, \\'type\\': \\'photo\\', \\'display_url\\': \\'pic.twitter.com/cEeRyq9IQB\\', \\'media_url_https\\': \\'https://pbs.twimg.com/media/C6bdAFNUYAA66aQ.jpg\\', \\'source_status_id_str\\': \\'839601376330137604\\', \\'indices\\': [40, 63], \\'media_url\\': \\'http://pbs.twimg.com/media/C6bdAFNUYAA66aQ.jpg\\', \\'source_status_id\\': 839601376330137604, \\'id_str\\': \\'839601374018953216\\', \\'expanded_url\\': \\'https://twitter.com/itsWillyFerrell/status/839601376330137604/photo/1\\', \\'id\\': 839601374018953216}]}, geo=None, _json={\\'truncated\\': False, \\'coordinates\\': None, \\'extended_entities\\': {\\'media\\': [{\\'url\\': \\'https://t.co/cEeRyq9IQB\\', \\'source_user_id_str\\': \\'306025835\\', \\'sizes\\': {\\'large\\': {\\'resize\\': \\'fit\\', \\'h\\': 670, \\'w\\': 460}, \\'thumb\\': {\\'resize\\': \\'crop\\', \\'h\\': 150, \\'w\\': 150}, \\'medium\\': {\\'resize\\': \\'fit\\', \\'h\\': 670, \\'w\\': 460}, \\'small\\': {\\'resize\\': \\'fit\\', \\'h\\': 670, \\'w\\': 460}}, \\'source_user_id\\': 306025835, \\'type\\': \\'photo\\', \\'display_url\\': \\'pic.twitter.com/cEeRyq9IQB\\', \\'media_url_https\\': \\'https://pbs.twimg.com/media/C6bdAFNUYAA66aQ.jpg\\', \\'source_status_id_str\\': \\'839601376330137604\\', \\'indices\\': [40, 63], \\'media_url\\': \\'http://pbs.twimg.com/media/C6bdAFNUYAA66aQ.jpg\\', \\'source_status_id\\': 839601376330137604, \\'id_str\\': \\'839601374018953216\\', \\'expanded_url\\': \\'https://twitter.com/itsWillyFerrell/status/839601376330137604/photo/1\\', \\'id\\': 839601374018953216}]}, \\'source\\': \\'<a href=\"http://twitter.com/download/iphone\" rel=\"nofollow\">Twitter for iPhone</a>\\', \\'retweeted\\': False, \\'entities\\': {\\'urls\\': [], \\'symbols\\': [], \\'user_mentions\\': [{\\'name\\': \\'Not Will Ferrell\\', \\'id_str\\': \\'306025835\\', \\'screen_name\\': \\'itsWillyFerrell\\', \\'indices\\': [3, 19], \\'id\\': 306025835}], \\'hashtags\\': [], \\'media\\': [{\\'url\\': \\'https://t.co/cEeRyq9IQB\\', \\'source_user_id_str\\': \\'306025835\\', \\'sizes\\': {\\'large\\': {\\'resize\\': \\'fit\\', \\'h\\': 670, \\'w\\': 460}, \\'thumb\\': {\\'resize\\': \\'crop\\', \\'h\\': 150, \\'w\\': 150}, \\'medium\\': {\\'resize\\': \\'fit\\', \\'h\\': 670, \\'w\\': 460}, \\'small\\': {\\'resize\\': \\'fit\\', \\'h\\': 670, \\'w\\': 460}}, \\'source_user_id\\': 306025835, \\'type\\': \\'photo\\', \\'display_url\\': \\'pic.twitter.com/cEeRyq9IQB\\', \\'media_url_https\\': \\'https://pbs.twimg.com/media/C6bdAFNUYAA66aQ.jpg\\', \\'source_status_id_str\\': \\'839601376330137604\\', \\'indices\\': [40, 63], \\'media_url\\': \\'http://pbs.twimg.com/media/C6bdAFNUYAA66aQ.jpg\\', \\'source_status_id\\': 839601376330137604, \\'id_str\\': \\'839601374018953216\\', \\'expanded_url\\': \\'https://twitter.com/itsWillyFerrell/status/839601376330137604/photo/1\\', \\'id\\': 839601374018953216}]}, \\'retweet_count\\': 427, \\'possibly_sensitive\\': False, \\'text\\': \\'RT @itsWillyFerrell: Follow your dreams https://t.co/cEeRyq9IQB\\', \\'retweeted_status\\': {\\'truncated\\': False, \\'coordinates\\': None, \\'extended_entities\\': {\\'media\\': [{\\'display_url\\': \\'pic.twitter.com/cEeRyq9IQB\\', \\'media_url_https\\': \\'https://pbs.twimg.com/media/C6bdAFNUYAA66aQ.jpg\\', \\'type\\': \\'photo\\', \\'sizes\\': {\\'large\\': {\\'resize\\': \\'fit\\', \\'h\\': 670, \\'w\\': 460}, \\'thumb\\': {\\'resize\\': \\'crop\\', \\'h\\': 150, \\'w\\': 150}, \\'medium\\': {\\'resize\\': \\'fit\\', \\'h\\': 670, \\'w\\': 460}, \\'small\\': {\\'resize\\': \\'fit\\', \\'h\\': 670, \\'w\\': 460}}, \\'indices\\': [19, 42], \\'media_url\\': \\'http://pbs.twimg.com/media/C6bdAFNUYAA66aQ.jpg\\', \\'id_str\\': \\'839601374018953216\\', \\'expanded_url\\': \\'https://twitter.com/itsWillyFerrell/status/839601376330137604/photo/1\\', \\'url\\': \\'https://t.co/cEeRyq9IQB\\', \\'id\\': 839601374018953216}]}, \\'source\\': \\'<a href=\"http://bufferapp.com\" rel=\"nofollow\">Buffer</a>\\', \\'retweeted\\': False, \\'entities\\': {\\'urls\\': [], \\'symbols\\': [], \\'user_mentions\\': [], \\'hashtags\\': [], \\'media\\': [{\\'display_url\\': \\'pic.twitter.com/cEeRyq9IQB\\', \\'media_url_https\\': \\'https://pbs.twimg.com/media/C6bdAFNUYAA66aQ.jpg\\', \\'type\\': \\'photo\\', \\'sizes\\': {\\'large\\': {\\'resize\\': \\'fit\\', \\'h\\': 670, \\'w\\': 460}, \\'thumb\\': {\\'resize\\': \\'crop\\', \\'h\\': 150, \\'w\\': 150}, \\'medium\\': {\\'resize\\': \\'fit\\', \\'h\\': 670, \\'w\\': 460}, \\'small\\': {\\'resize\\': \\'fit\\', \\'h\\': 670, \\'w\\': 460}}, \\'indices\\': [19, 42], \\'media_url\\': \\'http://pbs.twimg.com/media/C6bdAFNUYAA66aQ.jpg\\', \\'id_str\\': \\'839601374018953216\\', \\'expanded_url\\': \\'https://twitter.com/itsWillyFerrell/status/839601376330137604/photo/1\\', \\'url\\': \\'https://t.co/cEeRyq9IQB\\', \\'id\\': 839601374018953216}]}, \\'retweet_count\\': 427, \\'possibly_sensitive\\': False, \\'text\\': \\'Follow your dreams https://t.co/cEeRyq9IQB\\', \\'favorited\\': False, \\'in_reply_to_status_id_str\\': None, \\'in_reply_to_status_id\\': None, \\'place\\': None, \\'created_at\\': \\'Wed Mar 08 22:19:01 +0000 2017\\', \\'favorite_count\\': 1348, \\'lang\\': \\'en\\', \\'in_reply_to_screen_name\\': None, \\'geo\\': None, \\'contributors\\': None, \\'in_reply_to_user_id_str\\': None, \\'is_quote_status\\': False, \\'in_reply_to_user_id\\': None, \\'id_str\\': \\'839601376330137604\\', \\'id\\': 839601376330137604}, \\'favorited\\': False, \\'in_reply_to_status_id_str\\': None, \\'in_reply_to_status_id\\': None, \\'place\\': None, \\'created_at\\': \\'Thu Mar 09 00:56:10 +0000 2017\\', \\'favorite_count\\': 0, \\'lang\\': \\'en\\', \\'in_reply_to_screen_name\\': None, \\'geo\\': None, \\'contributors\\': None, \\'in_reply_to_user_id_str\\': None, \\'is_quote_status\\': False, \\'in_reply_to_user_id\\': None, \\'id_str\\': \\'839640923319463936\\', \\'id\\': 839640923319463936}, source_url=\\'http://twitter.com/download/iphone\\', in_reply_to_user_id_str=None, favorited=False, in_reply_to_user_id=None, favorite_count=0, id=839640923319463936)', 'default_profile': False, 'default_profile_image': False, 'has_extended_profile': False, 'name': 'D'}\n",
            "\n",
            "Model prediction: not bot ---> Ground truth: not bot\n"
          ]
        }
      ]
    },
    {
      "cell_type": "code",
      "source": [
        "# Incorrect Predictions\n",
        "test_idx = 6\n",
        "print('Test Index:',test_idx)\n",
        "input = df_test.iloc[test_idx].values[:-1]\n",
        "input_gt = df_test.iloc[test_idx].values[-1]\n",
        "print('Input: ')\n",
        "print(df_test.iloc[test_idx, :-1].to_dict())\n",
        "inp = pre_process(input)\n",
        "label_dict = {0:'not bot', 1: 'Bot'}\n",
        "outputs = model(inp['input_ids'].to('cuda'), inp['attention_mask'].to('cuda'))\n",
        "label_idx = np.argmax(outputs.detach().cpu().numpy())\n",
        "print()\n",
        "print(f'Model prediction: {label_dict[label_idx]} ---> Ground truth: {label_dict[input_gt]}')"
      ],
      "metadata": {
        "colab": {
          "base_uri": "https://localhost:8080/"
        },
        "id": "Q_wiCmcKNyfS",
        "outputId": "971d91d9-6950-419a-e153-58db33e8b3a1"
      },
      "execution_count": 29,
      "outputs": [
        {
          "output_type": "stream",
          "name": "stdout",
          "text": [
            "Test Index: 6\n",
            "Input: \n",
            "{'id': 129845242.0, 'id_str': '129845242', 'screen_name': 'Inspire_Us', 'location': nan, 'description': 'The BEST Inspirational Quotes out there!', 'url': 'https://t.co/6RAGS0V2Ek', 'followers_count': 2047969, 'friends_count': 102396, 'listedcount': 13095, 'created_at': 'Mon Apr 05 15:53:40 +0000 2010', 'favourites_count': 860, 'verified': False, 'statuses_count': 67905, 'lang': 'en', 'status': '{\\'created_at\\': \\'Mon Mar 13 19:29:08 +0000 2017\\', \\'id\\': 841370561594953729, \\'id_str\\': \\'841370561594953729\\', \\'text\\': \\'No matter how long you have traveled in the wrong direction, you can always turn around.\\', \\'truncated\\': False, \\'entities\\': {\\'hashtags\\': [], \\'symbols\\': [], \\'user_mentions\\': [], \\'urls\\': []}, \\'source\\': \\'<a href=\"https://www.socialoomph.com\" rel=\"nofollow\">SocialOomph</a>\\', \\'in_reply_to_status_id\\': None, \\'in_reply_to_status_id_str\\': None, \\'in_reply_to_user_id\\': None, \\'in_reply_to_user_id_str\\': None, \\'in_reply_to_screen_name\\': None, \\'geo\\': None, \\'coordinates\\': None, \\'place\\': None, \\'contributors\\': None, \\'is_quote_status\\': False, \\'retweet_count\\': 138, \\'favorite_count\\': 229, \\'favorited\\': False, \\'retweeted\\': False, \\'lang\\': \\'en\\'}', 'default_profile': False, 'default_profile_image': False, 'has_extended_profile': False, 'name': 'Inspirational Quotes'}\n",
            "\n",
            "Model prediction: not bot ---> Ground truth: Bot\n"
          ]
        }
      ]
    },
    {
      "cell_type": "code",
      "source": [
        "# Incorrect Predictions\n",
        "test_idx = 25\n",
        "print('Test Index:',test_idx)\n",
        "input = df_test.iloc[test_idx].values[:-1]\n",
        "input_gt = df_test.iloc[test_idx].values[-1]\n",
        "print('Input: ')\n",
        "print(df_test.iloc[test_idx, :-1].to_dict())\n",
        "inp = pre_process(input)\n",
        "label_dict = {0:'not bot', 1: 'Bot'}\n",
        "outputs = model(inp['input_ids'].to('cuda'), inp['attention_mask'].to('cuda'))\n",
        "label_idx = np.argmax(outputs.detach().cpu().numpy())\n",
        "print()\n",
        "print(f'Model prediction: {label_dict[label_idx]} ---> Ground truth: {label_dict[input_gt]}')"
      ],
      "metadata": {
        "colab": {
          "base_uri": "https://localhost:8080/"
        },
        "id": "T51OcwPBOA1y",
        "outputId": "639e8ee7-49a1-44e4-cd40-e83786cc8bcf"
      },
      "execution_count": 30,
      "outputs": [
        {
          "output_type": "stream",
          "name": "stdout",
          "text": [
            "Test Index: 25\n",
            "Input: \n",
            "{'id': 233063518.0, 'id_str': '233063518', 'screen_name': 'GeneP4rmes4n', 'location': nan, 'description': \"I'm only on here for my fans\", 'url': nan, 'followers_count': 66, 'friends_count': 481, 'listedcount': 0, 'created_at': '2/1/2011 5:03', 'favourites_count': 369, 'verified': False, 'statuses_count': 530, 'lang': 'en', 'status': 'Status(_api=<tweepy.api.API object at 0x10d60c0b8>, _json={\\'created_at\\': \\'Wed Mar 08 00:09:55 +0000 2017\\', \\'id\\': 839266895379460097, \\'id_str\\': \\'839266895379460097\\', \\'text\\': \\'RT @colinjones: Episode 2017: The Painting https://t.co/cUykxUM5ZM\\', \\'truncated\\': False, \\'entities\\': {\\'hashtags\\': [], \\'symbols\\': [], \\'user_mentions\\': [{\\'screen_name\\': \\'colinjones\\', \\'name\\': \\'Colin Jones\\', \\'id\\': 17934812, \\'id_str\\': \\'17934812\\', \\'indices\\': [3, 14]}], \\'urls\\': [], \\'media\\': [{\\'id\\': 839149174692151300, \\'id_str\\': \\'839149174692151300\\', \\'indices\\': [43, 66], \\'media_url\\': \\'http://pbs.twimg.com/ext_tw_video_thumb/839149174692151300/pu/img/4r2Z6P7LpHWVBXqe.jpg\\', \\'media_url_https\\': \\'https://pbs.twimg.com/ext_tw_video_thumb/839149174692151300/pu/img/4r2Z6P7LpHWVBXqe.jpg\\', \\'url\\': \\'https://t.co/cUykxUM5ZM\\', \\'display_url\\': \\'pic.twitter.com/cUykxUM5ZM\\', \\'expanded_url\\': \\'https://twitter.com/colinjones/status/839149481669058562/video/1\\', \\'type\\': \\'photo\\', \\'sizes\\': {\\'large\\': {\\'w\\': 960, \\'h\\': 540, \\'resize\\': \\'fit\\'}, \\'thumb\\': {\\'w\\': 150, \\'h\\': 150, \\'resize\\': \\'crop\\'}, \\'medium\\': {\\'w\\': 600, \\'h\\': 338, \\'resize\\': \\'fit\\'}, \\'small\\': {\\'w\\': 340, \\'h\\': 191, \\'resize\\': \\'fit\\'}}, \\'source_status_id\\': 839149481669058562, \\'source_status_id_str\\': \\'839149481669058562\\', \\'source_user_id\\': 17934812, \\'source_user_id_str\\': \\'17934812\\'}]}, \\'extended_entities\\': {\\'media\\': [{\\'id\\': 839149174692151300, \\'id_str\\': \\'839149174692151300\\', \\'indices\\': [43, 66], \\'media_url\\': \\'http://pbs.twimg.com/ext_tw_video_thumb/839149174692151300/pu/img/4r2Z6P7LpHWVBXqe.jpg\\', \\'media_url_https\\': \\'https://pbs.twimg.com/ext_tw_video_thumb/839149174692151300/pu/img/4r2Z6P7LpHWVBXqe.jpg\\', \\'url\\': \\'https://t.co/cUykxUM5ZM\\', \\'display_url\\': \\'pic.twitter.com/cUykxUM5ZM\\', \\'expanded_url\\': \\'https://twitter.com/colinjones/status/839149481669058562/video/1\\', \\'type\\': \\'video\\', \\'sizes\\': {\\'large\\': {\\'w\\': 960, \\'h\\': 540, \\'resize\\': \\'fit\\'}, \\'thumb\\': {\\'w\\': 150, \\'h\\': 150, \\'resize\\': \\'crop\\'}, \\'medium\\': {\\'w\\': 600, \\'h\\': 338, \\'resize\\': \\'fit\\'}, \\'small\\': {\\'w\\': 340, \\'h\\': 191, \\'resize\\': \\'fit\\'}}, \\'source_status_id\\': 839149481669058562, \\'source_status_id_str\\': \\'839149481669058562\\', \\'source_user_id\\': 17934812, \\'source_user_id_str\\': \\'17934812\\', \\'video_info\\': {\\'aspect_ratio\\': [16, 9], \\'duration_millis\\': 23790, \\'variants\\': [{\\'bitrate\\': 320000, \\'content_type\\': \\'video/mp4\\', \\'url\\': \\'https://video.twimg.com/ext_tw_video/839149174692151300/pu/vid/320x180/1lDY_dPupLDMGLIH.mp4\\'}, {\\'content_type\\': \\'application/x-mpegURL\\', \\'url\\': \\'https://video.twimg.com/ext_tw_video/839149174692151300/pu/pl/FT6qFJW-fo9pQcHP.m3u8\\'}, {\\'bitrate\\': 832000, \\'content_type\\': \\'video/mp4\\', \\'url\\': \\'https://video.twimg.com/ext_tw_video/839149174692151300/pu/vid/640x360/Dl-epF6iO1G26FN8.mp4\\'}]}, \\'additional_media_info\\': {\\'monetizable\\': False}}]}, \\'source\\': \\'<a href=\"http://twitter.com/download/iphone\" rel=\"nofollow\">Twitter for iPhone</a>\\', \\'in_reply_to_status_id\\': None, \\'in_reply_to_status_id_str\\': None, \\'in_reply_to_user_id\\': None, \\'in_reply_to_user_id_str\\': None, \\'in_reply_to_screen_name\\': None, \\'geo\\': None, \\'coordinates\\': None, \\'place\\': None, \\'contributors\\': None, \\'retweeted_status\\': {\\'created_at\\': \\'Tue Mar 07 16:23:21 +0000 2017\\', \\'id\\': 839149481669058562, \\'id_str\\': \\'839149481669058562\\', \\'text\\': \\'Episode 2017: The Painting https://t.co/cUykxUM5ZM\\', \\'truncated\\': False, \\'entities\\': {\\'hashtags\\': [], \\'symbols\\': [], \\'user_mentions\\': [], \\'urls\\': [], \\'media\\': [{\\'id\\': 839149174692151300, \\'id_str\\': \\'839149174692151300\\', \\'indices\\': [27, 50], \\'media_url\\': \\'http://pbs.twimg.com/ext_tw_video_thumb/839149174692151300/pu/img/4r2Z6P7LpHWVBXqe.jpg\\', \\'media_url_https\\': \\'https://pbs.twimg.com/ext_tw_video_thumb/839149174692151300/pu/img/4r2Z6P7LpHWVBXqe.jpg\\', \\'url\\': \\'https://t.co/cUykxUM5ZM\\', \\'display_url\\': \\'pic.twitter.com/cUykxUM5ZM\\', \\'expanded_url\\': \\'https://twitter.com/colinjones/status/839149481669058562/video/1\\', \\'type\\': \\'photo\\', \\'sizes\\': {\\'large\\': {\\'w\\': 960, \\'h\\': 540, \\'resize\\': \\'fit\\'}, \\'thumb\\': {\\'w\\': 150, \\'h\\': 150, \\'resize\\': \\'crop\\'}, \\'medium\\': {\\'w\\': 600, \\'h\\': 338, \\'resize\\': \\'fit\\'}, \\'small\\': {\\'w\\': 340, \\'h\\': 191, \\'resize\\': \\'fit\\'}}}]}, \\'extended_entities\\': {\\'media\\': [{\\'id\\': 839149174692151300, \\'id_str\\': \\'839149174692151300\\', \\'indices\\': [27, 50], \\'media_url\\': \\'http://pbs.twimg.com/ext_tw_video_thumb/839149174692151300/pu/img/4r2Z6P7LpHWVBXqe.jpg\\', \\'media_url_https\\': \\'https://pbs.twimg.com/ext_tw_video_thumb/839149174692151300/pu/img/4r2Z6P7LpHWVBXqe.jpg\\', \\'url\\': \\'https://t.co/cUykxUM5ZM\\', \\'display_url\\': \\'pic.twitter.com/cUykxUM5ZM\\', \\'expanded_url\\': \\'https://twitter.com/colinjones/status/839149481669058562/video/1\\', \\'type\\': \\'video\\', \\'sizes\\': {\\'large\\': {\\'w\\': 960, \\'h\\': 540, \\'resize\\': \\'fit\\'}, \\'thumb\\': {\\'w\\': 150, \\'h\\': 150, \\'resize\\': \\'crop\\'}, \\'medium\\': {\\'w\\': 600, \\'h\\': 338, \\'resize\\': \\'fit\\'}, \\'small\\': {\\'w\\': 340, \\'h\\': 191, \\'resize\\': \\'fit\\'}}, \\'video_info\\': {\\'aspect_ratio\\': [16, 9], \\'duration_millis\\': 23790, \\'variants\\': [{\\'bitrate\\': 320000, \\'content_type\\': \\'video/mp4\\', \\'url\\': \\'https://video.twimg.com/ext_tw_video/839149174692151300/pu/vid/320x180/1lDY_dPupLDMGLIH.mp4\\'}, {\\'content_type\\': \\'application/x-mpegURL\\', \\'url\\': \\'https://video.twimg.com/ext_tw_video/839149174692151300/pu/pl/FT6qFJW-fo9pQcHP.m3u8\\'}, {\\'bitrate\\': 832000, \\'content_type\\': \\'video/mp4\\', \\'url\\': \\'https://video.twimg.com/ext_tw_video/839149174692151300/pu/vid/640x360/Dl-epF6iO1G26FN8.mp4\\'}]}, \\'additional_media_info\\': {\\'monetizable\\': False}}]}, \\'source\\': \\'<a href=\"http://twitter.com\" rel=\"nofollow\">Twitter Web Client</a>\\', \\'in_reply_to_status_id\\': None, \\'in_reply_to_status_id_str\\': None, \\'in_reply_to_user_id\\': None, \\'in_reply_to_user_id_str\\': None, \\'in_reply_to_screen_name\\': None, \\'geo\\': None, \\'coordinates\\': None, \\'place\\': None, \\'contributors\\': None, \\'is_quote_status\\': False, \\'retweet_count\\': 3718, \\'favorite_count\\': 7178, \\'favorited\\': False, \\'retweeted\\': False, \\'possibly_sensitive\\': False, \\'lang\\': \\'en\\'}, \\'is_quote_status\\': False, \\'retweet_count\\': 3718, \\'favorite_count\\': 0, \\'favorited\\': False, \\'retweeted\\': False, \\'possibly_sensitive\\': False, \\'lang\\': \\'en\\'}, created_at=datetime.datetime(2017, 3, 8, 0, 9, 55), id=839266895379460097, id_str=\\'839266895379460097\\', text=\\'RT @colinjones: Episode 2017: The Painting https://t.co/cUykxUM5ZM\\', truncated=False, entities={\\'hashtags\\': [], \\'symbols\\': [], \\'user_mentions\\': [{\\'screen_name\\': \\'colinjones\\', \\'name\\': \\'Colin Jones\\', \\'id\\': 17934812, \\'id_str\\': \\'17934812\\', \\'indices\\': [3, 14]}], \\'urls\\': [], \\'media\\': [{\\'id\\': 839149174692151300, \\'id_str\\': \\'839149174692151300\\', \\'indices\\': [43, 66], \\'media_url\\': \\'http://pbs.twimg.com/ext_tw_video_thumb/839149174692151300/pu/img/4r2Z6P7LpHWVBXqe.jpg\\', \\'media_url_https\\': \\'https://pbs.twimg.com/ext_tw_video_thumb/839149174692151300/pu/img/4r2Z6P7LpHWVBXqe.jpg\\', \\'url\\': \\'https://t.co/cUykxUM5ZM\\', \\'display_url\\': \\'pic.twitter.com/cUykxUM5ZM\\', \\'expanded_url\\': \\'https://twitter.com/colinjones/status/839149481669058562/video/1\\', \\'type\\': \\'photo\\', \\'sizes\\': {\\'large\\': {\\'w\\': 960, \\'h\\': 540, \\'resize\\': \\'fit\\'}, \\'thumb\\': {\\'w\\': 150, \\'h\\': 150, \\'resize\\': \\'crop\\'}, \\'medium\\': {\\'w\\': 600, \\'h\\': 338, \\'resize\\': \\'fit\\'}, \\'small\\': {\\'w\\': 340, \\'h\\': 191, \\'resize\\': \\'fit\\'}}, \\'source_status_id\\': 839149481669058562, \\'source_status_id_str\\': \\'839149481669058562\\', \\'source_user_id\\': 17934812, \\'source_user_id_str\\': \\'17934812\\'}]}, extended_entities={\\'media\\': [{\\'id\\': 839149174692151300, \\'id_str\\': \\'839149174692151300\\', \\'indices\\': [43, 66], \\'media_url\\': \\'http://pbs.twimg.com/ext_tw_video_thumb/839149174692151300/pu/img/4r2Z6P7LpHWVBXqe.jpg\\', \\'media_url_https\\': \\'https://pbs.twimg.com/ext_tw_video_thumb/839149174692151300/pu/img/4r2Z6P7LpHWVBXqe.jpg\\', \\'url\\': \\'https://t.co/cUykxUM5ZM\\', \\'display_url\\': \\'pic.twitter.com/cUykxUM5ZM\\', \\'expanded_url\\': \\'https://twitter.com/colinjones/status/839149481669058562/video/1\\', \\'type\\': \\'video\\', \\'sizes\\': {\\'large\\': {\\'w\\': 960, \\'h\\': 540, \\'resize\\': \\'fit\\'}, \\'thumb\\': {\\'w\\': 150, \\'h\\': 150, \\'resize\\': \\'crop\\'}, \\'medium\\': {\\'w\\': 600, \\'h\\': 338, \\'resize\\': \\'fit\\'}, \\'small\\': {\\'w\\': 340, \\'h\\': 191, \\'resize\\': \\'fit\\'}}, \\'source_status_id\\': 839149481669058562, \\'source_status_id_str\\': \\'839149481669058562\\', \\'source_user_id\\': 17934812, \\'source_user_id_str\\': \\'17934812\\', \\'video_info\\': {\\'aspect_ratio\\': [16, 9], \\'duration_millis\\': 23790, \\'variants\\': [{\\'bitrate\\': 320000, \\'content_type\\': \\'video/mp4\\', \\'url\\': \\'https://video.twimg.com/ext_tw_video/839149174692151300/pu/vid/320x180/1lDY_dPupLDMGLIH.mp4\\'}, {\\'content_type\\': \\'application/x-mpegURL\\', \\'url\\': \\'https://video.twimg.com/ext_tw_video/839149174692151300/pu/pl/FT6qFJW-fo9pQcHP.m3u8\\'}, {\\'bitrate\\': 832000, \\'content_type\\': \\'video/mp4\\', \\'url\\': \\'https://video.twimg.com/ext_tw_video/839149174692151300/pu/vid/640x360/Dl-epF6iO1G26FN8.mp4\\'}]}, \\'additional_media_info\\': {\\'monetizable\\': False}}]}, source=\\'Twitter for iPhone\\', source_url=\\'http://twitter.com/download/iphone\\', in_reply_to_status_id=None, in_reply_to_status_id_str=None, in_reply_to_user_id=None, in_reply_to_user_id_str=None, in_reply_to_screen_name=None, geo=None, coordinates=None, place=None, contributors=None, retweeted_status=Status(_api=<tweepy.api.API object at 0x10d60c0b8>, _json={\\'created_at\\': \\'Tue Mar 07 16:23:21 +0000 2017\\', \\'id\\': 839149481669058562, \\'id_str\\': \\'839149481669058562\\', \\'text\\': \\'Episode 2017: The Painting https://t.co/cUykxUM5ZM\\', \\'truncated\\': False, \\'entities\\': {\\'hashtags\\': [], \\'symbols\\': [], \\'user_mentions\\': [], \\'urls\\': [], \\'media\\': [{\\'id\\': 839149174692151300, \\'id_str\\': \\'839149174692151300\\', \\'indices\\': [27, 50], \\'media_url\\': \\'http://pbs.twimg.com/ext_tw_video_thumb/839149174692151300/pu/img/4r2Z6P7LpHWVBXqe.jpg\\', \\'media_url_https\\': \\'https://pbs.twimg.com/ext_tw_video_thumb/839149174692151300/pu/img/4r2Z6P7LpHWVBXqe.jpg\\', \\'url\\': \\'https://t.co/cUykxUM5ZM\\', \\'display_url\\': \\'pic.twitter.com/cUykxUM5ZM\\', \\'expanded_url\\': \\'https://twitter.com/colinjones/status/839149481669058562/video/1\\', \\'type\\': \\'photo\\', \\'sizes\\': {\\'large\\': {\\'w\\': 960, \\'h\\': 540, \\'resize\\': \\'fit\\'}, \\'thumb\\': {\\'w\\': 150, \\'h\\': 150, \\'resize\\': \\'crop\\'}, \\'medium\\': {\\'w\\': 600, \\'h\\': 338, \\'resize\\': \\'fit\\'}, \\'small\\': {\\'w\\': 340, \\'h\\': 191, \\'resize\\': \\'fit\\'}}}]}, \\'extended_entities\\': {\\'media\\': [{\\'id\\': 839149174692151300, \\'id_str\\': \\'839149174692151300\\', \\'indices\\': [27, 50], \\'media_url\\': \\'http://pbs.twimg.com/ext_tw_video_thumb/839149174692151300/pu/img/4r2Z6P7LpHWVBXqe.jpg\\', \\'media_url_https\\': \\'https://pbs.twimg.com/ext_tw_video_thumb/839149174692151300/pu/img/4r2Z6P7LpHWVBXqe.jpg\\', \\'url\\': \\'https://t.co/cUykxUM5ZM\\', \\'display_url\\': \\'pic.twitter.com/cUykxUM5ZM\\', \\'expanded_url\\': \\'https://twitter.com/colinjones/status/839149481669058562/video/1\\', \\'type\\': \\'video\\', \\'sizes\\': {\\'large\\': {\\'w\\': 960, \\'h\\': 540, \\'resize\\': \\'fit\\'}, \\'thumb\\': {\\'w\\': 150, \\'h\\': 150, \\'resize\\': \\'crop\\'}, \\'medium\\': {\\'w\\': 600, \\'h\\': 338, \\'resize\\': \\'fit\\'}, \\'small\\': {\\'w\\': 340, \\'h\\': 191, \\'resize\\': \\'fit\\'}}, \\'video_info\\': {\\'aspect_ratio\\': [16, 9], \\'duration_millis\\': 23790, \\'variants\\': [{\\'bitrate\\': 320000, \\'content_type\\': \\'video/mp4\\', \\'url\\': \\'https://video.twimg.com/ext_tw_video/839149174692151300/pu/vid/320x180/1lDY_dPupLDMGLIH.mp4\\'}, {\\'content_type\\': \\'application/x-mpegURL\\', \\'url\\': \\'https://video.twimg.com/ext_tw_video/839149174692151300/pu/pl/FT6qFJW-fo9pQcHP.m3u8\\'}, {\\'bitrate\\': 832000, \\'content_type\\': \\'video/mp4\\', \\'url\\': \\'https://video.twimg.com/ext_tw_video/839149174692151300/pu/vid/640x360/Dl-epF6iO1G26FN8.mp4\\'}]}, \\'additional_media_info\\': {\\'monetizable\\': False}}]}, \\'source\\': \\'<a href=\"http://twitter.com\" rel=\"nofollow\">Twitter Web Client</a>\\', \\'in_reply_to_status_id\\': None, \\'in_reply_to_status_id_str\\': None, \\'in_reply_to_user_id\\': None, \\'in_reply_to_user_id_str\\': None, \\'in_reply_to_screen_name\\': None, \\'geo\\': None, \\'coordinates\\': None, \\'place\\': None, \\'contributors\\': None, \\'is_quote_status\\': False, \\'retweet_count\\': 3718, \\'favorite_count\\': 7178, \\'favorited\\': False, \\'retweeted\\': False, \\'possibly_sensitive\\': False, \\'lang\\': \\'en\\'}, created_at=datetime.datetime(2017, 3, 7, 16, 23, 21), id=839149481669058562, id_str=\\'839149481669058562\\', text=\\'Episode 2017: The Painting https://t.co/cUykxUM5ZM\\', truncated=False, entities={\\'hashtags\\': [], \\'symbols\\': [], \\'user_mentions\\': [], \\'urls\\': [], \\'media\\': [{\\'id\\': 839149174692151300, \\'id_str\\': \\'839149174692151300\\', \\'indices\\': [27, 50], \\'media_url\\': \\'http://pbs.twimg.com/ext_tw_video_thumb/839149174692151300/pu/img/4r2Z6P7LpHWVBXqe.jpg\\', \\'media_url_https\\': \\'https://pbs.twimg.com/ext_tw_video_thumb/839149174692151300/pu/img/4r2Z6P7LpHWVBXqe.jpg\\', \\'url\\': \\'https://t.co/cUykxUM5ZM\\', \\'display_url\\': \\'pic.twitter.com/cUykxUM5ZM\\', \\'expanded_url\\': \\'https://twitter.com/colinjones/status/839149481669058562/video/1\\', \\'type\\': \\'photo\\', \\'sizes\\': {\\'large\\': {\\'w\\': 960, \\'h\\': 540, \\'resize\\': \\'fit\\'}, \\'thumb\\': {\\'w\\': 150, \\'h\\': 150, \\'resize\\': \\'crop\\'}, \\'medium\\': {\\'w\\': 600, \\'h\\': 338, \\'resize\\': \\'fit\\'}, \\'small\\': {\\'w\\': 340, \\'h\\': 191, \\'resize\\': \\'fit\\'}}}]}, extended_entities={\\'media\\': [{\\'id\\': 839149174692151300, \\'id_str\\': \\'839149174692151300\\', \\'indices\\': [27, 50], \\'media_url\\': \\'http://pbs.twimg.com/ext_tw_video_thumb/839149174692151300/pu/img/4r2Z6P7LpHWVBXqe.jpg\\', \\'media_url_https\\': \\'https://pbs.twimg.com/ext_tw_video_thumb/839149174692151300/pu/img/4r2Z6P7LpHWVBXqe.jpg\\', \\'url\\': \\'https://t.co/cUykxUM5ZM\\', \\'display_url\\': \\'pic.twitter.com/cUykxUM5ZM\\', \\'expanded_url\\': \\'https://twitter.com/colinjones/status/839149481669058562/video/1\\', \\'type\\': \\'video\\', \\'sizes\\': {\\'large\\': {\\'w\\': 960, \\'h\\': 540, \\'resize\\': \\'fit\\'}, \\'thumb\\': {\\'w\\': 150, \\'h\\': 150, \\'resize\\': \\'crop\\'}, \\'medium\\': {\\'w\\': 600, \\'h\\': 338, \\'resize\\': \\'fit\\'}, \\'small\\': {\\'w\\': 340, \\'h\\': 191, \\'resize\\': \\'fit\\'}}, \\'video_info\\': {\\'aspect_ratio\\': [16, 9], \\'duration_millis\\': 23790, \\'variants\\': [{\\'bitrate\\': 320000, \\'content_type\\': \\'video/mp4\\', \\'url\\': \\'https://video.twimg.com/ext_tw_video/839149174692151300/pu/vid/320x180/1lDY_dPupLDMGLIH.mp4\\'}, {\\'content_type\\': \\'application/x-mpegURL\\', \\'url\\': \\'https://video.twimg.com/ext_tw_video/839149174692151300/pu/pl/FT6qFJW-fo9pQcHP.m3u8\\'}, {\\'bitrate\\': 832000, \\'content_type\\': \\'video/mp4\\', \\'url\\': \\'https://video.twimg.com/ext_tw_video/839149174692151300/pu/vid/640x360/Dl-epF6iO1G26FN8.mp4\\'}]}, \\'additional_media_info\\': {\\'monetizable\\': False}}]}, source=\\'Twitter Web Client\\', source_url=\\'http://twitter.com\\', in_reply_to_status_id=None, in_reply_to_status_id_str=None, in_reply_to_user_id=None, in_reply_to_user_id_str=None, in_reply_to_screen_name=None, geo=None, coordinates=None, place=None, contributors=None, is_quote_status=False, retweet_count=3718, favorite_count=7178, favorited=False, retweeted=False, possibly_sensitive=False, lang=\\'en\\'), is_quote_status=False, retweet_count=3718, favorite_count=0, favorited=False, retweeted=False, possibly_sensitive=False, lang=\\'en\\')', 'default_profile': False, 'default_profile_image': False, 'has_extended_profile': False, 'name': 'Gene Parmesan'}\n",
            "\n",
            "Model prediction: not bot ---> Ground truth: not bot\n"
          ]
        }
      ]
    },
    {
      "cell_type": "code",
      "source": [
        "# # Check incorrect predictions\n",
        "# for test_idx in range(len(df_test)):\n",
        "#     input = df_test.iloc[test_idx].values[:-1]\n",
        "#     input_gt = df_test.iloc[test_idx].values[-1]\n",
        "#     inp = pre_process(input)\n",
        "#     label_dict = {0:'not bot', 1: 'Bot'}\n",
        "#     outputs = model(inp['input_ids'].to('cuda'), inp['attention_mask'].to('cuda'))\n",
        "#     label_idx = np.argmax(outputs.detach().cpu().numpy())\n",
        "#     if label_dict[label_idx] != label_dict[input_gt]:\n",
        "#         print(test_idx)"
      ],
      "metadata": {
        "id": "xicYxfRJNT0v"
      },
      "execution_count": 21,
      "outputs": []
    },
    {
      "cell_type": "code",
      "source": [],
      "metadata": {
        "id": "iY6pmM7z1BeB"
      },
      "execution_count": 21,
      "outputs": []
    }
  ]
}